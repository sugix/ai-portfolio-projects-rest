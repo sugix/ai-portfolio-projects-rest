version https://git-lfs.github.com/spec/v1
oid sha256:3e68e70ab38d0c40942fada8c1879b02e22324ce664b1c81b8c859285ffd543e
size 68812
