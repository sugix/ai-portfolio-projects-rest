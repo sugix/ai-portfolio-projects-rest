version https://git-lfs.github.com/spec/v1
oid sha256:6a52ee08e9864c5d9cf601f0dd292850de0e08f3cf36a9efb9f8e050cc43c5e5
size 58237
