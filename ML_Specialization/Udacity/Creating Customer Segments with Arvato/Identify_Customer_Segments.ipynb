version https://git-lfs.github.com/spec/v1
oid sha256:9f33ca27f02a8ef74efd47a21f7eb4bd14573a2485dacaab38f644c05f6429d3
size 320225
