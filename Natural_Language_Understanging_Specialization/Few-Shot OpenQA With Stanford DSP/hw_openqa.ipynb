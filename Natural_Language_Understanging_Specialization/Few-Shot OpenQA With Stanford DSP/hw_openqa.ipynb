{
  "cells": [
    {
      "cell_type": "markdown",
      "id": "cf85bea0-68bf-4405-96ec-37579b2e9587",
      "metadata": {
        "id": "cf85bea0-68bf-4405-96ec-37579b2e9587"
      },
      "source": [
        "# Homework and bakeoff: Few-shot OpenQA with DSP"
      ]
    },
    {
      "cell_type": "code",
      "execution_count": null,
      "id": "a28e9bf5-7956-4c63-9129-7f2cbc468075",
      "metadata": {
        "id": "a28e9bf5-7956-4c63-9129-7f2cbc468075"
      },
      "outputs": [],
      "source": [
        "__author__ = \"Christopher Potts and Omar Khattab\"\n",
        "__version__ = \"CS224u, Stanford, Spring 2023\""
      ]
    },
    {
      "cell_type": "markdown",
      "id": "b7b5d964-a45c-496a-bb46-8f31d7b2d591",
      "metadata": {
        "id": "b7b5d964-a45c-496a-bb46-8f31d7b2d591"
      },
      "source": [
        "[![Open In Colab](https://colab.research.google.com/assets/colab-badge.svg)](https://colab.research.google.com/github/cgpotts/cs224u/blob/master/hw_openqa.ipynb)\n",
        "[![Open in SageMaker Studio Lab](https://studiolab.sagemaker.aws/studiolab.svg)](https://studiolab.sagemaker.aws/import/github/cgpotts/cs224u/blob/master/hw_openqa.ipynb)\n",
        "\n",
        "If Colab is opened with this badge, please **save a copy to drive** (from the File menu) before running the notebook."
      ]
    },
    {
      "cell_type": "markdown",
      "id": "d8570fc5-2ac0-4c0e-b350-71990937ebd8",
      "metadata": {
        "id": "d8570fc5-2ac0-4c0e-b350-71990937ebd8"
      },
      "source": [
        "## Overview"
      ]
    },
    {
      "cell_type": "markdown",
      "id": "f4da2d82-8c54-4d41-a59d-891f83f85f6e",
      "metadata": {
        "id": "f4da2d82-8c54-4d41-a59d-891f83f85f6e"
      },
      "source": [
        "The goal of this homework is to explore retrieval-augmented in-context learning. This is an exciting area that brings together a number of recent task ideas and modeling innovations. We will use the [DSP programming library](https://github.com/stanfordnlp/dsp) to build systems in this new mode.\n",
        "\n",
        "Our core task is __open-domain question answering (OpenQA)__. In this task, all that is given by the dataset is a question text, and the task is to answer that question. By contrast, in modern QA tasks, the dataset provides a text and a gold passage, usually with a firm guarantee that the answer will be a substring of the passage.\n",
        "\n",
        "OpenQA is substantially harder than standard QA. The usual strategy is to use a _retriever_ to find passages in a large collection of texts and train a _reader_ to find answers in those passages. This means we have no guarantee that the retrieved passage will contain the answer we need. If we don't retrieve a passage containing the answer, our reader has no hope of succeeding. Although this is challenging, it is much more realistic and widely applicable than standard QA. After all, with the right retriever, an OpenQA system could be deployed over the entire Web.\n",
        "\n",
        "The task posed by this homework is harder even than OpenQA. We are calling this task __few-shot OpenQA__. The defining feature of this task is that the reader is simply a frozen, general purpose language model. It accepts string inputs (prompts) and produces text in response. It is not trained to answer questions per se, and nothing about its structure ensures that it will respond with a substring of the prompt corresponding to anything like an answer.\n",
        "\n",
        "__Few-shot QA__ (but not OpenQA!) is explored in the famous GPT-3 paper ([Brown et al. 2020](https://arxiv.org/abs/2005.14165)). The authors are able to get traction on the problem using GPT-3, an incredible finding. Our task here – __few-shot OpenQA__ – pushes this even further by retrieving passages to use in the prompt rather than assuming that the gold passage can be used in the prompt. If we can make this work, then it should be a major step towards flexibly and easily deploying QA technologies in new domains.\n",
        "\n",
        "In summary:\n",
        "\n",
        "| Task             | Passage given | Task-specific reader training |Task-specific retriever training  |\n",
        "|-----------------:|:-------------:|:-----------------------------:|:--------------------------------:|\n",
        "| QA               | yes           | yes                           | n/a                              |\n",
        "| OpenQA           | no            | yes                           | maybe                            |\n",
        "| Few-shot QA      | yes           | no                            | n/a                              |\n",
        "| Few-shot OpenQA  | no            | no                            | maybe                            |\n",
        "\n",
        "Just to repeat: your mission is to explore the final line in this table. The core notebook and assignment don't address the issue of training the retriever in a task-specific way, but this is something you could pursue for a final project; [the ColBERT codebase](https://github.com/stanford-futuredata/ColBERT) makes easy.\n",
        "\n",
        "As usual, this notebook sets up the task and provides starter code. We will be relying on the DSP library, which allows us to define retrieval-augmented in-context learning systems in code. We first provide two fully implemented examples:\n",
        "\n",
        "* _Few-shot OpenQA_: The given input is a question and the goal is to provide an answer. Some _demonstration_ Q/A pairs are sampled from a train set (in our case, SQuAD).\n",
        "\n",
        "* _Few-shot QA with context_: The given input is a question with an associated evidence passage, and the goal is to provide an answer. The _demonstrations_ are now Q/A pairs with associated gold evidence passages. These are sampled from a train set (in our case, SQuAD).\n",
        "\n",
        "The above examples are followed by some assignment questions aimed at helping you to think creatively about the problem. The first of these defines a core system for our target task:\n",
        "\n",
        "* _Few-shot OpenQA with context_: This is like _few-shot QA with context_ except the passages are now retrieved from a large search index using ColBERT.\n",
        "\n",
        "The second question illustrates how to use the powerful DSP `annotate` function to improve the set of demonstrations used by the system.\n",
        "\n",
        "It is a requirement of the bake-off that a general-purpose language model be used. In particular, trained QA systems cannot be used at all, and no fine-tuning is allowed either. See the original system question at the bottom of this message for guidance on which models are allowed.\n",
        "\n",
        "Note: the models we are working with here are _big_. This poses a challenge that is increasingly common in NLP: you have to pay one way or another. You can pay to use the GPT-3 API, or you can pay to use an Eleuther model on a heavy-duty cluster computer, or you can pay with time by using an Eleuther model on a more modest computer.  __For now, though, the Cohere models are free to use, so they should be your first choice; see [setup.ipynb](setup.ipynb) if you don't have an account__."
      ]
    },
    {
      "cell_type": "markdown",
      "id": "0cd32bb4-067f-4cd6-943f-3e5574400beb",
      "metadata": {
        "id": "0cd32bb4-067f-4cd6-943f-3e5574400beb"
      },
      "source": [
        "## Set-up"
      ]
    },
    {
      "cell_type": "markdown",
      "id": "149bcb0f-bc76-4277-a359-742d6dcee063",
      "metadata": {
        "id": "149bcb0f-bc76-4277-a359-742d6dcee063"
      },
      "source": [
        "We have sought to make this notebook self-contained and easy to use on a personal computer, on Google Colab, and in Sagemaker Studio. For personal computer use, we assume you have already done everything in [setup.ipynb](setup.ipynb]). For cloud usage, the next few code blocks should handle all set-up steps."
      ]
    },
    {
      "cell_type": "code",
      "execution_count": null,
      "id": "62b983bb-a20a-4c2a-9eee-9c553dd8c070",
      "metadata": {
        "id": "62b983bb-a20a-4c2a-9eee-9c553dd8c070"
      },
      "outputs": [],
      "source": [
        "try:\n",
        "    # This library is our indicator that the required installs\n",
        "    # need to be done.\n",
        "    import datasets\n",
        "    root_path = '.'\n",
        "except ModuleNotFoundError:\n",
        "    !git clone https://github.com/cgpotts/cs224u/\n",
        "    !pip install -r cs224u/requirements.txt\n",
        "    root_path = 'dsp'"
      ]
    },
    {
      "cell_type": "code",
      "execution_count": null,
      "id": "a04cb488-cd40-4f9d-b884-8ff83b012042",
      "metadata": {
        "id": "a04cb488-cd40-4f9d-b884-8ff83b012042"
      },
      "outputs": [],
      "source": [
        "import cohere\n",
        "from datasets import load_dataset\n",
        "import openai\n",
        "import os\n",
        "import dsp"
      ]
    },
    {
      "cell_type": "code",
      "execution_count": null,
      "id": "c9da704b-d27b-480a-93b5-e16cf7c51803",
      "metadata": {
        "id": "c9da704b-d27b-480a-93b5-e16cf7c51803"
      },
      "outputs": [],
      "source": [
        "os.environ[\"DSP_NOTEBOOK_CACHEDIR\"] = os.path.join(root_path, 'cache')\n",
        "\n",
        "#openai_key = os.getenv('OPENAI_API_KEY')  # or replace with your API key (optional)\n",
        "cohere_key = os.getenv('COHERE_API_KEY',) # or replace with your API key (optional)\n",
        "\n",
        "colbert_server = 'http://index.contextual.ai:8893/api/search'"
      ]
    },
    {
      "cell_type": "markdown",
      "id": "562fc500-bbab-48b7-a704-67c6d57bb09b",
      "metadata": {
        "id": "562fc500-bbab-48b7-a704-67c6d57bb09b"
      },
      "source": [
        "Here we establish the Language Model `lm` and Retriever Model `rm` that we will be using. The defaults for `lm` are just for development. You may want to develop using an inexpensive model and then do your final evalautions wih an expensive one."
      ]
    },
    {
      "cell_type": "code",
      "execution_count": null,
      "id": "c118b014-e13f-433d-ad60-074636c7e738",
      "metadata": {
        "id": "c118b014-e13f-433d-ad60-074636c7e738"
      },
      "outputs": [],
      "source": [
        "lm = dsp.GPT3(model='text-davinci-001', api_key=openai_key)\n",
        "\n",
        "# Options for Cohere: command-medium-nightly, command-xlarge-nightly\n",
        "#lm = dsp.Cohere(model='command-xlarge-nightly', api_key=cohere_key)\n",
        "\n",
        "rm = dsp.ColBERTv2(url=colbert_server)\n",
        "\n",
        "dsp.settings.configure(lm=lm, rm=rm)"
      ]
    },
    {
      "cell_type": "markdown",
      "id": "711785d7-6bb9-4041-92e6-cc5f9308477e",
      "metadata": {
        "id": "711785d7-6bb9-4041-92e6-cc5f9308477e"
      },
      "source": [
        "Here's a command you can run to see which OpenAI models are available; OpenAI has entered into an increasingly closed mode where many older models are not available, so there are likely to be some surprises lurking here:"
      ]
    },
    {
      "cell_type": "code",
      "execution_count": null,
      "id": "8a859fbb-e985-4031-b8ed-34f3b034db8d",
      "metadata": {
        "id": "8a859fbb-e985-4031-b8ed-34f3b034db8d"
      },
      "outputs": [],
      "source": [
        "# [d[\"root\"] for d in openai.Model.list()[\"data\"]]"
      ]
    },
    {
      "cell_type": "markdown",
      "id": "0f0b3dc2-87d7-4b8b-b603-ee567e008710",
      "metadata": {
        "id": "0f0b3dc2-87d7-4b8b-b603-ee567e008710"
      },
      "source": [
        "## SQuAD"
      ]
    },
    {
      "cell_type": "markdown",
      "id": "de295d35-fea5-46d2-9a01-022ad88e54cd",
      "metadata": {
        "id": "de295d35-fea5-46d2-9a01-022ad88e54cd"
      },
      "source": [
        "Our core development dataset is [SQuAD](https://rajpurkar.github.io/SQuAD-explorer/). We chose this dataset because it is well-known and widely used, and it is large enough to support lots of meaningful development work, without, though, being so large as to require lots of compute power. It is also useful that it has gold passages supporting the standard QA formulation, so we can see how well our LM performs with an \"oracle\" retriever that always retrieves the gold passage."
      ]
    },
    {
      "cell_type": "code",
      "execution_count": null,
      "id": "5eaf2fd0-d060-4100-8702-f7311efd6129",
      "metadata": {
        "id": "5eaf2fd0-d060-4100-8702-f7311efd6129",
        "colab": {
          "base_uri": "https://localhost:8080/",
          "height": 66,
          "referenced_widgets": [
            "0e4564c339f8446dbbb7a2192220c0ed",
            "3b43b1b0dcca418fba715dbfc86918a4",
            "147e979f888b4a2788e9a100c3034f2a",
            "f87fd64c58f84b4ab255602046acdf84",
            "8cb668e362d84fe798f8c4dae0b7fa4f",
            "84540d158fc24fabad2138016d21e04d",
            "cf015479361e437cafd5371a5528b122",
            "7bdc8bd47dee46dabb831a1d67dd6d94",
            "c341d6bc68e846cc906c530961aa1ccf",
            "04c19309527c4c43ab4c03f5ddaae0b0",
            "7cd7bf6ba54c45ea806c03653728c264"
          ]
        },
        "outputId": "e045962a-d743-4d9f-db8a-9808701299b5"
      },
      "outputs": [
        {
          "output_type": "stream",
          "name": "stderr",
          "text": [
            "WARNING:datasets.builder:Found cached dataset squad (/root/.cache/huggingface/datasets/squad/plain_text/1.0.0/d6ec3ceb99ca480ce37cdd35555d6cb2511d223b9150cce08a837ef62ffea453)\n"
          ]
        },
        {
          "output_type": "display_data",
          "data": {
            "text/plain": [
              "  0%|          | 0/2 [00:00<?, ?it/s]"
            ],
            "application/vnd.jupyter.widget-view+json": {
              "version_major": 2,
              "version_minor": 0,
              "model_id": "0e4564c339f8446dbbb7a2192220c0ed"
            }
          },
          "metadata": {}
        }
      ],
      "source": [
        "squad = load_dataset(\"squad\")"
      ]
    },
    {
      "cell_type": "markdown",
      "id": "36965402-e3da-4531-b7e9-4b12cebcdf30",
      "metadata": {
        "id": "36965402-e3da-4531-b7e9-4b12cebcdf30"
      },
      "source": [
        "The following utility just reads a SQuAD split in as a list of `SquadExample` instances:"
      ]
    },
    {
      "cell_type": "code",
      "execution_count": null,
      "id": "21ad3e0b-7662-43b8-9409-a1a57442458b",
      "metadata": {
        "id": "21ad3e0b-7662-43b8-9409-a1a57442458b"
      },
      "outputs": [],
      "source": [
        "def get_squad_split(squad, split=\"validation\"):\n",
        "    \"\"\"\n",
        "    Use `split='train'` for the train split.\n",
        "\n",
        "    Returns\n",
        "    -------\n",
        "    list of SquadExample named tuples with attributes\n",
        "    id, title, context, question, answers\n",
        "\n",
        "    \"\"\"\n",
        "    data = zip(*[squad[split][field] for field in squad[split].features])\n",
        "    return [dsp.Example(id=eid, title=title, context=context, question=q, answer=a['text'])\n",
        "            for eid, title, context, q, a in data]"
      ]
    },
    {
      "cell_type": "markdown",
      "id": "a3847d38-4e70-46b7-bf46-4c8b784c5ee5",
      "metadata": {
        "id": "a3847d38-4e70-46b7-bf46-4c8b784c5ee5"
      },
      "source": [
        "### SQuAD train"
      ]
    },
    {
      "cell_type": "markdown",
      "id": "051c91e1-586b-4747-be39-3092e60f182f",
      "metadata": {
        "id": "051c91e1-586b-4747-be39-3092e60f182f"
      },
      "source": [
        "To build few-shot prompts, we will often sample SQuAD train examples, so we load that split here:"
      ]
    },
    {
      "cell_type": "code",
      "execution_count": null,
      "id": "66c4feba-d580-4984-a449-0b92a53ef13a",
      "metadata": {
        "id": "66c4feba-d580-4984-a449-0b92a53ef13a"
      },
      "outputs": [],
      "source": [
        "squad_train = get_squad_split(squad, split=\"train\")"
      ]
    },
    {
      "cell_type": "markdown",
      "id": "22ab8c41-8eae-4d15-ad4d-e28b3c58eb4a",
      "metadata": {
        "id": "22ab8c41-8eae-4d15-ad4d-e28b3c58eb4a"
      },
      "source": [
        "### SQuAD dev"
      ]
    },
    {
      "cell_type": "code",
      "execution_count": null,
      "id": "37198b33-c47b-4e0e-af8b-c00860658cc6",
      "metadata": {
        "id": "37198b33-c47b-4e0e-af8b-c00860658cc6"
      },
      "outputs": [],
      "source": [
        "squad_dev = get_squad_split(squad)"
      ]
    },
    {
      "cell_type": "markdown",
      "id": "0c40c768-57cc-4a07-a3ef-5e34262b0ace",
      "metadata": {
        "id": "0c40c768-57cc-4a07-a3ef-5e34262b0ace"
      },
      "source": [
        "### SQuAD dev sample"
      ]
    },
    {
      "cell_type": "markdown",
      "id": "636601b5-c7ad-4177-a6d6-f3afdb0bedae",
      "metadata": {
        "id": "636601b5-c7ad-4177-a6d6-f3afdb0bedae"
      },
      "source": [
        "Evaluations are expensive in this new era! Here's a small sample to use for dev assessments:"
      ]
    },
    {
      "cell_type": "code",
      "execution_count": null,
      "id": "3ecce47a-ecd2-4143-8c52-81700c060b9a",
      "metadata": {
        "id": "3ecce47a-ecd2-4143-8c52-81700c060b9a"
      },
      "outputs": [],
      "source": [
        "dev_exs = sorted(squad_dev, key=lambda x: hash(x.id))[: 200]"
      ]
    },
    {
      "cell_type": "markdown",
      "id": "6ba48440-4a65-41e8-b397-7b79f65fa0fe",
      "metadata": {
        "id": "6ba48440-4a65-41e8-b397-7b79f65fa0fe"
      },
      "source": [
        "## Evaluation"
      ]
    },
    {
      "cell_type": "markdown",
      "id": "27e8734a-49a1-4093-a2fb-09bb7d2f2859",
      "metadata": {
        "id": "27e8734a-49a1-4093-a2fb-09bb7d2f2859"
      },
      "source": [
        "Our evaluation protocols are the standard ones for SQuAD and related tasks: exact match of the answer (EM) and token-level F1. We'll reply primarily on DSP for these evaluation utilities; the following is a light modification of `dsp.evaluation.utils.evaluateAnswer`, which is itself built evaluation code from [apple/ml-qrecc](https://github.com/apple/ml-qrecc/blob/main/utils/evaluate_qa.py) repository. It performs very basic string normalization before doing the core comparisons."
      ]
    },
    {
      "cell_type": "code",
      "execution_count": null,
      "id": "5e8bf612-5195-4f4a-b72a-bf9faf128142",
      "metadata": {
        "id": "5e8bf612-5195-4f4a-b72a-bf9faf128142"
      },
      "outputs": [],
      "source": [
        "from dsp.utils import EM, F1\n",
        "import tqdm\n",
        "import pandas as pd\n",
        "\n",
        "def evaluateAnswer(fn, dev):\n",
        "    \"\"\"Evaluate a DSP program on `dev`.\n",
        "\n",
        "    Parameters\n",
        "    ----------\n",
        "    fn : DSP system\n",
        "    def : list of `dsp.Example` instances\n",
        "\n",
        "    Returns\n",
        "    -------\n",
        "    dict with keys \"df\", \"em\", \"f1\" storung assessment data\n",
        "    \"\"\"\n",
        "    data = []\n",
        "    for example in tqdm.tqdm(dev):\n",
        "        prediction = fn(example)\n",
        "        d = dict(example)\n",
        "        pred = prediction.answer\n",
        "        d['prediction'] = pred\n",
        "        d['em'] = EM(pred, example.answer)\n",
        "        d['f1'] = F1(pred, example.answer)\n",
        "        data.append(d)\n",
        "    df = pd.DataFrame(data)\n",
        "    em = round(100.0 * df['em'].sum() / len(dev), 1)\n",
        "    df['em'] = df['em'].apply(lambda x: '✔️' if x else '❌')\n",
        "    f1 = df['f1'].mean()\n",
        "    return {'df': df, 'em': em, 'f1': f1}"
      ]
    },
    {
      "cell_type": "markdown",
      "id": "28265d01-890d-4f04-b518-da0e8a1cb235",
      "metadata": {
        "id": "28265d01-890d-4f04-b518-da0e8a1cb235"
      },
      "source": [
        "## DSP basics"
      ]
    },
    {
      "cell_type": "markdown",
      "id": "101b9d12-fc8c-4aae-b09e-0d72a4aa54f5",
      "metadata": {
        "id": "101b9d12-fc8c-4aae-b09e-0d72a4aa54f5"
      },
      "source": [
        "### LM usage"
      ]
    },
    {
      "cell_type": "markdown",
      "id": "c278daac-11f9-4327-a06f-1c408a06a71d",
      "metadata": {
        "id": "c278daac-11f9-4327-a06f-1c408a06a71d"
      },
      "source": [
        "Here's the most basic way to use the LM:"
      ]
    },
    {
      "cell_type": "code",
      "execution_count": null,
      "id": "02364ed6-3c6d-4eaf-849a-2d9e30d84b53",
      "metadata": {
        "id": "02364ed6-3c6d-4eaf-849a-2d9e30d84b53",
        "colab": {
          "base_uri": "https://localhost:8080/"
        },
        "outputId": "41ac66b4-5438-48e8-af19-a1fcbe41e40c"
      },
      "outputs": [
        {
          "output_type": "execute_result",
          "data": {
            "text/plain": [
              "[' The U.S. states that border no other U.S. states are:\\n- Hawaii\\n- Alaska\\n- Delaware\\n- Rhode Island\\n- New Jersey\\n- Connecticut\\n- Massachusetts']"
            ]
          },
          "metadata": {},
          "execution_count": 28
        }
      ],
      "source": [
        "lm(\"Which U.S. states border no U.S. states?\")"
      ]
    },
    {
      "cell_type": "markdown",
      "id": "2356d9a8-750b-4383-bc5b-4173ca5c13ac",
      "metadata": {
        "id": "2356d9a8-750b-4383-bc5b-4173ca5c13ac"
      },
      "source": [
        "Keyword arguments to the underlying LM are passed through:"
      ]
    },
    {
      "cell_type": "code",
      "execution_count": null,
      "id": "19ab8deb-3b9d-4f57-bd70-7c170be294c5",
      "metadata": {
        "id": "19ab8deb-3b9d-4f57-bd70-7c170be294c5",
        "colab": {
          "base_uri": "https://localhost:8080/"
        },
        "outputId": "4a14b645-567e-4a16-a8b6-0ee136f9b3bf"
      },
      "outputs": [
        {
          "output_type": "execute_result",
          "data": {
            "text/plain": [
              "[' The U.S. states that border no other U.S. states are Hawaii, and Alaska.',\n",
              " ' Four U.S. states border no other U.S. states. They are:\\nAlaska \\nHawaii\\nMontana \\nWyoming',\n",
              " ' Alaska and Hawaii are the only two states in the United States that border no other states. Alaska borders Canada and Hawaii borders the Pacific Ocean.',\n",
              " ' Maine and New Hampshire border Canada, not any U.S. states.']"
            ]
          },
          "metadata": {},
          "execution_count": 29
        }
      ],
      "source": [
        "lm(\"Which U.S. states border no U.S. states?\", temperature=0.9, n=4)"
      ]
    },
    {
      "cell_type": "markdown",
      "id": "c50e8d99-6d49-420d-ab5d-cc01b53cd4a1",
      "metadata": {
        "id": "c50e8d99-6d49-420d-ab5d-cc01b53cd4a1"
      },
      "source": [
        "With `lm.inspect_history`, we can see the most recent language model calls:"
      ]
    },
    {
      "cell_type": "code",
      "execution_count": null,
      "id": "4f7cb5a5-3a3f-4e78-b9af-488fadc896ab",
      "metadata": {
        "id": "4f7cb5a5-3a3f-4e78-b9af-488fadc896ab",
        "colab": {
          "base_uri": "https://localhost:8080/"
        },
        "outputId": "e4f6d1a3-f407-4d2d-8edc-b584dd574dac"
      },
      "outputs": [
        {
          "output_type": "stream",
          "name": "stdout",
          "text": [
            "\n",
            "\n",
            "\n",
            "\n",
            "Which U.S. states border no U.S. states?\u001b[32m The U.S. states that border no other U.S. states are Hawaii, and Alaska.\u001b[0m\u001b[31m \t (and 3 other completions)\u001b[0m\n",
            "\n",
            "\n",
            "\n"
          ]
        }
      ],
      "source": [
        "lm.inspect_history(n=1)"
      ]
    },
    {
      "cell_type": "markdown",
      "id": "d9a0f2df-df1f-422d-bff3-6c4a3d947f6e",
      "metadata": {
        "id": "d9a0f2df-df1f-422d-bff3-6c4a3d947f6e"
      },
      "source": [
        "### Prompt templates"
      ]
    },
    {
      "cell_type": "markdown",
      "id": "f60d49d4-f690-496a-a0ab-341096d8c1fb",
      "metadata": {
        "id": "f60d49d4-f690-496a-a0ab-341096d8c1fb"
      },
      "source": [
        "In DSP, the more usual way to call the LM is to define a prompt template. Here we define a generic QA prompt template:"
      ]
    },
    {
      "cell_type": "code",
      "execution_count": null,
      "id": "4f6f50d6-e296-412f-a959-62e776b6f27c",
      "metadata": {
        "id": "4f6f50d6-e296-412f-a959-62e776b6f27c"
      },
      "outputs": [],
      "source": [
        "Question = dsp.Type(\n",
        "    prefix=\"Question:\",\n",
        "    desc=\"${the question to be answered}\")\n",
        "\n",
        "Answer = dsp.Type(\n",
        "    prefix=\"Answer:\",\n",
        "    desc=\"${a short factoid answer, often between 1 and 5 words}\",\n",
        "    format=dsp.format_answers)\n",
        "\n",
        "qa_template = dsp.Template(\n",
        "    instructions=\"Answer questions with short factoid answers.\",\n",
        "    question=Question(),\n",
        "    answer=Answer())"
      ]
    },
    {
      "cell_type": "markdown",
      "id": "9cfd383f-aa80-44ab-a381-f53e3b8e6631",
      "metadata": {
        "id": "9cfd383f-aa80-44ab-a381-f53e3b8e6631"
      },
      "source": [
        "And here is a self-contained example that uses our question and template to create a prompt:"
      ]
    },
    {
      "cell_type": "code",
      "execution_count": null,
      "id": "b846dd8b-f8d6-44c6-9079-342bc3f54969",
      "metadata": {
        "id": "b846dd8b-f8d6-44c6-9079-342bc3f54969",
        "colab": {
          "base_uri": "https://localhost:8080/"
        },
        "outputId": "ae3e0a61-8994-4807-94cc-f464a066f59a"
      },
      "outputs": [
        {
          "output_type": "stream",
          "name": "stdout",
          "text": [
            "Answer questions with short factoid answers.\n",
            "\n",
            "---\n",
            "\n",
            "Follow the following format.\n",
            "\n",
            "Question: ${the question to be answered}\n",
            "Answer: ${a short factoid answer, often between 1 and 5 words}\n",
            "\n",
            "---\n",
            "\n",
            "Question: What album made her a worldwide known artist?\n",
            "Answer: Dangerously in Love\n",
            "\n",
            "Question: Immunoassays are able to detect what type of proteins?\n",
            "Answer: generated by an infected organism in response to a foreign agent\n",
            "\n",
            "Question: Which U.S. states border no U.S. states?\n",
            "Answer:\n"
          ]
        }
      ],
      "source": [
        "states_ex = dsp.Example(\n",
        "    question=\"Which U.S. states border no U.S. states?\",\n",
        "    demos=dsp.sample(squad_train, k=2))\n",
        "\n",
        "print(qa_template(states_ex))"
      ]
    },
    {
      "cell_type": "markdown",
      "id": "cb58e275-99a9-45dc-8ae9-fcbdc191f66b",
      "metadata": {
        "id": "cb58e275-99a9-45dc-8ae9-fcbdc191f66b"
      },
      "source": [
        "### Prompt-based generation"
      ]
    },
    {
      "cell_type": "markdown",
      "id": "5e0be5e0-7e7f-4e81-bcc0-4ce7a882eecd",
      "metadata": {
        "id": "5e0be5e0-7e7f-4e81-bcc0-4ce7a882eecd"
      },
      "source": [
        "We can how put the above pieces together to call the model with our constructed prompt:"
      ]
    },
    {
      "cell_type": "code",
      "execution_count": null,
      "id": "9c7d277c-a0aa-46c7-b0c3-1c7264efe75e",
      "metadata": {
        "id": "9c7d277c-a0aa-46c7-b0c3-1c7264efe75e"
      },
      "outputs": [],
      "source": [
        "states_ex, states_compl = dsp.generate(qa_template)(states_ex, stage='basics')"
      ]
    },
    {
      "cell_type": "code",
      "execution_count": null,
      "id": "413b75c4-8706-4936-a26b-b45c254b3e13",
      "metadata": {
        "id": "413b75c4-8706-4936-a26b-b45c254b3e13",
        "colab": {
          "base_uri": "https://localhost:8080/"
        },
        "outputId": "dc6080b3-187d-4b70-f602-5351160b9ca9"
      },
      "outputs": [
        {
          "output_type": "stream",
          "name": "stdout",
          "text": [
            "Hawaii\n"
          ]
        }
      ],
      "source": [
        "print(states_compl.answer)"
      ]
    },
    {
      "cell_type": "markdown",
      "id": "d8460291-5c58-44bf-9d7e-02176ee6fc43",
      "metadata": {
        "id": "d8460291-5c58-44bf-9d7e-02176ee6fc43"
      },
      "source": [
        "And here's precisely what the model saw and did:"
      ]
    },
    {
      "cell_type": "code",
      "execution_count": null,
      "id": "820774e4-339f-4263-9493-9f91e7743a17",
      "metadata": {
        "id": "820774e4-339f-4263-9493-9f91e7743a17",
        "colab": {
          "base_uri": "https://localhost:8080/"
        },
        "outputId": "b08e8524-ef4e-48d1-999a-4b18dbdf42e9"
      },
      "outputs": [
        {
          "output_type": "stream",
          "name": "stdout",
          "text": [
            "\n",
            "\n",
            "\n",
            "\n",
            "Answer questions with short factoid answers.\n",
            "\n",
            "---\n",
            "\n",
            "Follow the following format.\n",
            "\n",
            "Question: ${the question to be answered}\n",
            "Answer: ${a short factoid answer, often between 1 and 5 words}\n",
            "\n",
            "---\n",
            "\n",
            "Question: What album made her a worldwide known artist?\n",
            "Answer: Dangerously in Love\n",
            "\n",
            "Question: Immunoassays are able to detect what type of proteins?\n",
            "Answer: generated by an infected organism in response to a foreign agent\n",
            "\n",
            "Question: Which U.S. states border no U.S. states?\n",
            "Answer:\u001b[32m Hawaii\u001b[0m\n",
            "\n",
            "\n",
            "\n"
          ]
        }
      ],
      "source": [
        "lm.inspect_history(n=1)"
      ]
    },
    {
      "cell_type": "markdown",
      "id": "b3f1b41d-760c-4f28-8a2d-7f037b4f9d97",
      "metadata": {
        "id": "b3f1b41d-760c-4f28-8a2d-7f037b4f9d97"
      },
      "source": [
        "### Retrieval"
      ]
    },
    {
      "cell_type": "markdown",
      "id": "51d4c8f4-a537-4d9b-9500-f881fceef1de",
      "metadata": {
        "id": "51d4c8f4-a537-4d9b-9500-f881fceef1de"
      },
      "source": [
        "The final major component of our systems is retrieval. When we defined `rm`, we connected to a remote ColBERT index and retriever system that we can now use for search."
      ]
    },
    {
      "cell_type": "code",
      "execution_count": null,
      "id": "2e395070-4c6f-4194-81ff-331e32eecd1f",
      "metadata": {
        "id": "2e395070-4c6f-4194-81ff-331e32eecd1f",
        "colab": {
          "base_uri": "https://localhost:8080/",
          "height": 35
        },
        "outputId": "e80bb146-7cbd-4fb1-d7e1-4411b220ff65"
      },
      "outputs": [
        {
          "output_type": "execute_result",
          "data": {
            "text/plain": [
              "'Which U.S. states border no U.S. states?'"
            ],
            "application/vnd.google.colaboratory.intrinsic+json": {
              "type": "string"
            }
          },
          "metadata": {},
          "execution_count": 29
        }
      ],
      "source": [
        "states_ex.question"
      ]
    },
    {
      "cell_type": "markdown",
      "id": "b5dfd114-96cf-468a-bac3-d3d39d6f3ca6",
      "metadata": {
        "id": "b5dfd114-96cf-468a-bac3-d3d39d6f3ca6"
      },
      "source": [
        "The basic `dsp.retrieve` method returns only passages:"
      ]
    },
    {
      "cell_type": "code",
      "execution_count": null,
      "id": "891fc391-c177-4da7-9332-ab20cdba3c0d",
      "metadata": {
        "id": "891fc391-c177-4da7-9332-ab20cdba3c0d"
      },
      "outputs": [],
      "source": [
        "passages = dsp.retrieve(states_ex.question, k=1)"
      ]
    },
    {
      "cell_type": "code",
      "execution_count": null,
      "id": "abdac37b-b5fe-421c-826f-4fd699cb2e36",
      "metadata": {
        "id": "abdac37b-b5fe-421c-826f-4fd699cb2e36",
        "colab": {
          "base_uri": "https://localhost:8080/"
        },
        "outputId": "4f027673-42df-4a52-97c8-c20a6a325701"
      },
      "outputs": [
        {
          "output_type": "execute_result",
          "data": {
            "text/plain": [
              "['Mexico–United States border | has the shortest. Among the states in Mexico, Chihuahua has the longest border with the United States, while Nuevo León has the shortest. Texas borders four Mexican states—Tamaulipas, Nuevo León, Coahuila, and Chihuahua—the most of any U.S. states. New Mexico and Arizona each borders two Mexican states (Chihuahua and Sonora; Sonora and Baja California, respectively). California borders only Baja California. Three Mexican states border two U.S. states each: Baja California borders California and Arizona; Sonora borders Arizona and New Mexico; and Chihuahua borders New Mexico and Texas. Tamaulipas, Nuevo León, and Coahuila each borders only one U.S. state: Texas. The']"
            ]
          },
          "metadata": {},
          "execution_count": 31
        }
      ],
      "source": [
        "passages"
      ]
    },
    {
      "cell_type": "markdown",
      "id": "a4e1f577-408c-4ede-9e27-65a24aafca5f",
      "metadata": {
        "id": "a4e1f577-408c-4ede-9e27-65a24aafca5f"
      },
      "source": [
        "If we need passages with scores and other metadata, we can call `rm` directly:"
      ]
    },
    {
      "cell_type": "code",
      "execution_count": null,
      "id": "37f4ff3d-de41-4fc7-8943-6dfd894dd1f4",
      "metadata": {
        "id": "37f4ff3d-de41-4fc7-8943-6dfd894dd1f4",
        "colab": {
          "base_uri": "https://localhost:8080/"
        },
        "outputId": "5798000f-9c9f-421d-b23e-bf52086b1f30"
      },
      "outputs": [
        {
          "output_type": "execute_result",
          "data": {
            "text/plain": [
              "[{'pid': 6140356,\n",
              "  'prob': 1.0,\n",
              "  'rank': 1,\n",
              "  'score': 22.40652084350586,\n",
              "  'text': 'Mexico–United States border | has the shortest. Among the states in Mexico, Chihuahua has the longest border with the United States, while Nuevo León has the shortest. Texas borders four Mexican states—Tamaulipas, Nuevo León, Coahuila, and Chihuahua—the most of any U.S. states. New Mexico and Arizona each borders two Mexican states (Chihuahua and Sonora; Sonora and Baja California, respectively). California borders only Baja California. Three Mexican states border two U.S. states each: Baja California borders California and Arizona; Sonora borders Arizona and New Mexico; and Chihuahua borders New Mexico and Texas. Tamaulipas, Nuevo León, and Coahuila each borders only one U.S. state: Texas. The',\n",
              "  'long_text': 'Mexico–United States border | has the shortest. Among the states in Mexico, Chihuahua has the longest border with the United States, while Nuevo León has the shortest. Texas borders four Mexican states—Tamaulipas, Nuevo León, Coahuila, and Chihuahua—the most of any U.S. states. New Mexico and Arizona each borders two Mexican states (Chihuahua and Sonora; Sonora and Baja California, respectively). California borders only Baja California. Three Mexican states border two U.S. states each: Baja California borders California and Arizona; Sonora borders Arizona and New Mexico; and Chihuahua borders New Mexico and Texas. Tamaulipas, Nuevo León, and Coahuila each borders only one U.S. state: Texas. The'}]"
            ]
          },
          "metadata": {},
          "execution_count": 32
        }
      ],
      "source": [
        "rm(states_ex.question, k=1)"
      ]
    },
    {
      "cell_type": "markdown",
      "id": "db2017ee-1375-4251-a24f-7f792852ffac",
      "metadata": {
        "id": "db2017ee-1375-4251-a24f-7f792852ffac"
      },
      "source": [
        "## Few-shot OpenQA"
      ]
    },
    {
      "cell_type": "markdown",
      "id": "fa1dc2c2-8d8b-4cd2-a40f-ee023932359a",
      "metadata": {
        "id": "fa1dc2c2-8d8b-4cd2-a40f-ee023932359a"
      },
      "source": [
        "With the above pieces in place, we can define our first DSP system. This one does few-shot OpenQA with no context passages. In essense, our prompts contain\n",
        "\n",
        "1. A sequences of Q/A demonstrations (no context passages).\n",
        "2. The target question (no context passage).\n",
        "\n",
        "Here is the full system; note the use of the decorator `@dsp.transformation` – this will ensure that no `example` instances are modified when the program is used."
      ]
    },
    {
      "cell_type": "code",
      "execution_count": null,
      "id": "df25de1c-ee5c-42ec-b1f0-a7194ba6063a",
      "metadata": {
        "id": "df25de1c-ee5c-42ec-b1f0-a7194ba6063a"
      },
      "outputs": [],
      "source": [
        "@dsp.transformation\n",
        "def few_shot_openqa(example, train=squad_train, k=2):\n",
        "    example.demos = dsp.sample(train, k=k)\n",
        "    example, completions = dsp.generate(qa_template)(example, stage='qa')\n",
        "    return completions"
      ]
    },
    {
      "cell_type": "markdown",
      "id": "952dd9d4-ba1f-4689-a548-4e216610f268",
      "metadata": {
        "id": "952dd9d4-ba1f-4689-a548-4e216610f268"
      },
      "source": [
        "There are really just two steps here. Let's go through them individually. Our example:"
      ]
    },
    {
      "cell_type": "code",
      "execution_count": null,
      "id": "b15bb28d-d46e-4a26-ab01-42c73ef953ef",
      "metadata": {
        "id": "b15bb28d-d46e-4a26-ab01-42c73ef953ef",
        "colab": {
          "base_uri": "https://localhost:8080/"
        },
        "outputId": "65818e93-3ffd-4aef-af2a-d4bc96ba9d51"
      },
      "outputs": [
        {
          "output_type": "execute_result",
          "data": {
            "text/plain": [
              "{'id': '56be4db0acb8001400a502ec',\n",
              " 'title': 'Super_Bowl_50',\n",
              " 'context': 'Super Bowl 50 was an American football game to determine the champion of the National Football League (NFL) for the 2015 season. The American Football Conference (AFC) champion Denver Broncos defeated the National Football Conference (NFC) champion Carolina Panthers 24–10 to earn their third Super Bowl title. The game was played on February 7, 2016, at Levi\\'s Stadium in the San Francisco Bay Area at Santa Clara, California. As this was the 50th Super Bowl, the league emphasized the \"golden anniversary\" with various gold-themed initiatives, as well as temporarily suspending the tradition of naming each Super Bowl game with Roman numerals (under which the game would have been known as \"Super Bowl L\"), so that the logo could prominently feature the Arabic numerals 50.',\n",
              " 'question': 'Which NFL team represented the AFC at Super Bowl 50?',\n",
              " 'answer': ['Denver Broncos', 'Denver Broncos', 'Denver Broncos']}"
            ]
          },
          "metadata": {},
          "execution_count": 34
        }
      ],
      "source": [
        "ex = squad_dev[0].copy()\n",
        "\n",
        "ex"
      ]
    },
    {
      "cell_type": "markdown",
      "id": "ed8407fb-a556-45f0-9c2a-92d08fbba5f7",
      "metadata": {
        "id": "ed8407fb-a556-45f0-9c2a-92d08fbba5f7"
      },
      "source": [
        "We add some demonstrations:"
      ]
    },
    {
      "cell_type": "code",
      "execution_count": null,
      "id": "1cb1e73b-7368-4b95-bf63-d4ef05f1ec2a",
      "metadata": {
        "id": "1cb1e73b-7368-4b95-bf63-d4ef05f1ec2a",
        "colab": {
          "base_uri": "https://localhost:8080/"
        },
        "outputId": "9366c1e3-2164-4daf-de02-132cb42b18b7"
      },
      "outputs": [
        {
          "output_type": "execute_result",
          "data": {
            "text/plain": [
              "{'id': '56be4db0acb8001400a502ec',\n",
              " 'title': 'Super_Bowl_50',\n",
              " 'context': 'Super Bowl 50 was an American football game to determine the champion of the National Football League (NFL) for the 2015 season. The American Football Conference (AFC) champion Denver Broncos defeated the National Football Conference (NFC) champion Carolina Panthers 24–10 to earn their third Super Bowl title. The game was played on February 7, 2016, at Levi\\'s Stadium in the San Francisco Bay Area at Santa Clara, California. As this was the 50th Super Bowl, the league emphasized the \"golden anniversary\" with various gold-themed initiatives, as well as temporarily suspending the tradition of naming each Super Bowl game with Roman numerals (under which the game would have been known as \"Super Bowl L\"), so that the logo could prominently feature the Arabic numerals 50.',\n",
              " 'question': 'Which NFL team represented the AFC at Super Bowl 50?',\n",
              " 'answer': ['Denver Broncos', 'Denver Broncos', 'Denver Broncos'],\n",
              " 'demos': [{'id': '56bf6b0f3aeaaa14008c9604',\n",
              "   'title': 'Beyoncé',\n",
              "   'context': 'Beyoncé Giselle Knowles-Carter (/biːˈjɒnseɪ/ bee-YON-say) (born September 4, 1981) is an American singer, songwriter, record producer and actress. Born and raised in Houston, Texas, she performed in various singing and dancing competitions as a child, and rose to fame in the late 1990s as lead singer of R&B girl-group Destiny\\'s Child. Managed by her father, Mathew Knowles, the group became one of the world\\'s best-selling girl groups of all time. Their hiatus saw the release of Beyoncé\\'s debut album, Dangerously in Love (2003), which established her as a solo artist worldwide, earned five Grammy Awards and featured the Billboard Hot 100 number-one singles \"Crazy in Love\" and \"Baby Boy\".',\n",
              "   'question': 'What album made her a worldwide known artist?',\n",
              "   'answer': ['Dangerously in Love']},\n",
              "  {'id': '57342720d058e614000b6a29',\n",
              "   'title': 'Infection',\n",
              "   'context': \"Complex serological techniques have been developed into what are known as Immunoassays. Immunoassays can use the basic antibody – antigen binding as the basis to produce an electro - magnetic or particle radiation signal, which can be detected by some form of instrumentation. Signal of unknowns can be compared to that of standards allowing quantitation of the target antigen. To aid in the diagnosis of infectious diseases, immunoassays can detect or measure antigens from either infectious agents or proteins generated by an infected organism in response to a foreign agent. For example, immunoassay A may detect the presence of a surface protein from a virus particle. Immunoassay B on the other hand may detect or measure antibodies produced by an organism's immune system that are made to neutralize and allow the destruction of the virus.\",\n",
              "   'question': 'Immunoassays are able to detect what type of proteins?',\n",
              "   'answer': ['generated by an infected organism in response to a foreign agent']}]}"
            ]
          },
          "metadata": {},
          "execution_count": 35
        }
      ],
      "source": [
        "ex.demos = dsp.sample(squad_train, k=2)\n",
        "\n",
        "ex"
      ]
    },
    {
      "cell_type": "markdown",
      "id": "9ae66b9f-ff8d-4952-bc59-f2da0d949089",
      "metadata": {
        "id": "9ae66b9f-ff8d-4952-bc59-f2da0d949089"
      },
      "source": [
        "And then we call the LM using `qa_template`:"
      ]
    },
    {
      "cell_type": "code",
      "execution_count": null,
      "id": "fc564cf6-d1d2-4a11-b0f2-58bfce3e34ce",
      "metadata": {
        "id": "fc564cf6-d1d2-4a11-b0f2-58bfce3e34ce"
      },
      "outputs": [],
      "source": [
        "ex, ex_compl = dsp.generate(qa_template)(ex, stage='qa')"
      ]
    },
    {
      "cell_type": "markdown",
      "id": "a000eec9-a63b-41fc-9641-60110996f231",
      "metadata": {
        "id": "a000eec9-a63b-41fc-9641-60110996f231"
      },
      "source": [
        "Here, `ex_compl` is a `Completions` instance. We will typically use only the `answer` attribute:"
      ]
    },
    {
      "cell_type": "code",
      "execution_count": null,
      "id": "ba4656bd-2f21-47b0-85f7-91720076be6e",
      "metadata": {
        "id": "ba4656bd-2f21-47b0-85f7-91720076be6e",
        "colab": {
          "base_uri": "https://localhost:8080/"
        },
        "outputId": "5e986cbf-bcbe-4410-ba82-08b5f2e4c06f"
      },
      "outputs": [
        {
          "output_type": "stream",
          "name": "stdout",
          "text": [
            "Denver Broncos\n"
          ]
        }
      ],
      "source": [
        "print(ex_compl.answer)"
      ]
    },
    {
      "cell_type": "markdown",
      "id": "297c0a19-84c4-4342-ac54-4750a2e70710",
      "metadata": {
        "id": "297c0a19-84c4-4342-ac54-4750a2e70710"
      },
      "source": [
        "And, as a final check, we can see precisely what the LM saw:"
      ]
    },
    {
      "cell_type": "code",
      "execution_count": null,
      "id": "57cb7634-4f80-4f8a-a855-f96c696717ee",
      "metadata": {
        "id": "57cb7634-4f80-4f8a-a855-f96c696717ee",
        "colab": {
          "base_uri": "https://localhost:8080/"
        },
        "outputId": "cc3f59f5-8bb8-46a3-b223-3c2bac9b8a2b"
      },
      "outputs": [
        {
          "output_type": "stream",
          "name": "stdout",
          "text": [
            "\n",
            "\n",
            "\n",
            "\n",
            "Answer questions with short factoid answers.\n",
            "\n",
            "---\n",
            "\n",
            "Follow the following format.\n",
            "\n",
            "Question: ${the question to be answered}\n",
            "Answer: ${a short factoid answer, often between 1 and 5 words}\n",
            "\n",
            "---\n",
            "\n",
            "Question: What album made her a worldwide known artist?\n",
            "Answer: Dangerously in Love\n",
            "\n",
            "Question: Immunoassays are able to detect what type of proteins?\n",
            "Answer: generated by an infected organism in response to a foreign agent\n",
            "\n",
            "Question: Which NFL team represented the AFC at Super Bowl 50?\n",
            "Answer:\u001b[32m Denver Broncos\u001b[0m\n",
            "\n",
            "\n",
            "\n"
          ]
        }
      ],
      "source": [
        "lm.inspect_history(n=1)"
      ]
    },
    {
      "cell_type": "markdown",
      "id": "6a4b36c9-5549-4e67-8f07-c640229e69cc",
      "metadata": {
        "id": "6a4b36c9-5549-4e67-8f07-c640229e69cc"
      },
      "source": [
        "## Few-shot QA with context"
      ]
    },
    {
      "cell_type": "markdown",
      "id": "4888840f-27d4-4f09-bcdc-6a95946fa8c5",
      "metadata": {
        "id": "4888840f-27d4-4f09-bcdc-6a95946fa8c5"
      },
      "source": [
        "The above system makes no use of evidence passages. As a first step toward bringing in such passages, we define a regular few-shot QA system. For this system, prompts contain:\n",
        "\n",
        "1. A sequences of Q/A demonstrations, each with a gold context passage.\n",
        "2. The target question with a gold context passage.\n",
        "\n",
        "This kind of system is very demanding in terms of data, since we need to have gold evidence passages for every Q/A pair used for demonstations and the Q that is our target. Datasets like SQuAD support this, but it's a rare situation in the world. (Our next system will address this by dropping the need for gold passages)."
      ]
    },
    {
      "cell_type": "markdown",
      "id": "2d451db1-a2c3-4c4f-982f-3a00e58c3ff6",
      "metadata": {
        "id": "2d451db1-a2c3-4c4f-982f-3a00e58c3ff6"
      },
      "source": [
        "### Template with context"
      ]
    },
    {
      "cell_type": "markdown",
      "id": "67513718-09e7-4386-ab78-aabac3b6e9ef",
      "metadata": {
        "id": "67513718-09e7-4386-ab78-aabac3b6e9ef"
      },
      "source": [
        "The first step toward defining this system is a new prompt template that includes context:"
      ]
    },
    {
      "cell_type": "code",
      "execution_count": null,
      "id": "47cd46e0-ca91-4fe3-bd2c-e4005a16669d",
      "metadata": {
        "id": "47cd46e0-ca91-4fe3-bd2c-e4005a16669d"
      },
      "outputs": [],
      "source": [
        "Context = dsp.Type(\n",
        "    prefix=\"Context:\\n\",\n",
        "    desc=\"${sources that may contain relevant content}\",\n",
        "    format=dsp.passages2text)\n",
        "\n",
        "qa_template_with_passages = dsp.Template(\n",
        "    instructions=qa_template.instructions,\n",
        "    context=Context(),\n",
        "    question=Question(),\n",
        "    answer=Answer())"
      ]
    },
    {
      "cell_type": "markdown",
      "id": "5a24aefd-0aa9-4b82-b8c3-42a06247bd14",
      "metadata": {
        "id": "5a24aefd-0aa9-4b82-b8c3-42a06247bd14"
      },
      "source": [
        "Here's what this does for a SQUaD example:"
      ]
    },
    {
      "cell_type": "code",
      "execution_count": null,
      "id": "9c0b3571-16e6-48a0-9225-e92430ed0082",
      "metadata": {
        "id": "9c0b3571-16e6-48a0-9225-e92430ed0082",
        "colab": {
          "base_uri": "https://localhost:8080/"
        },
        "outputId": "429acdc3-05dc-4023-fbb1-5600c8a16605"
      },
      "outputs": [
        {
          "output_type": "stream",
          "name": "stdout",
          "text": [
            "Answer questions with short factoid answers.\n",
            "\n",
            "---\n",
            "\n",
            "Context:\n",
            "Beyoncé Giselle Knowles-Carter (/biːˈjɒnseɪ/ bee-YON-say) (born September 4, 1981) is an American singer, songwriter, record producer and actress. Born and raised in Houston, Texas, she performed in various singing and dancing competitions as a child, and rose to fame in the late 1990s as lead singer of R&B girl-group Destiny's Child. Managed by her father, Mathew Knowles, the group became one of the world's best-selling girl groups of all time. Their hiatus saw the release of Beyoncé's debut album, Dangerously in Love (2003), which established her as a solo artist worldwide, earned five Grammy Awards and featured the Billboard Hot 100 number-one singles \"Crazy in Love\" and \"Baby Boy\".\n",
            "Question: What album made her a worldwide known artist?\n",
            "Answer: Dangerously in Love\n",
            "\n",
            "Context:\n",
            "Complex serological techniques have been developed into what are known as Immunoassays. Immunoassays can use the basic antibody – antigen binding as the basis to produce an electro - magnetic or particle radiation signal, which can be detected by some form of instrumentation. Signal of unknowns can be compared to that of standards allowing quantitation of the target antigen. To aid in the diagnosis of infectious diseases, immunoassays can detect or measure antigens from either infectious agents or proteins generated by an infected organism in response to a foreign agent. For example, immunoassay A may detect the presence of a surface protein from a virus particle. Immunoassay B on the other hand may detect or measure antibodies produced by an organism's immune system that are made to neutralize and allow the destruction of the virus.\n",
            "Question: Immunoassays are able to detect what type of proteins?\n",
            "Answer: generated by an infected organism in response to a foreign agent\n",
            "\n",
            "---\n",
            "\n",
            "Follow the following format.\n",
            "\n",
            "Context:\n",
            "${sources that may contain relevant content}\n",
            "\n",
            "Question: ${the question to be answered}\n",
            "\n",
            "Answer: ${a short factoid answer, often between 1 and 5 words}\n",
            "\n",
            "---\n",
            "\n",
            "Context:\n",
            "Super Bowl 50 was an American football game to determine the champion of the National Football League (NFL) for the 2015 season. The American Football Conference (AFC) champion Denver Broncos defeated the National Football Conference (NFC) champion Carolina Panthers 24–10 to earn their third Super Bowl title. The game was played on February 7, 2016, at Levi's Stadium in the San Francisco Bay Area at Santa Clara, California. As this was the 50th Super Bowl, the league emphasized the \"golden anniversary\" with various gold-themed initiatives, as well as temporarily suspending the tradition of naming each Super Bowl game with Roman numerals (under which the game would have been known as \"Super Bowl L\"), so that the logo could prominently feature the Arabic numerals 50.\n",
            "\n",
            "Question: Which NFL team represented the AFC at Super Bowl 50?\n",
            "\n",
            "Answer:\n"
          ]
        }
      ],
      "source": [
        "print(qa_template_with_passages(ex))"
      ]
    },
    {
      "cell_type": "markdown",
      "id": "78c0a313-ba07-4b1d-9da4-a3fbf11321ca",
      "metadata": {
        "id": "78c0a313-ba07-4b1d-9da4-a3fbf11321ca"
      },
      "source": [
        "### The system"
      ]
    },
    {
      "cell_type": "markdown",
      "id": "987a7406-dc46-4d6a-af19-198c11214211",
      "metadata": {
        "id": "987a7406-dc46-4d6a-af19-198c11214211"
      },
      "source": [
        "And here is the full system; the code is identical to `few_shot_openqa` except we now use `qa_template_with_passages`:"
      ]
    },
    {
      "cell_type": "code",
      "execution_count": null,
      "id": "90323a84-b5bb-4bb0-a20e-ee89d85d09e4",
      "metadata": {
        "id": "90323a84-b5bb-4bb0-a20e-ee89d85d09e4"
      },
      "outputs": [],
      "source": [
        "@dsp.transformation\n",
        "def few_shot_qa_with_context(example, train=squad_train, k=3):\n",
        "    example.demos = dsp.sample(train, k=k)\n",
        "    generator = dsp.generate(qa_template_with_passages)\n",
        "    example, completions = generator(example, stage='qa')\n",
        "    return completions"
      ]
    },
    {
      "cell_type": "code",
      "execution_count": null,
      "id": "4871b0f5-f736-4d85-bfbe-199be78ff4eb",
      "metadata": {
        "id": "4871b0f5-f736-4d85-bfbe-199be78ff4eb",
        "colab": {
          "base_uri": "https://localhost:8080/"
        },
        "outputId": "bc592526-bde6-4327-8621-5b95e7493ee6"
      },
      "outputs": [
        {
          "output_type": "stream",
          "name": "stdout",
          "text": [
            "Denver Broncos\n"
          ]
        }
      ],
      "source": [
        "print(few_shot_qa_with_context(squad_dev[0]).answer)"
      ]
    },
    {
      "cell_type": "code",
      "execution_count": null,
      "id": "9f6d5962-0993-4cac-9fc0-8ed18f608e11",
      "metadata": {
        "id": "9f6d5962-0993-4cac-9fc0-8ed18f608e11",
        "colab": {
          "base_uri": "https://localhost:8080/"
        },
        "outputId": "902f1756-50c4-4bcb-ac6c-312f5a1a0f49"
      },
      "outputs": [
        {
          "output_type": "stream",
          "name": "stdout",
          "text": [
            "\n",
            "\n",
            "\n",
            "\n",
            "Answer questions with short factoid answers.\n",
            "\n",
            "---\n",
            "\n",
            "Context:\n",
            "Beyoncé Giselle Knowles-Carter (/biːˈjɒnseɪ/ bee-YON-say) (born September 4, 1981) is an American singer, songwriter, record producer and actress. Born and raised in Houston, Texas, she performed in various singing and dancing competitions as a child, and rose to fame in the late 1990s as lead singer of R&B girl-group Destiny's Child. Managed by her father, Mathew Knowles, the group became one of the world's best-selling girl groups of all time. Their hiatus saw the release of Beyoncé's debut album, Dangerously in Love (2003), which established her as a solo artist worldwide, earned five Grammy Awards and featured the Billboard Hot 100 number-one singles \"Crazy in Love\" and \"Baby Boy\".\n",
            "Question: What album made her a worldwide known artist?\n",
            "Answer: Dangerously in Love\n",
            "\n",
            "Context:\n",
            "Complex serological techniques have been developed into what are known as Immunoassays. Immunoassays can use the basic antibody – antigen binding as the basis to produce an electro - magnetic or particle radiation signal, which can be detected by some form of instrumentation. Signal of unknowns can be compared to that of standards allowing quantitation of the target antigen. To aid in the diagnosis of infectious diseases, immunoassays can detect or measure antigens from either infectious agents or proteins generated by an infected organism in response to a foreign agent. For example, immunoassay A may detect the presence of a surface protein from a virus particle. Immunoassay B on the other hand may detect or measure antibodies produced by an organism's immune system that are made to neutralize and allow the destruction of the virus.\n",
            "Question: Immunoassays are able to detect what type of proteins?\n",
            "Answer: generated by an infected organism in response to a foreign agent\n",
            "\n",
            "Context:\n",
            "From the 10th to the 13th century, Romanesque architecture had become a pan-European style and manner of construction, affecting buildings in countries as far apart as Ireland, Croatia, Sweden and Sicily. The same wide geographic area was then affected by the development of Gothic architecture, but the acceptance of the Gothic style and methods of construction differed from place to place, as did the expressions of Gothic taste. The proximity of some regions meant that modern country borders do not define divisions of style. On the other hand, some regions such as England and Spain produced defining characteristics rarely seen elsewhere, except where they have been carried by itinerant craftsmen, or the transfer of bishops. Regional differences that are apparent in the great abbey churches and cathedrals of the Romanesque period often become even more apparent in the Gothic.\n",
            "Question: Why did country borders not affect differences in style within Gothic architecture?\n",
            "Answer: proximity of some regions\n",
            "\n",
            "---\n",
            "\n",
            "Follow the following format.\n",
            "\n",
            "Context:\n",
            "${sources that may contain relevant content}\n",
            "\n",
            "Question: ${the question to be answered}\n",
            "\n",
            "Answer: ${a short factoid answer, often between 1 and 5 words}\n",
            "\n",
            "---\n",
            "\n",
            "Context:\n",
            "Super Bowl 50 was an American football game to determine the champion of the National Football League (NFL) for the 2015 season. The American Football Conference (AFC) champion Denver Broncos defeated the National Football Conference (NFC) champion Carolina Panthers 24–10 to earn their third Super Bowl title. The game was played on February 7, 2016, at Levi's Stadium in the San Francisco Bay Area at Santa Clara, California. As this was the 50th Super Bowl, the league emphasized the \"golden anniversary\" with various gold-themed initiatives, as well as temporarily suspending the tradition of naming each Super Bowl game with Roman numerals (under which the game would have been known as \"Super Bowl L\"), so that the logo could prominently feature the Arabic numerals 50.\n",
            "\n",
            "Question: Which NFL team represented the AFC at Super Bowl 50?\n",
            "\n",
            "Answer:\u001b[32m Denver Broncos\u001b[0m\n",
            "\n",
            "\n",
            "\n"
          ]
        }
      ],
      "source": [
        "lm.inspect_history(n=1)"
      ]
    },
    {
      "cell_type": "markdown",
      "id": "ad912442-d489-48a7-90b3-eb85d5318771",
      "metadata": {
        "id": "ad912442-d489-48a7-90b3-eb85d5318771"
      },
      "source": [
        "## Dev evaluations"
      ]
    },
    {
      "cell_type": "markdown",
      "id": "5204ad57-6d89-44f3-bde4-d788784a9fff",
      "metadata": {
        "id": "5204ad57-6d89-44f3-bde4-d788784a9fff"
      },
      "source": [
        "This quick section shows some full evaluations using `evaluateAnswer` (see [Evaluation](#Evaluation) above). Depending on which model you're using, these evaluations could be expensive, so you might want to run them only sparingly. Here I am running them on just 25 dev examples to further avoid cost run-ups."
      ]
    },
    {
      "cell_type": "code",
      "execution_count": null,
      "id": "5465c228-9ada-4c70-a694-669b9629ee75",
      "metadata": {
        "id": "5465c228-9ada-4c70-a694-669b9629ee75"
      },
      "outputs": [],
      "source": [
        "tiny_dev = dev_exs[: 25]"
      ]
    },
    {
      "cell_type": "code",
      "execution_count": null,
      "id": "28ea0d8d-e51a-4b06-b7c7-aed2fcadb74d",
      "metadata": {
        "id": "28ea0d8d-e51a-4b06-b7c7-aed2fcadb74d"
      },
      "outputs": [],
      "source": [
        "#few_shot_openqa_results = evaluateAnswer(few_shot_openqa, tiny_dev)\n",
        "#\n",
        "#print(few_shot_openqa_results['em'])\n",
        "#print(few_shot_openqa_results['f1'])"
      ]
    },
    {
      "cell_type": "markdown",
      "id": "39992dc4-c066-453e-8e1a-247823b41865",
      "metadata": {
        "id": "39992dc4-c066-453e-8e1a-247823b41865"
      },
      "source": [
        "You can also see the full set of results:"
      ]
    },
    {
      "cell_type": "code",
      "execution_count": null,
      "id": "47d06cbf-1a36-4492-8b2a-7ffdb1e324e6",
      "metadata": {
        "id": "47d06cbf-1a36-4492-8b2a-7ffdb1e324e6"
      },
      "outputs": [],
      "source": [
        "#few_shot_openqa_results['df'].head()"
      ]
    },
    {
      "cell_type": "code",
      "execution_count": null,
      "id": "8fcb9157-bfde-4990-9379-3194b2cd4705",
      "metadata": {
        "id": "8fcb9157-bfde-4990-9379-3194b2cd4705"
      },
      "outputs": [],
      "source": [
        "# few_shot_qa_results = evaluateAnswer(few_shot_qa_with_context, tiny_dev)\n",
        "#\n",
        "# print(few_shot_qa_results['em'])\n",
        "# print(few_shot_qa_results['f1'])"
      ]
    },
    {
      "cell_type": "markdown",
      "id": "eeb28556-d901-4b6b-8a7d-93040203294d",
      "metadata": {
        "id": "eeb28556-d901-4b6b-8a7d-93040203294d"
      },
      "source": [
        "## Question 1: Few-shot OpenQA with context [3 points]"
      ]
    },
    {
      "cell_type": "markdown",
      "id": "1f481081-3e16-4ccd-b379-c7e0c3011286",
      "metadata": {
        "id": "1f481081-3e16-4ccd-b379-c7e0c3011286"
      },
      "source": [
        "Your task here is to define a first instance of our target system: Few-shot OpenQA with context passages. To do this, you simply complete `few_shot_openqa_with_context`:"
      ]
    },
    {
      "cell_type": "code",
      "execution_count": null,
      "id": "6ca394a8-be1a-4dfb-b9f6-b40f6b1fb146",
      "metadata": {
        "id": "6ca394a8-be1a-4dfb-b9f6-b40f6b1fb146"
      },
      "outputs": [],
      "source": [
        "@dsp.transformation\n",
        "def few_shot_openqa_with_context(example, train=squad_train, k=3):\n",
        "    # Sample `k` demonstrations from `train`:\n",
        "    ##### YOUR CODE HERE\n",
        "    demonstrations = dsp.sample(train, k=k)\n",
        "\n",
        "    # For each demonstration, retrieve one passage and add it\n",
        "    # as the `context` attribute` so we can use our template\n",
        "    # `qa_template_with_passages`:\n",
        "    ##### YOUR CODE HERE\n",
        "    for each_demonstration in demonstrations:\n",
        "      each_demonstration.context = dsp.retrieve(each_demonstration.question, k =1)\n",
        "\n",
        "\n",
        "    # Add the list of demonstrations to `example` as the `demos` attribute:\n",
        "    ##### YOUR CODE HERE\n",
        "    example.demos = demonstrations\n",
        "    # Add the list of demonstrations to `example` as the `demos` attribute:\n",
        "\n",
        "    # Retrieve a context passage for `example` itself and add it\n",
        "    # as the `context` attribute:\n",
        "    ##### YOUR CODE HERE\n",
        "    context_passage_for_example = dsp.retrieve(example.question, k = 1)\n",
        "    example.context = context_passage_for_example\n",
        "\n",
        "\n",
        "    # Use `dsp.generate` to call the model on `example` using\n",
        "    # `qa_template_with_passages`:\n",
        "    ##### YOUR CODE HERE\n",
        "    generator = dsp.generate(qa_template_with_passages)\n",
        "    example, completions = generator(example, stage='qa')\n",
        "\n",
        "    # Return the Completions instance returned by `dsp.generate`:\n",
        "    return completions\n",
        "    ##### YOUR CODE HERE\n",
        "\n",
        "\n"
      ]
    },
    {
      "cell_type": "markdown",
      "id": "271fd165-fd7f-4943-8af4-a83f0d976453",
      "metadata": {
        "id": "271fd165-fd7f-4943-8af4-a83f0d976453"
      },
      "source": [
        "A quick test you can use:"
      ]
    },
    {
      "cell_type": "code",
      "execution_count": null,
      "id": "1568f224-e6bb-443c-ae75-dd55a062d9fc",
      "metadata": {
        "id": "1568f224-e6bb-443c-ae75-dd55a062d9fc"
      },
      "outputs": [],
      "source": [
        "def test_few_shot_openqa_with_context(func):\n",
        "    ex = dsp.Example(question=\"Q0\", context=\"C0\", answer=[\"A0\"])\n",
        "    train = [\n",
        "        dsp.Example(question=\"Q1\", context=None, answer=[\"A1\"]),\n",
        "        dsp.Example(question=\"Q2\", context=None, answer=[\"A2\"]),\n",
        "        dsp.Example(question=\"Q3\", context=None, answer=[\"A3\"])]\n",
        "    compl = func(ex, train=train, k=2)\n",
        "    errcount = 0\n",
        "    # Check the LM was used as expected:\n",
        "    if len(compl.data) != 1:\n",
        "        errcount += 1\n",
        "        print(f\"Error for `{func.__name__}`: Unexpected LM output.\")\n",
        "    data = compl.data[0]\n",
        "    # Check that the right number of demos was used:\n",
        "    demos = data['demos']\n",
        "    if len(demos) > 2:\n",
        "        errcount += 1\n",
        "        print(f\"Error for `{func.__name__}`: \"\n",
        "              f\"Unexpected demo count: {len(demos)}\")\n",
        "    # Check that context passages were included in the prompt:\n",
        "    fields = compl.template.fields\n",
        "    if not any(f.name == 'Context:' for f in fields):\n",
        "        errcount += 1\n",
        "        print(f\"Error for `{func.__name__}`: \"\n",
        "              f\"No context passages in the prompt.\")\n",
        "    # Check that the context passages were retrieved:\n",
        "    if data['context'] == \"C0\":\n",
        "        errcount += 1\n",
        "        print(f\"Error for `{func.__name__}`: \"\n",
        "              f\"No context passage retrieved for the target.\")\n",
        "    for d in demos:\n",
        "        if d['context'] is None:\n",
        "            errcount += 1\n",
        "            print(f\"Error for `{func.__name__}`: \"\n",
        "                  f\"No context passage retrieved for demo {d}.\")\n",
        "    if errcount == 0:\n",
        "        print(f\"No errors found for `{func.__name__}`\")"
      ]
    },
    {
      "cell_type": "code",
      "execution_count": null,
      "id": "8efe5f07-df96-4d95-8334-8c4966b66269",
      "metadata": {
        "id": "8efe5f07-df96-4d95-8334-8c4966b66269",
        "colab": {
          "base_uri": "https://localhost:8080/"
        },
        "outputId": "c80d3c8a-fafa-4601-a59b-0f7510d8b8e1"
      },
      "outputs": [
        {
          "output_type": "stream",
          "name": "stdout",
          "text": [
            "No errors found for `few_shot_openqa_with_context`\n"
          ]
        }
      ],
      "source": [
        "test_few_shot_openqa_with_context(few_shot_openqa_with_context)"
      ]
    },
    {
      "cell_type": "code",
      "execution_count": null,
      "id": "2448dfa0-e945-44b6-a487-70e49675cf61",
      "metadata": {
        "id": "2448dfa0-e945-44b6-a487-70e49675cf61",
        "colab": {
          "base_uri": "https://localhost:8080/"
        },
        "outputId": "5eff1897-eec4-40f3-cae1-593fa03e62ec"
      },
      "outputs": [
        {
          "output_type": "stream",
          "name": "stdout",
          "text": [
            "\"uniquely special\"\n"
          ]
        }
      ],
      "source": [
        "print(few_shot_openqa_with_context(dev_exs[0]).answer)"
      ]
    },
    {
      "cell_type": "code",
      "execution_count": null,
      "id": "e9855ec2-84cc-4a2f-ad47-502c26e44dd8",
      "metadata": {
        "id": "e9855ec2-84cc-4a2f-ad47-502c26e44dd8",
        "colab": {
          "base_uri": "https://localhost:8080/"
        },
        "outputId": "234ab960-d82c-4361-8341-82fce0485ba2"
      },
      "outputs": [
        {
          "output_type": "stream",
          "name": "stdout",
          "text": [
            "\n",
            "\n",
            "\n",
            "\n",
            "Answer questions with short factoid answers.\n",
            "\n",
            "---\n",
            "\n",
            "Context:\n",
            "«Janet (album) | worldwide sales of over 14 million copies, it is Janet's best selling album. Although Jackson has reached superstar status in the United States, she has yet to achieve the same level of response internationally. According to Nacy Berry, vice chairman of Virgin Records, \"Janet\" marked the first time the label \"had centrally coordinated and strategized a campaign on a worldwide basis\" which ultimately brought her to a plateau of global recognition. Her historic multimillion-dollar contract made her the highest-paid artist in history, until brother Michael renegotiated his contract with Sony Music Entertainment only days later. Sonia Murry noted that she»\n",
            "Question: What album made her a worldwide known artist?\n",
            "Answer: Dangerously in Love\n",
            "\n",
            "Context:\n",
            "«Oligoclonal band | immunoassay\" are able to detect IgG OCBs in more than 95% of multiple sclerosis patients. Even more than 12 OCBs can appear in MS. Each one of them represent antibody proteins (or protein fragments) secreted by plasma cells, although why exactly these bands are present, and which proteins these bands represent, has not yet been fully elucidated. The target antigens for these antibodies are not easy to find because it requires to isolate a single kind of protein in each band, though new techniques are able to do so. In 40% of MS patients with OCBs, antibodies specific to the»\n",
            "Question: Immunoassays are able to detect what type of proteins?\n",
            "Answer: generated by an infected organism in response to a foreign agent\n",
            "\n",
            "Context:\n",
            "«Gothic architecture | and Sweden and Sicily. The same wide geographic area was then affected by the development of Gothic architecture, but the acceptance of the Gothic style and methods of construction differed from place to place, as did the expressions of Gothic taste. The proximity of some regions meant that modern country borders did not define divisions of style. On the other hand, some regions such as England and Spain produced defining characteristics rarely seen elsewhere, except where they have been carried by itinerant craftsmen, or the transfer of bishops. Many different factors like geographical/geological, economic, social, or political situations caused the»\n",
            "Question: Why did country borders not affect differences in style within Gothic architecture?\n",
            "Answer: proximity of some regions\n",
            "\n",
            "---\n",
            "\n",
            "Follow the following format.\n",
            "\n",
            "Context:\n",
            "${sources that may contain relevant content}\n",
            "\n",
            "Question: ${the question to be answered}\n",
            "\n",
            "Answer: ${a short factoid answer, often between 1 and 5 words}\n",
            "\n",
            "---\n",
            "\n",
            "Context:\n",
            "«Super Bowl 50 | with silver pants. The Panthers used the San Jose State practice facility and stayed at the San Jose Marriott. The Broncos practiced at Stanford University and stayed at the Santa Clara Marriott. On June 4, 2014, the NFL announced that the game would be branded with Arabic numerals as \"Super Bowl 50\"—rather than with Roman numerals, a practice established at Super Bowl V under which the game would have been known as \"Super Bowl L\". NFL creative director Shandon Melvin, explained that a primary reason for the change was the difficulty in designing an aesthetically pleasing logo with the letter»\n",
            "\n",
            "Question: What one word did the NFL commissioner use to describe what Super Bowl 50 was intended to be?\n",
            "\n",
            "Answer:\u001b[32m \"uniquely special\"\u001b[0m\n",
            "\n",
            "\n",
            "\n"
          ]
        }
      ],
      "source": [
        "lm.inspect_history(n=1)"
      ]
    },
    {
      "cell_type": "markdown",
      "id": "ddccccd5-78f9-47f6-b1d1-7f1171a12b51",
      "metadata": {
        "id": "ddccccd5-78f9-47f6-b1d1-7f1171a12b51"
      },
      "source": [
        "Here's an optional evaluation of the system using `tiny_dev`:"
      ]
    },
    {
      "cell_type": "code",
      "execution_count": null,
      "id": "11f2f036-f18f-4be2-983f-283c07d3e019",
      "metadata": {
        "id": "11f2f036-f18f-4be2-983f-283c07d3e019"
      },
      "outputs": [],
      "source": [
        "# few_shot_openqa_with_context_results = evaluateAnswer(\n",
        "#     few_shot_openqa_with_context, tiny_dev)\n",
        "#\n",
        "# few_shot_openqa_with_context_results['f1']"
      ]
    },
    {
      "cell_type": "markdown",
      "id": "9971ffd0-a563-4d56-a896-0735a63ae92f",
      "metadata": {
        "tags": [],
        "id": "9971ffd0-a563-4d56-a896-0735a63ae92f"
      },
      "source": [
        "## Question 2: Using annotate"
      ]
    },
    {
      "cell_type": "markdown",
      "id": "054b0fbd-b21b-4b6f-a24c-54235ad1833a",
      "metadata": {
        "id": "054b0fbd-b21b-4b6f-a24c-54235ad1833a"
      },
      "source": [
        "This question is designed to give you some experience with DSP's powerful `annotate` method. You can think of this as a generic tool for defining general aspects of your prompt. Here we will use it to filter the set of demonstrations we use.\n",
        "\n",
        "The overall idea here is that the demonstrations we sample might vary in quality in ways that could impact model performance. For example, if we want to try to push the model to provide extractive answers as in classical QA – answers that are substrings of the evidence passage – then it works against our interests to include demonstrations where the model is unabel to do this.\n",
        "\n",
        "We will do this in two parts to facilitate testing."
      ]
    },
    {
      "cell_type": "markdown",
      "id": "d268d575-7cfc-4fb6-9d12-87fcc14c59c1",
      "metadata": {
        "id": "d268d575-7cfc-4fb6-9d12-87fcc14c59c1"
      },
      "source": [
        "### Task 1: Filtering demonstrations 1 [2 points]"
      ]
    },
    {
      "cell_type": "markdown",
      "id": "ae208ecb-1569-4c4a-b105-828084f458ef",
      "metadata": {
        "id": "ae208ecb-1569-4c4a-b105-828084f458ef"
      },
      "source": [
        "This is the heart of the question: complete `filter_demos` so that, given a demonstration `d` and a list of demonstrations `demos`, it keeps `d` if and only if\n",
        "\n",
        "1. The passage retrieved for `d` contrains `d.answer`, and\n",
        "2. The model's generation for `d` based on `qa_template_with_passages` contains `d.answer`."
      ]
    },
    {
      "cell_type": "code",
      "execution_count": null,
      "id": "8d90e4d8-9ecb-4273-93f0-5d0550ec8da1",
      "metadata": {
        "id": "8d90e4d8-9ecb-4273-93f0-5d0550ec8da1"
      },
      "outputs": [],
      "source": [
        "@dsp.transformation\n",
        "def filter_demos(d):\n",
        "\n",
        "    # Retrieve a passage for `d.question` and make sure that it\n",
        "    # contains `d.answer`. Use `dsp.passage_match` for this!\n",
        "    # return None if there is no match.\n",
        "    ##### YOUR CODE HERE\n",
        "    passage_for_dques = dsp.retrieve(d.question, k = 1)\n",
        "    is_passage_for_dques_contains_danswer = True if dsp.passage_match(passage_for_dques, d.answer) else False\n",
        "    if not is_passage_for_dques_contains_danswer:\n",
        "      return None\n",
        "\n",
        "\n",
        "    # Sample `k=3` demonstrations to help the model assess this\n",
        "    # potential demonstration:\n",
        "    ##### YOUR CODE HERE\n",
        "    d.demos = dsp.sample(squad_train, k = 3)\n",
        "\n",
        "\n",
        "\n",
        "    # Generate an answer based on `qa_template_with_passages`\n",
        "    # and use `dsp.answer_match` to check that the predicted answer\n",
        "    # contains `d.answer`. If it does not, return None.\n",
        "    ##### YOUR CODE HERE\n",
        "    generator = dsp.generate(qa_template_with_passages)\n",
        "    example, completions = generator(d, stage='qa')\n",
        "    predict_match = True if dsp.answer_match(completions.answer, d.answer) else False\n",
        "    if not predict_match:\n",
        "      return None\n",
        "\n",
        "\n",
        "    # Return d, if you got this far:\n",
        "    return d\n",
        "    ##### YOUR CODE HERE\n",
        "\n",
        "\n"
      ]
    },
    {
      "cell_type": "markdown",
      "id": "9674c760-e507-4b60-9f17-5fc91500a68e",
      "metadata": {
        "id": "9674c760-e507-4b60-9f17-5fc91500a68e"
      },
      "source": [
        "Here's a test; this is not an ideal unit test because we don't know which LM you will be using, but it should clarify our intentions and help you with debugging."
      ]
    },
    {
      "cell_type": "code",
      "execution_count": null,
      "id": "66812d32-cc0b-4736-8483-4bb3812f1e9f",
      "metadata": {
        "id": "66812d32-cc0b-4736-8483-4bb3812f1e9f"
      },
      "outputs": [],
      "source": [
        "def test_filter_demos(func):\n",
        "    # This example should be filtered at the retrieval step, since\n",
        "    # 👽 is not in the index:\n",
        "    ex1 = dsp.Example(\n",
        "        question=\"Who is 👽?\", context=\"C0\", answer=[\"👽\"])\n",
        "    result1 = func(ex1)\n",
        "    errcount = 0\n",
        "    if result1 is not None:\n",
        "        errcount += 1\n",
        "        print(f\"Error for `{func.__name__}`: Expected {None}, got {result1}\")\n",
        "    # This example should not be filtered given our tester LM:\n",
        "    ex2 = dsp.Example(\n",
        "        question=\"Who is Beyoncé?\", context=\"C0\", answer=[\"Beyoncé\"])\n",
        "    # This example should be filtered given our tester LM:\n",
        "    ex3 = dsp.Example(\n",
        "        question=\"Who is Beyoncé?\", context=\"C0\", answer=[\"NO MATCH\"])\n",
        "    class TestLM:\n",
        "        def __init__(self, **kwargs):\n",
        "            self.kwargs = kwargs\n",
        "            self.history = []\n",
        "\n",
        "        def __call__(self, prompt, **kwargs):\n",
        "            answer = [\"Beyoncé\"]\n",
        "            return answer\n",
        "    dsp.settings.configure(lm=TestLM(), rm=rm)\n",
        "    try:\n",
        "        result2 = func(ex2)\n",
        "        if result2 is None:\n",
        "            errcount += 1\n",
        "            print(f\"Error for `{func.__name__}`: \"\n",
        "                  f\"Expected example not to be filtered by `answer_match`.\")\n",
        "        result3 = func(ex3)\n",
        "        if result3 is not None:\n",
        "            errcount += 1\n",
        "            print(f\"Error for `{func.__name__}`: \"\n",
        "                  f\"Expected example to be filtered by `answer_match`.\")\n",
        "    except:\n",
        "        raise\n",
        "    finally:\n",
        "        # Restore the actual model:\n",
        "        dsp.settings.configure(lm=lm, rm=rm)\n",
        "    if errcount == 0:\n",
        "        print(f\"No errors detected for `{func.__name__}`\")"
      ]
    },
    {
      "cell_type": "code",
      "execution_count": null,
      "id": "ef762c5a-68cf-422a-bec4-aa369f73aa87",
      "metadata": {
        "id": "ef762c5a-68cf-422a-bec4-aa369f73aa87",
        "colab": {
          "base_uri": "https://localhost:8080/"
        },
        "outputId": "e28b4060-9ed0-4591-fbd2-cd0b052d1eb1"
      },
      "outputs": [
        {
          "output_type": "stream",
          "name": "stdout",
          "text": [
            "No errors detected for `filter_demos`\n"
          ]
        }
      ],
      "source": [
        "test_filter_demos(filter_demos)"
      ]
    },
    {
      "cell_type": "markdown",
      "id": "5b897f65-b966-499a-87f1-dd7f8625d069",
      "metadata": {
        "id": "5b897f65-b966-499a-87f1-dd7f8625d069"
      },
      "source": [
        "### Task 2: Full filtering program [1 point]"
      ]
    },
    {
      "cell_type": "markdown",
      "id": "5c08168b-64fe-4965-94f5-c3dc4675dc8a",
      "metadata": {
        "id": "5c08168b-64fe-4965-94f5-c3dc4675dc8a"
      },
      "source": [
        "The task is to complete `few_shot_openqa_with_context_and_demo_filtering` as a few-shot OpenQA system like the one from Question 1, but using the filtering mechanism defined by `filter_demos`."
      ]
    },
    {
      "cell_type": "code",
      "execution_count": null,
      "id": "e2d3601f-1f61-4f6a-b8d9-09ce515f19c4",
      "metadata": {
        "id": "e2d3601f-1f61-4f6a-b8d9-09ce515f19c4"
      },
      "outputs": [],
      "source": [
        "@dsp.transformation\n",
        "def few_shot_openqa_with_context_and_demo_filtering(example, train=squad_train, k=3):\n",
        "\n",
        "    # Sample 20 demonstrations:\n",
        "    ##### YOUR CODE HERE\n",
        "    sampled_20_demonstrations = dsp.sample(train, k =20)\n",
        "\n",
        "\n",
        "    # Filter the demonstrations using `annotate` and `filter_demos`.\n",
        "    # The user's `k` should be used to specify the maximum number of\n",
        "    # demonstrations kept at this stage.\n",
        "    ##### YOUR CODE HERE\n",
        "    valid_demonstrations = dsp.annotate(filter_demos)(sampled_20_demonstrations, k = k)\n",
        "\n",
        "\n",
        "    # Add the list of filtered demonstrations as a the `demos`\n",
        "    # attribute of `example`:\n",
        "    ##### YOUR CODE HERE\n",
        "    example.demos = valid_demonstrations\n",
        "\n",
        "\n",
        "    # Retrieve a context passage for `example.question` and add it\n",
        "    # as the `context` attribute for the example:\n",
        "    ##### YOUR CODE HERE\n",
        "    example.context = dsp.retrieve(example.question, k =1)\n",
        "\n",
        "\n",
        "    # Generate a prediction using `qa_template_with_passages` as\n",
        "    # we did before:\n",
        "    ##### YOUR CODE HERE\n",
        "    generator = dsp.generate(qa_template_with_passages)\n",
        "    example, completions = generator(example, stage='qa')\n",
        "\n",
        "\n",
        "\n",
        "    # Return the generated `Completions` instance:\n",
        "    return completions\n",
        "    ##### YOUR CODE HERE\n",
        "\n",
        "\n"
      ]
    },
    {
      "cell_type": "markdown",
      "id": "fa4db956-79a8-4092-a553-91f0d79f3084",
      "metadata": {
        "id": "fa4db956-79a8-4092-a553-91f0d79f3084"
      },
      "source": [
        "Our previous test should suffice to help with debugging this program:"
      ]
    },
    {
      "cell_type": "code",
      "execution_count": null,
      "id": "4fc93545-cd13-49a3-840c-385d29bb397f",
      "metadata": {
        "id": "4fc93545-cd13-49a3-840c-385d29bb397f",
        "colab": {
          "base_uri": "https://localhost:8080/"
        },
        "outputId": "ff530361-dba7-4c7f-ecd1-f1855fac8a77"
      },
      "outputs": [
        {
          "output_type": "stream",
          "name": "stdout",
          "text": [
            "No errors found for `few_shot_openqa_with_context_and_demo_filtering`\n"
          ]
        }
      ],
      "source": [
        "test_few_shot_openqa_with_context(\n",
        "    few_shot_openqa_with_context_and_demo_filtering)"
      ]
    },
    {
      "cell_type": "markdown",
      "id": "7c55dbeb-031d-4429-8669-17162d2ea05b",
      "metadata": {
        "id": "7c55dbeb-031d-4429-8669-17162d2ea05b"
      },
      "source": [
        "Quiick example:"
      ]
    },
    {
      "cell_type": "code",
      "execution_count": null,
      "id": "26f0964f-136a-4e85-9944-4472dcd5cbc3",
      "metadata": {
        "id": "26f0964f-136a-4e85-9944-4472dcd5cbc3",
        "colab": {
          "base_uri": "https://localhost:8080/"
        },
        "outputId": "6627c98e-be69-473c-f56b-addf8986b489"
      },
      "outputs": [
        {
          "output_type": "stream",
          "name": "stdout",
          "text": [
            "aesthetically pleasing\n"
          ]
        }
      ],
      "source": [
        "print(few_shot_openqa_with_context_and_demo_filtering(dev_exs[0]).answer)"
      ]
    },
    {
      "cell_type": "code",
      "execution_count": null,
      "id": "ea4224d4-cedc-4f58-a0b6-20b8f22d0317",
      "metadata": {
        "id": "ea4224d4-cedc-4f58-a0b6-20b8f22d0317",
        "colab": {
          "base_uri": "https://localhost:8080/"
        },
        "outputId": "fe402e1a-c4f0-4261-fc5b-7593e8d8a983"
      },
      "outputs": [
        {
          "output_type": "stream",
          "name": "stdout",
          "text": [
            "\n",
            "\n",
            "\n",
            "\n",
            "Answer questions with short factoid answers.\n",
            "\n",
            "---\n",
            "\n",
            "Follow the following format.\n",
            "\n",
            "Context:\n",
            "${sources that may contain relevant content}\n",
            "\n",
            "Question: ${the question to be answered}\n",
            "\n",
            "Answer: ${a short factoid answer, often between 1 and 5 words}\n",
            "\n",
            "---\n",
            "\n",
            "Context:\n",
            "From the 10th to the 13th century, Romanesque architecture had become a pan-European style and manner of construction, affecting buildings in countries as far apart as Ireland, Croatia, Sweden and Sicily. The same wide geographic area was then affected by the development of Gothic architecture, but the acceptance of the Gothic style and methods of construction differed from place to place, as did the expressions of Gothic taste. The proximity of some regions meant that modern country borders do not define divisions of style. On the other hand, some regions such as England and Spain produced defining characteristics rarely seen elsewhere, except where they have been carried by itinerant craftsmen, or the transfer of bishops. Regional differences that are apparent in the great abbey churches and cathedrals of the Romanesque period often become even more apparent in the Gothic.\n",
            "\n",
            "Question: Why did country borders not affect differences in style within Gothic architecture?\n",
            "\n",
            "Answer: proximity of some regions\n",
            "\n",
            "---\n",
            "\n",
            "Context:\n",
            "Zapatist forces, which were based in neighboring Morelos had strengths in the southern edge of the Federal District, which included Xochimilco, Tlalpan, Tláhuac and Milpa Alta to fight against the regimes of Victoriano Huerta and Venustiano Carranza. After the assassination of Carranza and a short mandate by Adolfo de la Huerta, Álvaro Obregón took power. After willing to be re-elected, he was killed by José de León Toral, a devout Catholic, in a restaurant near La Bombilla Park in San Ángel in 1928. Plutarco Elias Calles replaced Obregón and culminated the Mexican Revolution.\n",
            "\n",
            "Question: When was Alvaro Obregon killed?\n",
            "\n",
            "Answer: 1928\n",
            "\n",
            "---\n",
            "\n",
            "Context:\n",
            "Timely's first publication, Marvel Comics #1 (cover dated Oct. 1939), included the first appearance of Carl Burgos' android superhero the Human Torch, and the first appearances of Bill Everett's anti-hero Namor the Sub-Mariner, among other features. The issue was a great success, with it and a second printing the following month selling, combined, nearly 900,000 copies. While its contents came from an outside packager, Funnies, Inc., Timely had its own staff in place by the following year. The company's first true editor, writer-artist Joe Simon, teamed with artist and emerging industry notable Jack Kirby to create one of the first patriotically themed superheroes, Captain America, in Captain America Comics #1 (March 1941). It, too, proved a hit, with sales of nearly one million. Goodman formed Timely Comics, Inc., beginning with comics cover-dated April 1941 or Spring 1941.\n",
            "\n",
            "Question: Besides Simon, who co-created Captain America?\n",
            "\n",
            "Answer: Jack Kirby\n",
            "\n",
            "---\n",
            "\n",
            "Context:\n",
            "«Super Bowl 50 | with silver pants. The Panthers used the San Jose State practice facility and stayed at the San Jose Marriott. The Broncos practiced at Stanford University and stayed at the Santa Clara Marriott. On June 4, 2014, the NFL announced that the game would be branded with Arabic numerals as \"Super Bowl 50\"—rather than with Roman numerals, a practice established at Super Bowl V under which the game would have been known as \"Super Bowl L\". NFL creative director Shandon Melvin, explained that a primary reason for the change was the difficulty in designing an aesthetically pleasing logo with the letter»\n",
            "\n",
            "Question: What one word did the NFL commissioner use to describe what Super Bowl 50 was intended to be?\n",
            "\n",
            "Answer:\u001b[32m aesthetically pleasing\u001b[0m\n",
            "\n",
            "\n",
            "\n"
          ]
        }
      ],
      "source": [
        "lm.inspect_history(n=1)"
      ]
    },
    {
      "cell_type": "markdown",
      "id": "c5ae2262-3eea-487b-8e58-96f310892a19",
      "metadata": {
        "id": "c5ae2262-3eea-487b-8e58-96f310892a19"
      },
      "source": [
        "Here is code for an optional initial evaluation with `tiny_dev`:"
      ]
    },
    {
      "cell_type": "code",
      "execution_count": null,
      "id": "c9c06c67-dd96-46f2-9fac-653d562fc385",
      "metadata": {
        "id": "c9c06c67-dd96-46f2-9fac-653d562fc385",
        "colab": {
          "base_uri": "https://localhost:8080/"
        },
        "outputId": "9634b979-c8ec-4d7f-b969-d525e98795f2"
      },
      "outputs": [
        {
          "output_type": "stream",
          "name": "stderr",
          "text": [
            "100%|██████████| 10/10 [04:10<00:00, 25.06s/it]\n"
          ]
        },
        {
          "output_type": "execute_result",
          "data": {
            "text/plain": [
              "0.4"
            ]
          },
          "metadata": {},
          "execution_count": 115
        }
      ],
      "source": [
        "tiny_dev = dev_exs[: 10]\n",
        "\n",
        "filtering_results = evaluateAnswer(\n",
        "  few_shot_openqa_with_context_and_demo_filtering, tiny_dev)\n",
        "\n",
        "filtering_results['f1']"
      ]
    },
    {
      "cell_type": "markdown",
      "id": "19655d70-007c-4a41-9f3b-e20df9c5169b",
      "metadata": {
        "id": "19655d70-007c-4a41-9f3b-e20df9c5169b"
      },
      "source": [
        "## Question 3: Your original system [3 points]"
      ]
    },
    {
      "cell_type": "markdown",
      "id": "2d8d268f-70e1-4325-a2ff-7361d73788b9",
      "metadata": {
        "id": "2d8d268f-70e1-4325-a2ff-7361d73788b9"
      },
      "source": [
        "This question asks you to design your own few-shot OpenQA system. All of the code above can be used and modified for this, and the requirement is just that you try something new that goes beyond what we've done so far.\n",
        "\n",
        "Terms for the bake-off:\n",
        "\n",
        "* You can make free use of SQuAD and other publicly available data.\n",
        "\n",
        "* The LM must be an autoregressive language model. No trained QA components can be used. This includes general purpose LMs that have been fine-tuned for QA. (We have obviously waded into some vague territory here. The spirit of this is to make use of frozen, general-purpose models. We welcome questions about exactly how this is defined, since it could be instructive to explore this.)\n",
        "\n",
        "Here are some ideas for the original system:\n",
        "\n",
        "* We have so far sampled randomly from the SQuaD train set to create few-shot prompts. One might instead sample passages that have some connection to the target question. See `dsp.knn`, for example.\n",
        "\n",
        "* There are a lot of parameters to our LMs that we have so far ignored. Exploring different values might lead to better results. The `temperature` parameter is highly impactful for our task.\n",
        "\n",
        "* We have so far made no use of the scores from the LM or the RM.\n",
        "\n",
        "* We have so far made no use of DSP's functionality for self-consistency. See the DPS intro notebook for examples.\n",
        "\n",
        "__Original system instructions__:\n",
        "\n",
        "In the cell below, please provide a brief technical description of your original system, so that the teaching team can gain an understanding of what it does. This will help us to understand your code and analyze all the submissions to identify patterns and strategies."
      ]
    },
    {
      "cell_type": "code",
      "execution_count": null,
      "id": "b557f3c3-ee72-480e-9d99-9095372f99c4",
      "metadata": {
        "id": "b557f3c3-ee72-480e-9d99-9095372f99c4"
      },
      "outputs": [],
      "source": [
        "# PLEASE MAKE SURE TO INCLUDE THE FOLLOWING BETWEEN THE START AND STOP COMMENTS:\n",
        "#   1) Textual description of your system.\n",
        "#   2) The code for your original system.\n",
        "# PLEASE MAKE SURE NOT TO DELETE OR EDIT THE START AND STOP COMMENTS\n",
        "\n",
        "# START COMMENT: Enter your system description in this cell.\n",
        "\n",
        "\n",
        "1) I have decided to use Cohere for token generation.\n",
        "2) Original system retrieves demonstration context via Colbert and Squad training datasets to sample prompt Q/A based on DSP template.\n",
        "3) I have use DSP's KNN to get nearest samples for prompting based on question.\n",
        "4) From the above list derived from step 3, I have also used DSP's annotation and above task-1's filter\n",
        "5) I have also used DSP's self consistency feature.\n",
        "\n",
        "Overlall, I had to spend $50 dollars to get EM match of 40% after tuning parameters like k, temperature for the lm model. I was not sure on how to tune retriever options\n",
        "and also to use scores from LM, RM directly.\n",
        "\n",
        "More tuning, trial and error can be done but I am afraid of cost. Considering frugality, I am entering bakeoff with what I was able to achieve with $50 bucks.\n",
        "\n",
        "Generate 877,791 Tokens 13.167 USD\n",
        "Generate 3,380,520 Tokens 50.708 USD\n",
        "\n",
        "\n",
        "----------- CODE ----------------------\n",
        "\n",
        "To reproduce, access the full notebook at https://colab.research.google.com/drive/1hyUuKLwMxHI68LJlWt3D7Fy11z2m2wc_?usp=sharing\n",
        "\n",
        "FYI - Code from above cells are referenced below.\n",
        "\n",
        "!pip install sentence-transformers\n",
        "!pip install faiss-cpu\n",
        "\n",
        "os.environ['KMP_DUPLICATE_LIB_OK'] = 'TRUE'\n",
        "lm = dsp.Cohere(model='command-xlarge-nightly', api_key=cohere_key)\n",
        "\n",
        "rm = dsp.ColBERTv2(url=colbert_server)\n",
        "\n",
        "dsp.settings.configure(lm=lm, rm=rm)\n",
        "\n",
        "dsp.settings.configure(vectorizer=dsp.SentenceTransformersVectorizer())\n",
        "dsp.settings.vectorizer\n",
        "dsp.settings.configure(vectorizer=dsp.SentenceTransformersVectorizer())\n",
        "\n",
        "def build_knn(train):\n",
        "  with dsp.settings.context(vectorizer=dsp.SentenceTransformersVectorizer()):\n",
        "    knn_func = dsp.knn(train)\n",
        "  return knn_func\n",
        "\n",
        "## Use KNN to get similar question for demonstrations\n",
        "\n",
        "def get_similar_demonstrations(example, train, knn_func, k = 20):\n",
        "  similar_demonstrations = []\n",
        "\n",
        "  knn_res_train_vec = knn_func(example, k)\n",
        "  for i in [train[train.index(i)] for i in knn_res_train_vec]:\n",
        "    similar_demonstrations.append(i)\n",
        "\n",
        "  return similar_demonstrations\n",
        "\n",
        "@dsp.transformation\n",
        "def few_shot_openqa_bakeoff_modified_sc_enabled(input, train=squad_train, k=3, sc=True):\n",
        "\n",
        "    if sc:\n",
        "      generator = dsp.generate(qa_template_with_CoT, temperature=0.7)\n",
        "      input, completions = generator(input, stage='qa')\n",
        "    else:\n",
        "      input, completions = dsp.generate(qa_template_with_CoT)(input, stage='qa')\n",
        "\n",
        "    return input.copy(answer=completions.answer)\n",
        "\n",
        "def bakeoff_predict(question:str) -> str:\n",
        "\n",
        "    # Based on KNN, get top K similar samples for demonstrations\n",
        "    ##### YOUR CODE HERE\n",
        "\n",
        "\n",
        "    example = dsp.Example(question=question)\n",
        "    demonstrations = get_similar_demonstrations(example=example, train=train_examples, knn_func=knn_fn)\n",
        "\n",
        "    annotated_demonstrations = dsp.annotate(filter_demos)(demonstrations, k = 3)\n",
        "    demonstrations = annotated_demonstrations\n",
        "\n",
        "    # For each demonstration, retrieve one passage and add it\n",
        "    # as the `context` attribute` so we can use our template\n",
        "    # `qa_template_with_passages`:\n",
        "    ##### YOUR CODE HERE\n",
        "    for each_demonstration in demonstrations:\n",
        "      each_demonstration.context = dsp.retrieve(each_demonstration.question, k =2)\n",
        "\n",
        "    #demonstrations = dsp.sample(squad_train, k = 7)\n",
        "\n",
        "    # Retrieve a context passage for `example` itself and add it\n",
        "    # as the `context` attribute:\n",
        "    ##### YOUR CODE HERE\n",
        "\n",
        "    #context_passage_for_example = dsp.retrieve(question, k = 1)\n",
        "    context_passage_for_example = dsp.retrieve(question, k = 5)\n",
        "\n",
        "    example = dsp.Example(question=question, context=context_passage_for_example, demos=demonstrations)\n",
        "\n",
        "    return few_shot_openqa_bakeoff_modified_sc_enabled(example).answer\n",
        "\n",
        "from dsp.evaluation.utils import evaluate\n",
        "evaluate(bakeoff_predict,dev_examples[:20])\n",
        "\n",
        "filename = os.path.join(\"data\", \"openqa\", \"cs224u-openqa-test-unlabeled.txt\")\n",
        "gens = {}\n",
        "\n",
        "with open(filename) as f:\n",
        "  questions = f.read().splitlines()\n",
        "\n",
        "data = []\n",
        "\n",
        "for question in tqdm.tqdm(questions):\n",
        "  qa_pairs = {}\n",
        "  qa_pairs['question'] = question\n",
        "  prediction = bakeoff_predict(question)\n",
        "  qa_pairs['asnwer'] = prediction\n",
        "  print('Question ',question)\n",
        "  print('--'*5)\n",
        "  print('Answer: ',prediction)\n",
        "  data.append(qa_pairs)\n",
        "\n",
        "result_df = pd.DataFrame(data)\n",
        "gens = {}\n",
        "\n",
        "for row_dict in final_df.to_dict(orient=\"records\"):\n",
        "  gens[row_dict['question']] = row_dict['asnwer']\n",
        "\n",
        "with open(\"cs224u-openqa-bakeoff-entry.json\", \"wt\") as f:\n",
        "  json.dump(gens, f, indent=4)\n",
        "\n",
        "# STOP COMMENT: Please do not remove this comment."
      ]
    },
    {
      "cell_type": "markdown",
      "id": "c5b39c60-7494-46a6-b450-42b7e9fe3aad",
      "metadata": {
        "id": "c5b39c60-7494-46a6-b450-42b7e9fe3aad"
      },
      "source": [
        "## Question 4: Bakeoff entry [1 point]"
      ]
    },
    {
      "cell_type": "markdown",
      "id": "cff871c1-cc38-4e2f-af38-45b3619e8329",
      "metadata": {
        "id": "cff871c1-cc38-4e2f-af38-45b3619e8329"
      },
      "source": [
        "For the bake-off, you simply need to be able to run your system on the file\n",
        "\n",
        "```data/openqa/cs224u-openqa-test-unlabeled.txt```\n",
        "\n",
        "The following code should download it for you if necessary:"
      ]
    },
    {
      "cell_type": "code",
      "execution_count": null,
      "id": "4ca87f81-556b-46eb-904f-a3df70fdacb5",
      "metadata": {
        "id": "4ca87f81-556b-46eb-904f-a3df70fdacb5"
      },
      "outputs": [],
      "source": [
        "if not os.path.exists(os.path.join(\"data\", \"openqa\", \"cs224u-openqa-test-unlabeled.txt\")):\n",
        "    !mkdir -p data/openqa\n",
        "    !wget https://web.stanford.edu/class/cs224u/data/cs224u-openqa-test-unlabeled.txt -P data/openqa/"
      ]
    },
    {
      "cell_type": "markdown",
      "id": "68d0024b-9af7-4e3b-930e-1e7603d4d85c",
      "metadata": {
        "id": "68d0024b-9af7-4e3b-930e-1e7603d4d85c"
      },
      "source": [
        "If the above fails, you can just download https://web.stanford.edu/class/cs224u/data/cs224u-openqa-test-unlabeled.txt and place it in `data/openqa`.\n",
        "\n",
        "This file contains only questions. The starter code below will help you structure this. It writes a file \"cs224u-openqa-bakeoff-entry.json\" to the current directory. That file should be uploaded as-is. Please do not change its name."
      ]
    },
    {
      "cell_type": "code",
      "execution_count": null,
      "id": "403b0000-5bc0-4657-91e4-5a6e87f2f899",
      "metadata": {
        "id": "403b0000-5bc0-4657-91e4-5a6e87f2f899"
      },
      "outputs": [],
      "source": [
        "import json\n",
        "\n",
        "def create_bakeoff_submission(fn):\n",
        "    \"\"\"\"\n",
        "    The argument `fn` is a DSP program with the same signature as the\n",
        "    ones we wrote above: `dsp.Example` to `dsp.Completions`.\n",
        "    \"\"\"\n",
        "\n",
        "    filename = os.path.join(\"data\", \"openqa\", \"cs224u-openqa-test-unlabeled.txt\")\n",
        "\n",
        "    # This should become a mapping from questions (str) to response\n",
        "    # dicts from your system.\n",
        "    gens = {}\n",
        "\n",
        "    with open(filename) as f:\n",
        "        questions = f.read().splitlines()\n",
        "\n",
        "    questions = [dsp.Example(question=q) for q in questions]\n",
        "\n",
        "    # `questions` is the list of `dsp.Example` instances you need to\n",
        "    # evaluate your system on.\n",
        "    #\n",
        "    # Here we loop over the questions, run the system `fn`, and\n",
        "    # store its `answer` value as the prediction:\n",
        "    for question in tqdm.tqdm(questions):\n",
        "        gens[question.question] = fn(question).answer\n",
        "\n",
        "    # Quick tests we advise you to run:\n",
        "    # 1. Make sure `gens` is a dict with the questions as the keys:\n",
        "    assert all(q.question in gens for q in questions)\n",
        "    # 2. Make sure the values are dicts and have the key we will use:\n",
        "    assert all(isinstance(d, str) for d in gens.values())\n",
        "\n",
        "    # And finally the output file:\n",
        "    with open(\"cs224u-openqa-bakeoff-entry.json\", \"wt\") as f:\n",
        "        json.dump(gens, f, indent=4)"
      ]
    },
    {
      "cell_type": "markdown",
      "id": "cc0f32a8-547e-4a2c-8283-44adf69657ed",
      "metadata": {
        "id": "cc0f32a8-547e-4a2c-8283-44adf69657ed"
      },
      "source": [
        "Here's what it looks like to evaluate our first program, `few_shot_openqa`, on the bakeoff data:"
      ]
    },
    {
      "cell_type": "code",
      "execution_count": null,
      "id": "ce20e9ae-bb82-4dff-896f-aad7f150177d",
      "metadata": {
        "id": "ce20e9ae-bb82-4dff-896f-aad7f150177d"
      },
      "outputs": [],
      "source": [
        "# create_bakeoff_submission(few_shot_openqa_with_context)"
      ]
    }
  ],
  "metadata": {
    "kernelspec": {
      "display_name": "Python 3",
      "name": "python3"
    },
    "language_info": {
      "codemirror_mode": {
        "name": "ipython",
        "version": 3
      },
      "file_extension": ".py",
      "mimetype": "text/x-python",
      "name": "python",
      "nbconvert_exporter": "python",
      "pygments_lexer": "ipython3",
      "version": "3.9.13"
    },
    "colab": {
      "provenance": [],
      "machine_shape": "hm"
    },
    "widgets": {
      "application/vnd.jupyter.widget-state+json": {
        "0e4564c339f8446dbbb7a2192220c0ed": {
          "model_module": "@jupyter-widgets/controls",
          "model_name": "HBoxModel",
          "model_module_version": "1.5.0",
          "state": {
            "_dom_classes": [],
            "_model_module": "@jupyter-widgets/controls",
            "_model_module_version": "1.5.0",
            "_model_name": "HBoxModel",
            "_view_count": null,
            "_view_module": "@jupyter-widgets/controls",
            "_view_module_version": "1.5.0",
            "_view_name": "HBoxView",
            "box_style": "",
            "children": [
              "IPY_MODEL_3b43b1b0dcca418fba715dbfc86918a4",
              "IPY_MODEL_147e979f888b4a2788e9a100c3034f2a",
              "IPY_MODEL_f87fd64c58f84b4ab255602046acdf84"
            ],
            "layout": "IPY_MODEL_8cb668e362d84fe798f8c4dae0b7fa4f"
          }
        },
        "3b43b1b0dcca418fba715dbfc86918a4": {
          "model_module": "@jupyter-widgets/controls",
          "model_name": "HTMLModel",
          "model_module_version": "1.5.0",
          "state": {
            "_dom_classes": [],
            "_model_module": "@jupyter-widgets/controls",
            "_model_module_version": "1.5.0",
            "_model_name": "HTMLModel",
            "_view_count": null,
            "_view_module": "@jupyter-widgets/controls",
            "_view_module_version": "1.5.0",
            "_view_name": "HTMLView",
            "description": "",
            "description_tooltip": null,
            "layout": "IPY_MODEL_84540d158fc24fabad2138016d21e04d",
            "placeholder": "​",
            "style": "IPY_MODEL_cf015479361e437cafd5371a5528b122",
            "value": "100%"
          }
        },
        "147e979f888b4a2788e9a100c3034f2a": {
          "model_module": "@jupyter-widgets/controls",
          "model_name": "FloatProgressModel",
          "model_module_version": "1.5.0",
          "state": {
            "_dom_classes": [],
            "_model_module": "@jupyter-widgets/controls",
            "_model_module_version": "1.5.0",
            "_model_name": "FloatProgressModel",
            "_view_count": null,
            "_view_module": "@jupyter-widgets/controls",
            "_view_module_version": "1.5.0",
            "_view_name": "ProgressView",
            "bar_style": "success",
            "description": "",
            "description_tooltip": null,
            "layout": "IPY_MODEL_7bdc8bd47dee46dabb831a1d67dd6d94",
            "max": 2,
            "min": 0,
            "orientation": "horizontal",
            "style": "IPY_MODEL_c341d6bc68e846cc906c530961aa1ccf",
            "value": 2
          }
        },
        "f87fd64c58f84b4ab255602046acdf84": {
          "model_module": "@jupyter-widgets/controls",
          "model_name": "HTMLModel",
          "model_module_version": "1.5.0",
          "state": {
            "_dom_classes": [],
            "_model_module": "@jupyter-widgets/controls",
            "_model_module_version": "1.5.0",
            "_model_name": "HTMLModel",
            "_view_count": null,
            "_view_module": "@jupyter-widgets/controls",
            "_view_module_version": "1.5.0",
            "_view_name": "HTMLView",
            "description": "",
            "description_tooltip": null,
            "layout": "IPY_MODEL_04c19309527c4c43ab4c03f5ddaae0b0",
            "placeholder": "​",
            "style": "IPY_MODEL_7cd7bf6ba54c45ea806c03653728c264",
            "value": " 2/2 [00:00&lt;00:00, 61.41it/s]"
          }
        },
        "8cb668e362d84fe798f8c4dae0b7fa4f": {
          "model_module": "@jupyter-widgets/base",
          "model_name": "LayoutModel",
          "model_module_version": "1.2.0",
          "state": {
            "_model_module": "@jupyter-widgets/base",
            "_model_module_version": "1.2.0",
            "_model_name": "LayoutModel",
            "_view_count": null,
            "_view_module": "@jupyter-widgets/base",
            "_view_module_version": "1.2.0",
            "_view_name": "LayoutView",
            "align_content": null,
            "align_items": null,
            "align_self": null,
            "border": null,
            "bottom": null,
            "display": null,
            "flex": null,
            "flex_flow": null,
            "grid_area": null,
            "grid_auto_columns": null,
            "grid_auto_flow": null,
            "grid_auto_rows": null,
            "grid_column": null,
            "grid_gap": null,
            "grid_row": null,
            "grid_template_areas": null,
            "grid_template_columns": null,
            "grid_template_rows": null,
            "height": null,
            "justify_content": null,
            "justify_items": null,
            "left": null,
            "margin": null,
            "max_height": null,
            "max_width": null,
            "min_height": null,
            "min_width": null,
            "object_fit": null,
            "object_position": null,
            "order": null,
            "overflow": null,
            "overflow_x": null,
            "overflow_y": null,
            "padding": null,
            "right": null,
            "top": null,
            "visibility": null,
            "width": null
          }
        },
        "84540d158fc24fabad2138016d21e04d": {
          "model_module": "@jupyter-widgets/base",
          "model_name": "LayoutModel",
          "model_module_version": "1.2.0",
          "state": {
            "_model_module": "@jupyter-widgets/base",
            "_model_module_version": "1.2.0",
            "_model_name": "LayoutModel",
            "_view_count": null,
            "_view_module": "@jupyter-widgets/base",
            "_view_module_version": "1.2.0",
            "_view_name": "LayoutView",
            "align_content": null,
            "align_items": null,
            "align_self": null,
            "border": null,
            "bottom": null,
            "display": null,
            "flex": null,
            "flex_flow": null,
            "grid_area": null,
            "grid_auto_columns": null,
            "grid_auto_flow": null,
            "grid_auto_rows": null,
            "grid_column": null,
            "grid_gap": null,
            "grid_row": null,
            "grid_template_areas": null,
            "grid_template_columns": null,
            "grid_template_rows": null,
            "height": null,
            "justify_content": null,
            "justify_items": null,
            "left": null,
            "margin": null,
            "max_height": null,
            "max_width": null,
            "min_height": null,
            "min_width": null,
            "object_fit": null,
            "object_position": null,
            "order": null,
            "overflow": null,
            "overflow_x": null,
            "overflow_y": null,
            "padding": null,
            "right": null,
            "top": null,
            "visibility": null,
            "width": null
          }
        },
        "cf015479361e437cafd5371a5528b122": {
          "model_module": "@jupyter-widgets/controls",
          "model_name": "DescriptionStyleModel",
          "model_module_version": "1.5.0",
          "state": {
            "_model_module": "@jupyter-widgets/controls",
            "_model_module_version": "1.5.0",
            "_model_name": "DescriptionStyleModel",
            "_view_count": null,
            "_view_module": "@jupyter-widgets/base",
            "_view_module_version": "1.2.0",
            "_view_name": "StyleView",
            "description_width": ""
          }
        },
        "7bdc8bd47dee46dabb831a1d67dd6d94": {
          "model_module": "@jupyter-widgets/base",
          "model_name": "LayoutModel",
          "model_module_version": "1.2.0",
          "state": {
            "_model_module": "@jupyter-widgets/base",
            "_model_module_version": "1.2.0",
            "_model_name": "LayoutModel",
            "_view_count": null,
            "_view_module": "@jupyter-widgets/base",
            "_view_module_version": "1.2.0",
            "_view_name": "LayoutView",
            "align_content": null,
            "align_items": null,
            "align_self": null,
            "border": null,
            "bottom": null,
            "display": null,
            "flex": null,
            "flex_flow": null,
            "grid_area": null,
            "grid_auto_columns": null,
            "grid_auto_flow": null,
            "grid_auto_rows": null,
            "grid_column": null,
            "grid_gap": null,
            "grid_row": null,
            "grid_template_areas": null,
            "grid_template_columns": null,
            "grid_template_rows": null,
            "height": null,
            "justify_content": null,
            "justify_items": null,
            "left": null,
            "margin": null,
            "max_height": null,
            "max_width": null,
            "min_height": null,
            "min_width": null,
            "object_fit": null,
            "object_position": null,
            "order": null,
            "overflow": null,
            "overflow_x": null,
            "overflow_y": null,
            "padding": null,
            "right": null,
            "top": null,
            "visibility": null,
            "width": null
          }
        },
        "c341d6bc68e846cc906c530961aa1ccf": {
          "model_module": "@jupyter-widgets/controls",
          "model_name": "ProgressStyleModel",
          "model_module_version": "1.5.0",
          "state": {
            "_model_module": "@jupyter-widgets/controls",
            "_model_module_version": "1.5.0",
            "_model_name": "ProgressStyleModel",
            "_view_count": null,
            "_view_module": "@jupyter-widgets/base",
            "_view_module_version": "1.2.0",
            "_view_name": "StyleView",
            "bar_color": null,
            "description_width": ""
          }
        },
        "04c19309527c4c43ab4c03f5ddaae0b0": {
          "model_module": "@jupyter-widgets/base",
          "model_name": "LayoutModel",
          "model_module_version": "1.2.0",
          "state": {
            "_model_module": "@jupyter-widgets/base",
            "_model_module_version": "1.2.0",
            "_model_name": "LayoutModel",
            "_view_count": null,
            "_view_module": "@jupyter-widgets/base",
            "_view_module_version": "1.2.0",
            "_view_name": "LayoutView",
            "align_content": null,
            "align_items": null,
            "align_self": null,
            "border": null,
            "bottom": null,
            "display": null,
            "flex": null,
            "flex_flow": null,
            "grid_area": null,
            "grid_auto_columns": null,
            "grid_auto_flow": null,
            "grid_auto_rows": null,
            "grid_column": null,
            "grid_gap": null,
            "grid_row": null,
            "grid_template_areas": null,
            "grid_template_columns": null,
            "grid_template_rows": null,
            "height": null,
            "justify_content": null,
            "justify_items": null,
            "left": null,
            "margin": null,
            "max_height": null,
            "max_width": null,
            "min_height": null,
            "min_width": null,
            "object_fit": null,
            "object_position": null,
            "order": null,
            "overflow": null,
            "overflow_x": null,
            "overflow_y": null,
            "padding": null,
            "right": null,
            "top": null,
            "visibility": null,
            "width": null
          }
        },
        "7cd7bf6ba54c45ea806c03653728c264": {
          "model_module": "@jupyter-widgets/controls",
          "model_name": "DescriptionStyleModel",
          "model_module_version": "1.5.0",
          "state": {
            "_model_module": "@jupyter-widgets/controls",
            "_model_module_version": "1.5.0",
            "_model_name": "DescriptionStyleModel",
            "_view_count": null,
            "_view_module": "@jupyter-widgets/base",
            "_view_module_version": "1.2.0",
            "_view_name": "StyleView",
            "description_width": ""
          }
        }
      }
    }
  },
  "nbformat": 4,
  "nbformat_minor": 5
}