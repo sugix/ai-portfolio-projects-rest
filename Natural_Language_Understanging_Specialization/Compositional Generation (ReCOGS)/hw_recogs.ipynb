{
  "cells": [
    {
      "cell_type": "markdown",
      "id": "e9804d50-4eb0-4f1d-a20d-d6c3dbb0fd65",
      "metadata": {
        "id": "e9804d50-4eb0-4f1d-a20d-d6c3dbb0fd65"
      },
      "source": [
        "# Homework and bakeoff: Compositional generalization"
      ]
    },
    {
      "cell_type": "code",
      "execution_count": null,
      "id": "c401fbca-fc3d-4e35-bb84-15b1ce9b974f",
      "metadata": {
        "id": "c401fbca-fc3d-4e35-bb84-15b1ce9b974f"
      },
      "outputs": [],
      "source": [
        "__author__ = \"Christopher Potts and Zhengxuan Wu\"\n",
        "__version__ = \"CS224u, Stanford, Spring 2023\""
      ]
    },
    {
      "cell_type": "markdown",
      "id": "117fc266-35fd-4321-beb2-8805073ebcdf",
      "metadata": {
        "id": "117fc266-35fd-4321-beb2-8805073ebcdf"
      },
      "source": [
        "[![Open In Colab](https://colab.research.google.com/assets/colab-badge.svg)](https://colab.research.google.com/github/cgpotts/cs224u/blob/master/hw_recogs.ipynb)\n",
        "[![Open in SageMaker Studio Lab](https://studiolab.sagemaker.aws/studiolab.svg)](https://studiolab.sagemaker.aws/import/github/cgpotts/cs224u/blob/master/hw_recogs.ipynb)\n",
        "\n",
        "If Colab is opened with this badge, please save a copy to drive (from the File menu) before running the notebook."
      ]
    },
    {
      "cell_type": "markdown",
      "id": "e2111f33-11d7-455d-a1cb-5f0c828559dd",
      "metadata": {
        "id": "e2111f33-11d7-455d-a1cb-5f0c828559dd"
      },
      "source": [
        "## Overview"
      ]
    },
    {
      "cell_type": "markdown",
      "id": "2c392958-5e6c-4a57-88b6-dc2880928692",
      "metadata": {
        "id": "2c392958-5e6c-4a57-88b6-dc2880928692"
      },
      "source": [
        "This assignment is about _compositional generalization_. We are going to assess the degree to which our apparently very good models have learned to process and interpret language _systematically_. To do this, we are going to ask them to interpret novel combinations of familiar words and phrases. For humans, these tasks are very easy. For our models, the situation seems to be quite different.\n",
        "\n",
        "The basis for the assignment is the ReCOGS dataset of [Wu, Manning, and Potts 2023](https://arxiv.org/abs/2303.13716). ReCOGS modifies the COGS dataset of [Kim and Linzen 2020](https://aclanthology.org/2020.emnlp-main.731) in a number of ways, with the goal of more directly assessing the interpretive abilities of models.\n",
        "\n",
        "The assignment questions are fairly diverse. Question 1 asks you to conduct a specific analysis of the ReCOGS dataset, and Question 2 follows this up with a corresponding analysis of the errors made by a top-performing ReCOGS model. For Question 3, you try some in-context learning with DSP. And then we open things up as usual: you can do anything you want for your original system, and you enter that system's predictions into a bakeoff.\n",
        "\n",
        "There is only one rule that we need to enforce throughout this work:\n",
        "\n",
        "__You cannot train your system on any examples from `dataset[\"gen\"]`, nor can the output representations from those examples be included in any prompts used for in-context learning.__\n",
        "\n",
        "The nature of your original system is otherwise unconstrained."
      ]
    },
    {
      "cell_type": "markdown",
      "id": "62709719-bfb2-45fe-908f-8ea72caf2470",
      "metadata": {
        "id": "62709719-bfb2-45fe-908f-8ea72caf2470"
      },
      "source": [
        "## Set-up"
      ]
    },
    {
      "cell_type": "code",
      "execution_count": null,
      "id": "07497e3f-50cc-4224-b04b-23b7ed5577c9",
      "metadata": {
        "id": "07497e3f-50cc-4224-b04b-23b7ed5577c9",
        "colab": {
          "base_uri": "https://localhost:8080/"
        },
        "outputId": "bb0d7154-df98-45ee-9205-0221560abe92"
      },
      "outputs": [
        {
          "output_type": "stream",
          "name": "stdout",
          "text": [
            "Cloning into 'cs224u'...\n",
            "remote: Enumerating objects: 2243, done.\u001b[K\n",
            "remote: Counting objects: 100% (151/151), done.\u001b[K\n",
            "remote: Compressing objects: 100% (91/91), done.\u001b[K\n",
            "remote: Total 2243 (delta 69), reused 110 (delta 60), pack-reused 2092\u001b[K\n",
            "Receiving objects: 100% (2243/2243), 41.50 MiB | 15.69 MiB/s, done.\n",
            "Resolving deltas: 100% (1368/1368), done.\n",
            "Requirement already satisfied: numpy>=1.20.0 in /usr/local/lib/python3.10/dist-packages (from -r cs224u/requirements.txt (line 1)) (1.23.5)\n",
            "Requirement already satisfied: scipy>=1.7.0 in /usr/local/lib/python3.10/dist-packages (from -r cs224u/requirements.txt (line 2)) (1.11.2)\n",
            "Requirement already satisfied: matplotlib>=3.7.0 in /usr/local/lib/python3.10/dist-packages (from -r cs224u/requirements.txt (line 3)) (3.7.1)\n",
            "Requirement already satisfied: scikit-learn>=1.0.2 in /usr/local/lib/python3.10/dist-packages (from -r cs224u/requirements.txt (line 4)) (1.2.2)\n",
            "Requirement already satisfied: nltk>=3.7 in /usr/local/lib/python3.10/dist-packages (from -r cs224u/requirements.txt (line 5)) (3.8.1)\n",
            "Requirement already satisfied: pytest>=7.1 in /usr/local/lib/python3.10/dist-packages (from -r cs224u/requirements.txt (line 6)) (7.4.1)\n",
            "Collecting jupyter>=1.0.0 (from -r cs224u/requirements.txt (line 7))\n",
            "  Downloading jupyter-1.0.0-py2.py3-none-any.whl (2.7 kB)\n",
            "Requirement already satisfied: pandas>=1.5 in /usr/local/lib/python3.10/dist-packages (from -r cs224u/requirements.txt (line 8)) (1.5.3)\n",
            "Collecting torch==1.13.1 (from -r cs224u/requirements.txt (line 9))\n",
            "  Downloading torch-1.13.1-cp310-cp310-manylinux1_x86_64.whl (887.5 MB)\n",
            "\u001b[2K     \u001b[90m━━━━━━━━━━━━━━━━━━━━━━━━━━━━━━━━━━━━━━━\u001b[0m \u001b[32m887.5/887.5 MB\u001b[0m \u001b[31m1.1 MB/s\u001b[0m eta \u001b[36m0:00:00\u001b[0m\n",
            "\u001b[?25hCollecting torchvision==0.14.1 (from -r cs224u/requirements.txt (line 10))\n",
            "  Downloading torchvision-0.14.1-cp310-cp310-manylinux1_x86_64.whl (24.2 MB)\n",
            "\u001b[2K     \u001b[90m━━━━━━━━━━━━━━━━━━━━━━━━━━━━━━━━━━━━━━━━\u001b[0m \u001b[32m24.2/24.2 MB\u001b[0m \u001b[31m68.6 MB/s\u001b[0m eta \u001b[36m0:00:00\u001b[0m\n",
            "\u001b[?25hCollecting transformers==4.26.1 (from -r cs224u/requirements.txt (line 11))\n",
            "  Downloading transformers-4.26.1-py3-none-any.whl (6.3 MB)\n",
            "\u001b[2K     \u001b[90m━━━━━━━━━━━━━━━━━━━━━━━━━━━━━━━━━━━━━━━━\u001b[0m \u001b[32m6.3/6.3 MB\u001b[0m \u001b[31m101.7 MB/s\u001b[0m eta \u001b[36m0:00:00\u001b[0m\n",
            "\u001b[?25hCollecting datasets==2.10.1 (from -r cs224u/requirements.txt (line 12))\n",
            "  Downloading datasets-2.10.1-py3-none-any.whl (469 kB)\n",
            "\u001b[2K     \u001b[90m━━━━━━━━━━━━━━━━━━━━━━━━━━━━━━━━━━━━━━\u001b[0m \u001b[32m469.0/469.0 kB\u001b[0m \u001b[31m45.4 MB/s\u001b[0m eta \u001b[36m0:00:00\u001b[0m\n",
            "\u001b[?25hCollecting spacy==3.5.1 (from -r cs224u/requirements.txt (line 13))\n",
            "  Downloading spacy-3.5.1-cp310-cp310-manylinux_2_17_x86_64.manylinux2014_x86_64.whl (6.6 MB)\n",
            "\u001b[2K     \u001b[90m━━━━━━━━━━━━━━━━━━━━━━━━━━━━━━━━━━━━━━━━\u001b[0m \u001b[32m6.6/6.6 MB\u001b[0m \u001b[31m116.5 MB/s\u001b[0m eta \u001b[36m0:00:00\u001b[0m\n",
            "\u001b[?25hCollecting dsp-ml<0.2 (from -r cs224u/requirements.txt (line 14))\n",
            "  Downloading dsp_ml-0.1.8-py3-none-any.whl (38 kB)\n",
            "Collecting openai (from -r cs224u/requirements.txt (line 15))\n",
            "  Downloading openai-0.28.0-py3-none-any.whl (76 kB)\n",
            "\u001b[2K     \u001b[90m━━━━━━━━━━━━━━━━━━━━━━━━━━━━━━━━━━━━━━━━\u001b[0m \u001b[32m76.5/76.5 kB\u001b[0m \u001b[31m10.1 MB/s\u001b[0m eta \u001b[36m0:00:00\u001b[0m\n",
            "\u001b[?25hCollecting cohere (from -r cs224u/requirements.txt (line 16))\n",
            "  Downloading cohere-4.24-py3-none-any.whl (47 kB)\n",
            "\u001b[2K     \u001b[90m━━━━━━━━━━━━━━━━━━━━━━━━━━━━━━━━━━━━━━━━\u001b[0m \u001b[32m47.3/47.3 kB\u001b[0m \u001b[31m6.0 MB/s\u001b[0m eta \u001b[36m0:00:00\u001b[0m\n",
            "\u001b[?25hRequirement already satisfied: typing-extensions in /usr/local/lib/python3.10/dist-packages (from torch==1.13.1->-r cs224u/requirements.txt (line 9)) (4.5.0)\n",
            "Collecting nvidia-cuda-runtime-cu11==11.7.99 (from torch==1.13.1->-r cs224u/requirements.txt (line 9))\n",
            "  Downloading nvidia_cuda_runtime_cu11-11.7.99-py3-none-manylinux1_x86_64.whl (849 kB)\n",
            "\u001b[2K     \u001b[90m━━━━━━━━━━━━━━━━━━━━━━━━━━━━━━━━━━━━━━\u001b[0m \u001b[32m849.3/849.3 kB\u001b[0m \u001b[31m68.0 MB/s\u001b[0m eta \u001b[36m0:00:00\u001b[0m\n",
            "\u001b[?25hCollecting nvidia-cudnn-cu11==8.5.0.96 (from torch==1.13.1->-r cs224u/requirements.txt (line 9))\n",
            "  Downloading nvidia_cudnn_cu11-8.5.0.96-2-py3-none-manylinux1_x86_64.whl (557.1 MB)\n",
            "\u001b[2K     \u001b[90m━━━━━━━━━━━━━━━━━━━━━━━━━━━━━━━━━━━━━━━\u001b[0m \u001b[32m557.1/557.1 MB\u001b[0m \u001b[31m2.1 MB/s\u001b[0m eta \u001b[36m0:00:00\u001b[0m\n",
            "\u001b[?25hCollecting nvidia-cublas-cu11==11.10.3.66 (from torch==1.13.1->-r cs224u/requirements.txt (line 9))\n",
            "  Downloading nvidia_cublas_cu11-11.10.3.66-py3-none-manylinux1_x86_64.whl (317.1 MB)\n",
            "\u001b[2K     \u001b[90m━━━━━━━━━━━━━━━━━━━━━━━━━━━━━━━━━━━━━━━\u001b[0m \u001b[32m317.1/317.1 MB\u001b[0m \u001b[31m3.8 MB/s\u001b[0m eta \u001b[36m0:00:00\u001b[0m\n",
            "\u001b[?25hCollecting nvidia-cuda-nvrtc-cu11==11.7.99 (from torch==1.13.1->-r cs224u/requirements.txt (line 9))\n",
            "  Downloading nvidia_cuda_nvrtc_cu11-11.7.99-2-py3-none-manylinux1_x86_64.whl (21.0 MB)\n",
            "\u001b[2K     \u001b[90m━━━━━━━━━━━━━━━━━━━━━━━━━━━━━━━━━━━━━━━━\u001b[0m \u001b[32m21.0/21.0 MB\u001b[0m \u001b[31m84.7 MB/s\u001b[0m eta \u001b[36m0:00:00\u001b[0m\n",
            "\u001b[?25hRequirement already satisfied: requests in /usr/local/lib/python3.10/dist-packages (from torchvision==0.14.1->-r cs224u/requirements.txt (line 10)) (2.31.0)\n",
            "Requirement already satisfied: pillow!=8.3.*,>=5.3.0 in /usr/local/lib/python3.10/dist-packages (from torchvision==0.14.1->-r cs224u/requirements.txt (line 10)) (9.4.0)\n",
            "Requirement already satisfied: filelock in /usr/local/lib/python3.10/dist-packages (from transformers==4.26.1->-r cs224u/requirements.txt (line 11)) (3.12.2)\n",
            "Collecting huggingface-hub<1.0,>=0.11.0 (from transformers==4.26.1->-r cs224u/requirements.txt (line 11))\n",
            "  Downloading huggingface_hub-0.17.1-py3-none-any.whl (294 kB)\n",
            "\u001b[2K     \u001b[90m━━━━━━━━━━━━━━━━━━━━━━━━━━━━━━━━━━━━━━\u001b[0m \u001b[32m294.8/294.8 kB\u001b[0m \u001b[31m33.1 MB/s\u001b[0m eta \u001b[36m0:00:00\u001b[0m\n",
            "\u001b[?25hRequirement already satisfied: packaging>=20.0 in /usr/local/lib/python3.10/dist-packages (from transformers==4.26.1->-r cs224u/requirements.txt (line 11)) (23.1)\n",
            "Requirement already satisfied: pyyaml>=5.1 in /usr/local/lib/python3.10/dist-packages (from transformers==4.26.1->-r cs224u/requirements.txt (line 11)) (6.0.1)\n",
            "Requirement already satisfied: regex!=2019.12.17 in /usr/local/lib/python3.10/dist-packages (from transformers==4.26.1->-r cs224u/requirements.txt (line 11)) (2023.6.3)\n",
            "Collecting tokenizers!=0.11.3,<0.14,>=0.11.1 (from transformers==4.26.1->-r cs224u/requirements.txt (line 11))\n",
            "  Downloading tokenizers-0.13.3-cp310-cp310-manylinux_2_17_x86_64.manylinux2014_x86_64.whl (7.8 MB)\n",
            "\u001b[2K     \u001b[90m━━━━━━━━━━━━━━━━━━━━━━━━━━━━━━━━━━━━━━━━\u001b[0m \u001b[32m7.8/7.8 MB\u001b[0m \u001b[31m121.5 MB/s\u001b[0m eta \u001b[36m0:00:00\u001b[0m\n",
            "\u001b[?25hRequirement already satisfied: tqdm>=4.27 in /usr/local/lib/python3.10/dist-packages (from transformers==4.26.1->-r cs224u/requirements.txt (line 11)) (4.66.1)\n",
            "Requirement already satisfied: pyarrow>=6.0.0 in /usr/local/lib/python3.10/dist-packages (from datasets==2.10.1->-r cs224u/requirements.txt (line 12)) (9.0.0)\n",
            "Collecting dill<0.3.7,>=0.3.0 (from datasets==2.10.1->-r cs224u/requirements.txt (line 12))\n",
            "  Downloading dill-0.3.6-py3-none-any.whl (110 kB)\n",
            "\u001b[2K     \u001b[90m━━━━━━━━━━━━━━━━━━━━━━━━━━━━━━━━━━━━━━\u001b[0m \u001b[32m110.5/110.5 kB\u001b[0m \u001b[31m14.6 MB/s\u001b[0m eta \u001b[36m0:00:00\u001b[0m\n",
            "\u001b[?25hCollecting xxhash (from datasets==2.10.1->-r cs224u/requirements.txt (line 12))\n",
            "  Downloading xxhash-3.3.0-cp310-cp310-manylinux_2_17_x86_64.manylinux2014_x86_64.whl (194 kB)\n",
            "\u001b[2K     \u001b[90m━━━━━━━━━━━━━━━━━━━━━━━━━━━━━━━━━━━━━━\u001b[0m \u001b[32m194.1/194.1 kB\u001b[0m \u001b[31m23.6 MB/s\u001b[0m eta \u001b[36m0:00:00\u001b[0m\n",
            "\u001b[?25hCollecting multiprocess (from datasets==2.10.1->-r cs224u/requirements.txt (line 12))\n",
            "  Downloading multiprocess-0.70.15-py310-none-any.whl (134 kB)\n",
            "\u001b[2K     \u001b[90m━━━━━━━━━━━━━━━━━━━━━━━━━━━━━━━━━━━━━━\u001b[0m \u001b[32m134.8/134.8 kB\u001b[0m \u001b[31m18.2 MB/s\u001b[0m eta \u001b[36m0:00:00\u001b[0m\n",
            "\u001b[?25hRequirement already satisfied: fsspec[http]>=2021.11.1 in /usr/local/lib/python3.10/dist-packages (from datasets==2.10.1->-r cs224u/requirements.txt (line 12)) (2023.6.0)\n",
            "Requirement already satisfied: aiohttp in /usr/local/lib/python3.10/dist-packages (from datasets==2.10.1->-r cs224u/requirements.txt (line 12)) (3.8.5)\n",
            "Collecting responses<0.19 (from datasets==2.10.1->-r cs224u/requirements.txt (line 12))\n",
            "  Downloading responses-0.18.0-py3-none-any.whl (38 kB)\n",
            "Requirement already satisfied: spacy-legacy<3.1.0,>=3.0.11 in /usr/local/lib/python3.10/dist-packages (from spacy==3.5.1->-r cs224u/requirements.txt (line 13)) (3.0.12)\n",
            "Requirement already satisfied: spacy-loggers<2.0.0,>=1.0.0 in /usr/local/lib/python3.10/dist-packages (from spacy==3.5.1->-r cs224u/requirements.txt (line 13)) (1.0.4)\n",
            "Requirement already satisfied: murmurhash<1.1.0,>=0.28.0 in /usr/local/lib/python3.10/dist-packages (from spacy==3.5.1->-r cs224u/requirements.txt (line 13)) (1.0.9)\n",
            "Requirement already satisfied: cymem<2.1.0,>=2.0.2 in /usr/local/lib/python3.10/dist-packages (from spacy==3.5.1->-r cs224u/requirements.txt (line 13)) (2.0.7)\n",
            "Requirement already satisfied: preshed<3.1.0,>=3.0.2 in /usr/local/lib/python3.10/dist-packages (from spacy==3.5.1->-r cs224u/requirements.txt (line 13)) (3.0.8)\n",
            "Requirement already satisfied: thinc<8.2.0,>=8.1.8 in /usr/local/lib/python3.10/dist-packages (from spacy==3.5.1->-r cs224u/requirements.txt (line 13)) (8.1.12)\n",
            "Requirement already satisfied: wasabi<1.2.0,>=0.9.1 in /usr/local/lib/python3.10/dist-packages (from spacy==3.5.1->-r cs224u/requirements.txt (line 13)) (1.1.2)\n",
            "Requirement already satisfied: srsly<3.0.0,>=2.4.3 in /usr/local/lib/python3.10/dist-packages (from spacy==3.5.1->-r cs224u/requirements.txt (line 13)) (2.4.7)\n",
            "Requirement already satisfied: catalogue<2.1.0,>=2.0.6 in /usr/local/lib/python3.10/dist-packages (from spacy==3.5.1->-r cs224u/requirements.txt (line 13)) (2.0.9)\n",
            "Collecting typer<0.8.0,>=0.3.0 (from spacy==3.5.1->-r cs224u/requirements.txt (line 13))\n",
            "  Downloading typer-0.7.0-py3-none-any.whl (38 kB)\n",
            "Requirement already satisfied: pathy>=0.10.0 in /usr/local/lib/python3.10/dist-packages (from spacy==3.5.1->-r cs224u/requirements.txt (line 13)) (0.10.2)\n",
            "Requirement already satisfied: smart-open<7.0.0,>=5.2.1 in /usr/local/lib/python3.10/dist-packages (from spacy==3.5.1->-r cs224u/requirements.txt (line 13)) (6.4.0)\n",
            "Requirement already satisfied: pydantic!=1.8,!=1.8.1,<1.11.0,>=1.7.4 in /usr/local/lib/python3.10/dist-packages (from spacy==3.5.1->-r cs224u/requirements.txt (line 13)) (1.10.12)\n",
            "Requirement already satisfied: jinja2 in /usr/local/lib/python3.10/dist-packages (from spacy==3.5.1->-r cs224u/requirements.txt (line 13)) (3.1.2)\n",
            "Requirement already satisfied: setuptools in /usr/local/lib/python3.10/dist-packages (from spacy==3.5.1->-r cs224u/requirements.txt (line 13)) (67.7.2)\n",
            "Requirement already satisfied: langcodes<4.0.0,>=3.2.0 in /usr/local/lib/python3.10/dist-packages (from spacy==3.5.1->-r cs224u/requirements.txt (line 13)) (3.3.0)\n",
            "Requirement already satisfied: wheel in /usr/local/lib/python3.10/dist-packages (from nvidia-cublas-cu11==11.10.3.66->torch==1.13.1->-r cs224u/requirements.txt (line 9)) (0.41.2)\n",
            "Requirement already satisfied: contourpy>=1.0.1 in /usr/local/lib/python3.10/dist-packages (from matplotlib>=3.7.0->-r cs224u/requirements.txt (line 3)) (1.1.0)\n",
            "Requirement already satisfied: cycler>=0.10 in /usr/local/lib/python3.10/dist-packages (from matplotlib>=3.7.0->-r cs224u/requirements.txt (line 3)) (0.11.0)\n",
            "Requirement already satisfied: fonttools>=4.22.0 in /usr/local/lib/python3.10/dist-packages (from matplotlib>=3.7.0->-r cs224u/requirements.txt (line 3)) (4.42.1)\n",
            "Requirement already satisfied: kiwisolver>=1.0.1 in /usr/local/lib/python3.10/dist-packages (from matplotlib>=3.7.0->-r cs224u/requirements.txt (line 3)) (1.4.5)\n",
            "Requirement already satisfied: pyparsing>=2.3.1 in /usr/local/lib/python3.10/dist-packages (from matplotlib>=3.7.0->-r cs224u/requirements.txt (line 3)) (3.1.1)\n",
            "Requirement already satisfied: python-dateutil>=2.7 in /usr/local/lib/python3.10/dist-packages (from matplotlib>=3.7.0->-r cs224u/requirements.txt (line 3)) (2.8.2)\n",
            "Requirement already satisfied: joblib>=1.1.1 in /usr/local/lib/python3.10/dist-packages (from scikit-learn>=1.0.2->-r cs224u/requirements.txt (line 4)) (1.3.2)\n",
            "Requirement already satisfied: threadpoolctl>=2.0.0 in /usr/local/lib/python3.10/dist-packages (from scikit-learn>=1.0.2->-r cs224u/requirements.txt (line 4)) (3.2.0)\n",
            "Requirement already satisfied: click in /usr/local/lib/python3.10/dist-packages (from nltk>=3.7->-r cs224u/requirements.txt (line 5)) (8.1.7)\n",
            "Requirement already satisfied: iniconfig in /usr/local/lib/python3.10/dist-packages (from pytest>=7.1->-r cs224u/requirements.txt (line 6)) (2.0.0)\n",
            "Requirement already satisfied: pluggy<2.0,>=0.12 in /usr/local/lib/python3.10/dist-packages (from pytest>=7.1->-r cs224u/requirements.txt (line 6)) (1.3.0)\n",
            "Requirement already satisfied: exceptiongroup>=1.0.0rc8 in /usr/local/lib/python3.10/dist-packages (from pytest>=7.1->-r cs224u/requirements.txt (line 6)) (1.1.3)\n",
            "Requirement already satisfied: tomli>=1.0.0 in /usr/local/lib/python3.10/dist-packages (from pytest>=7.1->-r cs224u/requirements.txt (line 6)) (2.0.1)\n",
            "Requirement already satisfied: notebook in /usr/local/lib/python3.10/dist-packages (from jupyter>=1.0.0->-r cs224u/requirements.txt (line 7)) (6.5.5)\n",
            "Collecting qtconsole (from jupyter>=1.0.0->-r cs224u/requirements.txt (line 7))\n",
            "  Downloading qtconsole-5.4.4-py3-none-any.whl (121 kB)\n",
            "\u001b[2K     \u001b[90m━━━━━━━━━━━━━━━━━━━━━━━━━━━━━━━━━━━━━━\u001b[0m \u001b[32m121.9/121.9 kB\u001b[0m \u001b[31m16.9 MB/s\u001b[0m eta \u001b[36m0:00:00\u001b[0m\n",
            "\u001b[?25hRequirement already satisfied: jupyter-console in /usr/local/lib/python3.10/dist-packages (from jupyter>=1.0.0->-r cs224u/requirements.txt (line 7)) (6.1.0)\n",
            "Requirement already satisfied: nbconvert in /usr/local/lib/python3.10/dist-packages (from jupyter>=1.0.0->-r cs224u/requirements.txt (line 7)) (6.5.4)\n",
            "Requirement already satisfied: ipykernel in /usr/local/lib/python3.10/dist-packages (from jupyter>=1.0.0->-r cs224u/requirements.txt (line 7)) (5.5.6)\n",
            "Requirement already satisfied: ipywidgets in /usr/local/lib/python3.10/dist-packages (from jupyter>=1.0.0->-r cs224u/requirements.txt (line 7)) (7.7.1)\n",
            "Requirement already satisfied: pytz>=2020.1 in /usr/local/lib/python3.10/dist-packages (from pandas>=1.5->-r cs224u/requirements.txt (line 8)) (2023.3.post1)\n",
            "Collecting backoff (from dsp-ml<0.2->-r cs224u/requirements.txt (line 14))\n",
            "  Downloading backoff-2.2.1-py3-none-any.whl (15 kB)\n",
            "Collecting ujson (from dsp-ml<0.2->-r cs224u/requirements.txt (line 14))\n",
            "  Downloading ujson-5.8.0-cp310-cp310-manylinux_2_17_x86_64.manylinux2014_x86_64.whl (53 kB)\n",
            "\u001b[2K     \u001b[90m━━━━━━━━━━━━━━━━━━━━━━━━━━━━━━━━━━━━━━━━\u001b[0m \u001b[32m53.9/53.9 kB\u001b[0m \u001b[31m7.0 MB/s\u001b[0m eta \u001b[36m0:00:00\u001b[0m\n",
            "\u001b[?25hCollecting fastavro==1.8.2 (from cohere->-r cs224u/requirements.txt (line 16))\n",
            "  Downloading fastavro-1.8.2-cp310-cp310-manylinux_2_17_x86_64.manylinux2014_x86_64.whl (2.7 MB)\n",
            "\u001b[2K     \u001b[90m━━━━━━━━━━━━━━━━━━━━━━━━━━━━━━━━━━━━━━━━\u001b[0m \u001b[32m2.7/2.7 MB\u001b[0m \u001b[31m39.8 MB/s\u001b[0m eta \u001b[36m0:00:00\u001b[0m\n",
            "\u001b[?25hRequirement already satisfied: importlib_metadata<7.0,>=6.0 in /usr/local/lib/python3.10/dist-packages (from cohere->-r cs224u/requirements.txt (line 16)) (6.8.0)\n",
            "Requirement already satisfied: urllib3<3,>=1.26 in /usr/local/lib/python3.10/dist-packages (from cohere->-r cs224u/requirements.txt (line 16)) (2.0.4)\n",
            "Requirement already satisfied: attrs>=17.3.0 in /usr/local/lib/python3.10/dist-packages (from aiohttp->datasets==2.10.1->-r cs224u/requirements.txt (line 12)) (23.1.0)\n",
            "Requirement already satisfied: charset-normalizer<4.0,>=2.0 in /usr/local/lib/python3.10/dist-packages (from aiohttp->datasets==2.10.1->-r cs224u/requirements.txt (line 12)) (3.2.0)\n",
            "Requirement already satisfied: multidict<7.0,>=4.5 in /usr/local/lib/python3.10/dist-packages (from aiohttp->datasets==2.10.1->-r cs224u/requirements.txt (line 12)) (6.0.4)\n",
            "Requirement already satisfied: async-timeout<5.0,>=4.0.0a3 in /usr/local/lib/python3.10/dist-packages (from aiohttp->datasets==2.10.1->-r cs224u/requirements.txt (line 12)) (4.0.3)\n",
            "Requirement already satisfied: yarl<2.0,>=1.0 in /usr/local/lib/python3.10/dist-packages (from aiohttp->datasets==2.10.1->-r cs224u/requirements.txt (line 12)) (1.9.2)\n",
            "Requirement already satisfied: frozenlist>=1.1.1 in /usr/local/lib/python3.10/dist-packages (from aiohttp->datasets==2.10.1->-r cs224u/requirements.txt (line 12)) (1.4.0)\n",
            "Requirement already satisfied: aiosignal>=1.1.2 in /usr/local/lib/python3.10/dist-packages (from aiohttp->datasets==2.10.1->-r cs224u/requirements.txt (line 12)) (1.3.1)\n",
            "Requirement already satisfied: zipp>=0.5 in /usr/local/lib/python3.10/dist-packages (from importlib_metadata<7.0,>=6.0->cohere->-r cs224u/requirements.txt (line 16)) (3.16.2)\n",
            "Requirement already satisfied: six>=1.5 in /usr/local/lib/python3.10/dist-packages (from python-dateutil>=2.7->matplotlib>=3.7.0->-r cs224u/requirements.txt (line 3)) (1.16.0)\n",
            "Requirement already satisfied: idna<4,>=2.5 in /usr/local/lib/python3.10/dist-packages (from requests->torchvision==0.14.1->-r cs224u/requirements.txt (line 10)) (3.4)\n",
            "Requirement already satisfied: certifi>=2017.4.17 in /usr/local/lib/python3.10/dist-packages (from requests->torchvision==0.14.1->-r cs224u/requirements.txt (line 10)) (2023.7.22)\n",
            "Requirement already satisfied: blis<0.8.0,>=0.7.8 in /usr/local/lib/python3.10/dist-packages (from thinc<8.2.0,>=8.1.8->spacy==3.5.1->-r cs224u/requirements.txt (line 13)) (0.7.10)\n",
            "Requirement already satisfied: confection<1.0.0,>=0.0.1 in /usr/local/lib/python3.10/dist-packages (from thinc<8.2.0,>=8.1.8->spacy==3.5.1->-r cs224u/requirements.txt (line 13)) (0.1.2)\n",
            "Requirement already satisfied: ipython-genutils in /usr/local/lib/python3.10/dist-packages (from ipykernel->jupyter>=1.0.0->-r cs224u/requirements.txt (line 7)) (0.2.0)\n",
            "Requirement already satisfied: ipython>=5.0.0 in /usr/local/lib/python3.10/dist-packages (from ipykernel->jupyter>=1.0.0->-r cs224u/requirements.txt (line 7)) (7.34.0)\n",
            "Requirement already satisfied: traitlets>=4.1.0 in /usr/local/lib/python3.10/dist-packages (from ipykernel->jupyter>=1.0.0->-r cs224u/requirements.txt (line 7)) (5.7.1)\n",
            "Requirement already satisfied: jupyter-client in /usr/local/lib/python3.10/dist-packages (from ipykernel->jupyter>=1.0.0->-r cs224u/requirements.txt (line 7)) (6.1.12)\n",
            "Requirement already satisfied: tornado>=4.2 in /usr/local/lib/python3.10/dist-packages (from ipykernel->jupyter>=1.0.0->-r cs224u/requirements.txt (line 7)) (6.3.2)\n",
            "Requirement already satisfied: widgetsnbextension~=3.6.0 in /usr/local/lib/python3.10/dist-packages (from ipywidgets->jupyter>=1.0.0->-r cs224u/requirements.txt (line 7)) (3.6.5)\n",
            "Requirement already satisfied: jupyterlab-widgets>=1.0.0 in /usr/local/lib/python3.10/dist-packages (from ipywidgets->jupyter>=1.0.0->-r cs224u/requirements.txt (line 7)) (3.0.8)\n",
            "Requirement already satisfied: MarkupSafe>=2.0 in /usr/local/lib/python3.10/dist-packages (from jinja2->spacy==3.5.1->-r cs224u/requirements.txt (line 13)) (2.1.3)\n",
            "Requirement already satisfied: prompt-toolkit!=3.0.0,!=3.0.1,<3.1.0,>=2.0.0 in /usr/local/lib/python3.10/dist-packages (from jupyter-console->jupyter>=1.0.0->-r cs224u/requirements.txt (line 7)) (3.0.39)\n",
            "Requirement already satisfied: pygments in /usr/local/lib/python3.10/dist-packages (from jupyter-console->jupyter>=1.0.0->-r cs224u/requirements.txt (line 7)) (2.16.1)\n",
            "INFO: pip is looking at multiple versions of multiprocess to determine which version is compatible with other requirements. This could take a while.\n",
            "Collecting multiprocess (from datasets==2.10.1->-r cs224u/requirements.txt (line 12))\n",
            "  Downloading multiprocess-0.70.14-py310-none-any.whl (134 kB)\n",
            "\u001b[2K     \u001b[90m━━━━━━━━━━━━━━━━━━━━━━━━━━━━━━━━━━━━━\u001b[0m \u001b[32m134.3/134.3 kB\u001b[0m \u001b[31m246.1 kB/s\u001b[0m eta \u001b[36m0:00:00\u001b[0m\n",
            "\u001b[?25hRequirement already satisfied: lxml in /usr/local/lib/python3.10/dist-packages (from nbconvert->jupyter>=1.0.0->-r cs224u/requirements.txt (line 7)) (4.9.3)\n",
            "Requirement already satisfied: beautifulsoup4 in /usr/local/lib/python3.10/dist-packages (from nbconvert->jupyter>=1.0.0->-r cs224u/requirements.txt (line 7)) (4.11.2)\n",
            "Requirement already satisfied: bleach in /usr/local/lib/python3.10/dist-packages (from nbconvert->jupyter>=1.0.0->-r cs224u/requirements.txt (line 7)) (6.0.0)\n",
            "Requirement already satisfied: defusedxml in /usr/local/lib/python3.10/dist-packages (from nbconvert->jupyter>=1.0.0->-r cs224u/requirements.txt (line 7)) (0.7.1)\n",
            "Requirement already satisfied: entrypoints>=0.2.2 in /usr/local/lib/python3.10/dist-packages (from nbconvert->jupyter>=1.0.0->-r cs224u/requirements.txt (line 7)) (0.4)\n",
            "Requirement already satisfied: jupyter-core>=4.7 in /usr/local/lib/python3.10/dist-packages (from nbconvert->jupyter>=1.0.0->-r cs224u/requirements.txt (line 7)) (5.3.1)\n",
            "Requirement already satisfied: jupyterlab-pygments in /usr/local/lib/python3.10/dist-packages (from nbconvert->jupyter>=1.0.0->-r cs224u/requirements.txt (line 7)) (0.2.2)\n",
            "Requirement already satisfied: mistune<2,>=0.8.1 in /usr/local/lib/python3.10/dist-packages (from nbconvert->jupyter>=1.0.0->-r cs224u/requirements.txt (line 7)) (0.8.4)\n",
            "Requirement already satisfied: nbclient>=0.5.0 in /usr/local/lib/python3.10/dist-packages (from nbconvert->jupyter>=1.0.0->-r cs224u/requirements.txt (line 7)) (0.8.0)\n",
            "Requirement already satisfied: nbformat>=5.1 in /usr/local/lib/python3.10/dist-packages (from nbconvert->jupyter>=1.0.0->-r cs224u/requirements.txt (line 7)) (5.9.2)\n",
            "Requirement already satisfied: pandocfilters>=1.4.1 in /usr/local/lib/python3.10/dist-packages (from nbconvert->jupyter>=1.0.0->-r cs224u/requirements.txt (line 7)) (1.5.0)\n",
            "Requirement already satisfied: tinycss2 in /usr/local/lib/python3.10/dist-packages (from nbconvert->jupyter>=1.0.0->-r cs224u/requirements.txt (line 7)) (1.2.1)\n",
            "Requirement already satisfied: pyzmq<25,>=17 in /usr/local/lib/python3.10/dist-packages (from notebook->jupyter>=1.0.0->-r cs224u/requirements.txt (line 7)) (23.2.1)\n",
            "Requirement already satisfied: argon2-cffi in /usr/local/lib/python3.10/dist-packages (from notebook->jupyter>=1.0.0->-r cs224u/requirements.txt (line 7)) (23.1.0)\n",
            "Requirement already satisfied: nest-asyncio>=1.5 in /usr/local/lib/python3.10/dist-packages (from notebook->jupyter>=1.0.0->-r cs224u/requirements.txt (line 7)) (1.5.7)\n",
            "Requirement already satisfied: Send2Trash>=1.8.0 in /usr/local/lib/python3.10/dist-packages (from notebook->jupyter>=1.0.0->-r cs224u/requirements.txt (line 7)) (1.8.2)\n",
            "Requirement already satisfied: terminado>=0.8.3 in /usr/local/lib/python3.10/dist-packages (from notebook->jupyter>=1.0.0->-r cs224u/requirements.txt (line 7)) (0.17.1)\n",
            "Requirement already satisfied: prometheus-client in /usr/local/lib/python3.10/dist-packages (from notebook->jupyter>=1.0.0->-r cs224u/requirements.txt (line 7)) (0.17.1)\n",
            "Requirement already satisfied: nbclassic>=0.4.7 in /usr/local/lib/python3.10/dist-packages (from notebook->jupyter>=1.0.0->-r cs224u/requirements.txt (line 7)) (1.0.0)\n",
            "Collecting qtpy>=2.4.0 (from qtconsole->jupyter>=1.0.0->-r cs224u/requirements.txt (line 7))\n",
            "  Downloading QtPy-2.4.0-py3-none-any.whl (93 kB)\n",
            "\u001b[2K     \u001b[90m━━━━━━━━━━━━━━━━━━━━━━━━━━━━━━━━━━━━━━━━\u001b[0m \u001b[32m93.4/93.4 kB\u001b[0m \u001b[31m12.2 MB/s\u001b[0m eta \u001b[36m0:00:00\u001b[0m\n",
            "\u001b[?25hCollecting jedi>=0.16 (from ipython>=5.0.0->ipykernel->jupyter>=1.0.0->-r cs224u/requirements.txt (line 7))\n",
            "  Downloading jedi-0.19.0-py2.py3-none-any.whl (1.6 MB)\n",
            "\u001b[2K     \u001b[90m━━━━━━━━━━━━━━━━━━━━━━━━━━━━━━━━━━━━━━━━\u001b[0m \u001b[32m1.6/1.6 MB\u001b[0m \u001b[31m89.1 MB/s\u001b[0m eta \u001b[36m0:00:00\u001b[0m\n",
            "\u001b[?25hRequirement already satisfied: decorator in /usr/local/lib/python3.10/dist-packages (from ipython>=5.0.0->ipykernel->jupyter>=1.0.0->-r cs224u/requirements.txt (line 7)) (4.4.2)\n",
            "Requirement already satisfied: pickleshare in /usr/local/lib/python3.10/dist-packages (from ipython>=5.0.0->ipykernel->jupyter>=1.0.0->-r cs224u/requirements.txt (line 7)) (0.7.5)\n",
            "Requirement already satisfied: backcall in /usr/local/lib/python3.10/dist-packages (from ipython>=5.0.0->ipykernel->jupyter>=1.0.0->-r cs224u/requirements.txt (line 7)) (0.2.0)\n",
            "Requirement already satisfied: matplotlib-inline in /usr/local/lib/python3.10/dist-packages (from ipython>=5.0.0->ipykernel->jupyter>=1.0.0->-r cs224u/requirements.txt (line 7)) (0.1.6)\n",
            "Requirement already satisfied: pexpect>4.3 in /usr/local/lib/python3.10/dist-packages (from ipython>=5.0.0->ipykernel->jupyter>=1.0.0->-r cs224u/requirements.txt (line 7)) (4.8.0)\n",
            "Requirement already satisfied: platformdirs>=2.5 in /usr/local/lib/python3.10/dist-packages (from jupyter-core>=4.7->nbconvert->jupyter>=1.0.0->-r cs224u/requirements.txt (line 7)) (3.10.0)\n",
            "Requirement already satisfied: jupyter-server>=1.8 in /usr/local/lib/python3.10/dist-packages (from nbclassic>=0.4.7->notebook->jupyter>=1.0.0->-r cs224u/requirements.txt (line 7)) (1.24.0)\n",
            "Requirement already satisfied: notebook-shim>=0.2.3 in /usr/local/lib/python3.10/dist-packages (from nbclassic>=0.4.7->notebook->jupyter>=1.0.0->-r cs224u/requirements.txt (line 7)) (0.2.3)\n",
            "Requirement already satisfied: fastjsonschema in /usr/local/lib/python3.10/dist-packages (from nbformat>=5.1->nbconvert->jupyter>=1.0.0->-r cs224u/requirements.txt (line 7)) (2.18.0)\n",
            "Requirement already satisfied: jsonschema>=2.6 in /usr/local/lib/python3.10/dist-packages (from nbformat>=5.1->nbconvert->jupyter>=1.0.0->-r cs224u/requirements.txt (line 7)) (4.19.0)\n",
            "Requirement already satisfied: wcwidth in /usr/local/lib/python3.10/dist-packages (from prompt-toolkit!=3.0.0,!=3.0.1,<3.1.0,>=2.0.0->jupyter-console->jupyter>=1.0.0->-r cs224u/requirements.txt (line 7)) (0.2.6)\n",
            "Requirement already satisfied: ptyprocess in /usr/local/lib/python3.10/dist-packages (from terminado>=0.8.3->notebook->jupyter>=1.0.0->-r cs224u/requirements.txt (line 7)) (0.7.0)\n",
            "Requirement already satisfied: argon2-cffi-bindings in /usr/local/lib/python3.10/dist-packages (from argon2-cffi->notebook->jupyter>=1.0.0->-r cs224u/requirements.txt (line 7)) (21.2.0)\n",
            "Requirement already satisfied: soupsieve>1.2 in /usr/local/lib/python3.10/dist-packages (from beautifulsoup4->nbconvert->jupyter>=1.0.0->-r cs224u/requirements.txt (line 7)) (2.5)\n",
            "Requirement already satisfied: webencodings in /usr/local/lib/python3.10/dist-packages (from bleach->nbconvert->jupyter>=1.0.0->-r cs224u/requirements.txt (line 7)) (0.5.1)\n",
            "Requirement already satisfied: parso<0.9.0,>=0.8.3 in /usr/local/lib/python3.10/dist-packages (from jedi>=0.16->ipython>=5.0.0->ipykernel->jupyter>=1.0.0->-r cs224u/requirements.txt (line 7)) (0.8.3)\n",
            "Requirement already satisfied: jsonschema-specifications>=2023.03.6 in /usr/local/lib/python3.10/dist-packages (from jsonschema>=2.6->nbformat>=5.1->nbconvert->jupyter>=1.0.0->-r cs224u/requirements.txt (line 7)) (2023.7.1)\n",
            "Requirement already satisfied: referencing>=0.28.4 in /usr/local/lib/python3.10/dist-packages (from jsonschema>=2.6->nbformat>=5.1->nbconvert->jupyter>=1.0.0->-r cs224u/requirements.txt (line 7)) (0.30.2)\n",
            "Requirement already satisfied: rpds-py>=0.7.1 in /usr/local/lib/python3.10/dist-packages (from jsonschema>=2.6->nbformat>=5.1->nbconvert->jupyter>=1.0.0->-r cs224u/requirements.txt (line 7)) (0.10.2)\n",
            "Requirement already satisfied: anyio<4,>=3.1.0 in /usr/local/lib/python3.10/dist-packages (from jupyter-server>=1.8->nbclassic>=0.4.7->notebook->jupyter>=1.0.0->-r cs224u/requirements.txt (line 7)) (3.7.1)\n",
            "Requirement already satisfied: websocket-client in /usr/local/lib/python3.10/dist-packages (from jupyter-server>=1.8->nbclassic>=0.4.7->notebook->jupyter>=1.0.0->-r cs224u/requirements.txt (line 7)) (1.6.2)\n",
            "Requirement already satisfied: cffi>=1.0.1 in /usr/local/lib/python3.10/dist-packages (from argon2-cffi-bindings->argon2-cffi->notebook->jupyter>=1.0.0->-r cs224u/requirements.txt (line 7)) (1.15.1)\n",
            "Requirement already satisfied: sniffio>=1.1 in /usr/local/lib/python3.10/dist-packages (from anyio<4,>=3.1.0->jupyter-server>=1.8->nbclassic>=0.4.7->notebook->jupyter>=1.0.0->-r cs224u/requirements.txt (line 7)) (1.3.0)\n",
            "Requirement already satisfied: pycparser in /usr/local/lib/python3.10/dist-packages (from cffi>=1.0.1->argon2-cffi-bindings->argon2-cffi->notebook->jupyter>=1.0.0->-r cs224u/requirements.txt (line 7)) (2.21)\n",
            "Installing collected packages: tokenizers, xxhash, ujson, typer, qtpy, nvidia-cuda-runtime-cu11, nvidia-cuda-nvrtc-cu11, nvidia-cublas-cu11, jedi, fastavro, dill, backoff, responses, nvidia-cudnn-cu11, multiprocess, huggingface-hub, transformers, torch, openai, cohere, torchvision, spacy, qtconsole, datasets, jupyter, dsp-ml\n",
            "  Attempting uninstall: typer\n",
            "    Found existing installation: typer 0.9.0\n",
            "    Uninstalling typer-0.9.0:\n",
            "      Successfully uninstalled typer-0.9.0\n",
            "  Attempting uninstall: torch\n",
            "    Found existing installation: torch 2.0.1+cu118\n",
            "    Uninstalling torch-2.0.1+cu118:\n",
            "      Successfully uninstalled torch-2.0.1+cu118\n",
            "  Attempting uninstall: torchvision\n",
            "    Found existing installation: torchvision 0.15.2+cu118\n",
            "    Uninstalling torchvision-0.15.2+cu118:\n",
            "      Successfully uninstalled torchvision-0.15.2+cu118\n",
            "  Attempting uninstall: spacy\n",
            "    Found existing installation: spacy 3.6.1\n",
            "    Uninstalling spacy-3.6.1:\n",
            "      Successfully uninstalled spacy-3.6.1\n",
            "\u001b[31mERROR: pip's dependency resolver does not currently take into account all the packages that are installed. This behaviour is the source of the following dependency conflicts.\n",
            "en-core-web-sm 3.6.0 requires spacy<3.7.0,>=3.6.0, but you have spacy 3.5.1 which is incompatible.\n",
            "torchaudio 2.0.2+cu118 requires torch==2.0.1, but you have torch 1.13.1 which is incompatible.\n",
            "torchdata 0.6.1 requires torch==2.0.1, but you have torch 1.13.1 which is incompatible.\n",
            "torchtext 0.15.2 requires torch==2.0.1, but you have torch 1.13.1 which is incompatible.\u001b[0m\u001b[31m\n",
            "\u001b[0mSuccessfully installed backoff-2.2.1 cohere-4.24 datasets-2.10.1 dill-0.3.6 dsp-ml-0.1.8 fastavro-1.8.2 huggingface-hub-0.17.1 jedi-0.19.0 jupyter-1.0.0 multiprocess-0.70.14 nvidia-cublas-cu11-11.10.3.66 nvidia-cuda-nvrtc-cu11-11.7.99 nvidia-cuda-runtime-cu11-11.7.99 nvidia-cudnn-cu11-8.5.0.96 openai-0.28.0 qtconsole-5.4.4 qtpy-2.4.0 responses-0.18.0 spacy-3.5.1 tokenizers-0.13.3 torch-1.13.1 torchvision-0.14.1 transformers-4.26.1 typer-0.7.0 ujson-5.8.0 xxhash-3.3.0\n"
          ]
        }
      ],
      "source": [
        "try:\n",
        "    # This library is our indicator that the required installs\n",
        "    # need to be done.\n",
        "    import datasets\n",
        "except ModuleNotFoundError:\n",
        "    !git clone https://github.com/cgpotts/cs224u/\n",
        "    !pip install -r cs224u/requirements.txt\n",
        "    import sys\n",
        "    sys.path.append(\"cs224u\")"
      ]
    },
    {
      "cell_type": "code",
      "execution_count": null,
      "id": "0b7d665d-000e-4bae-83a8-1f7c78879df5",
      "metadata": {
        "id": "0b7d665d-000e-4bae-83a8-1f7c78879df5"
      },
      "outputs": [],
      "source": [
        "import os\n",
        "import pandas as pd\n",
        "from compgen import recogs_exact_match"
      ]
    },
    {
      "cell_type": "markdown",
      "id": "5da265b5-a622-4f75-b0df-60cc53f7273e",
      "metadata": {
        "id": "5da265b5-a622-4f75-b0df-60cc53f7273e"
      },
      "source": [
        "The default location of the data:"
      ]
    },
    {
      "cell_type": "code",
      "execution_count": null,
      "id": "23eaea62-edd6-4f41-add5-353b186782ba",
      "metadata": {
        "id": "23eaea62-edd6-4f41-add5-353b186782ba"
      },
      "outputs": [],
      "source": [
        "SRC_DIRNAME = os.path.join(\"data\", \"recogs\")"
      ]
    },
    {
      "cell_type": "markdown",
      "id": "7b11f934-f2c3-4bc3-8c5f-d3dbbd450eb1",
      "metadata": {
        "id": "7b11f934-f2c3-4bc3-8c5f-d3dbbd450eb1"
      },
      "source": [
        "The following code should grab the dataset for you; if it fails for any reason, you can manually download it from [this link](https://web.stanford.edu/class/cs224u/data/recogs.tgz) and then put it in `SRC_DIRNAME`."
      ]
    },
    {
      "cell_type": "code",
      "execution_count": null,
      "id": "b902be49-6380-46ae-a353-a634b1cab256",
      "metadata": {
        "id": "b902be49-6380-46ae-a353-a634b1cab256",
        "colab": {
          "base_uri": "https://localhost:8080/"
        },
        "outputId": "f4387c13-86f2-4cb5-baa5-6ad0cd4d1e2f"
      },
      "outputs": [
        {
          "output_type": "stream",
          "name": "stdout",
          "text": [
            "--2023-09-11 17:59:51--  https://web.stanford.edu/class/cs224u/data/recogs.tgz\n",
            "Resolving web.stanford.edu (web.stanford.edu)... 171.67.215.200, 2607:f6d0:0:925a::ab43:d7c8\n",
            "Connecting to web.stanford.edu (web.stanford.edu)|171.67.215.200|:443... connected.\n",
            "HTTP request sent, awaiting response... 200 OK\n",
            "Length: 7075025 (6.7M) [application/x-gzip]\n",
            "Saving to: ‘data/recogs.tgz’\n",
            "\n",
            "recogs.tgz          100%[===================>]   6.75M   749KB/s    in 11s     \n",
            "\n",
            "2023-09-11 18:00:02 (647 KB/s) - ‘data/recogs.tgz’ saved [7075025/7075025]\n",
            "\n",
            "recogs/\n",
            "recogs/._train.tsv\n",
            "tar: Ignoring unknown extended header keyword 'LIBARCHIVE.xattr.com.apple.quarantine'\n",
            "recogs/train.tsv\n",
            "recogs/._tgt_vocab.txt\n",
            "tar: Ignoring unknown extended header keyword 'LIBARCHIVE.xattr.com.apple.quarantine'\n",
            "tar: Ignoring unknown extended header keyword 'LIBARCHIVE.xattr.com.apple.lastuseddate#PS'\n",
            "recogs/tgt_vocab.txt\n",
            "recogs/._decoder_config.json\n",
            "tar: Ignoring unknown extended header keyword 'LIBARCHIVE.xattr.com.apple.quarantine'\n",
            "tar: Ignoring unknown extended header keyword 'LIBARCHIVE.xattr.com.apple.lastuseddate#PS'\n",
            "recogs/decoder_config.json\n",
            "recogs/._dev.tsv\n",
            "tar: Ignoring unknown extended header keyword 'LIBARCHIVE.xattr.com.apple.quarantine'\n",
            "recogs/dev.tsv\n",
            "recogs/._encoder_config.json\n",
            "tar: Ignoring unknown extended header keyword 'LIBARCHIVE.xattr.com.apple.quarantine'\n",
            "tar: Ignoring unknown extended header keyword 'LIBARCHIVE.xattr.com.apple.lastuseddate#PS'\n",
            "recogs/encoder_config.json\n",
            "recogs/._src_vocab.txt\n",
            "tar: Ignoring unknown extended header keyword 'LIBARCHIVE.xattr.com.apple.quarantine'\n",
            "tar: Ignoring unknown extended header keyword 'LIBARCHIVE.xattr.com.apple.lastuseddate#PS'\n",
            "recogs/src_vocab.txt\n",
            "recogs/._test.tsv\n",
            "tar: Ignoring unknown extended header keyword 'LIBARCHIVE.xattr.com.apple.quarantine'\n",
            "recogs/test.tsv\n",
            "recogs/._cs224u-recogs-test-unlabeled.tsv\n",
            "tar: Ignoring unknown extended header keyword 'LIBARCHIVE.xattr.com.macromates.visibleIndex'\n",
            "tar: Ignoring unknown extended header keyword 'LIBARCHIVE.xattr.com.macromates.selectionRange'\n",
            "tar: Ignoring unknown extended header keyword 'LIBARCHIVE.xattr.com.apple.lastuseddate#PS'\n",
            "recogs/cs224u-recogs-test-unlabeled.tsv\n",
            "recogs/._gen.tsv\n",
            "tar: Ignoring unknown extended header keyword 'LIBARCHIVE.xattr.com.apple.quarantine'\n",
            "recogs/gen.tsv\n"
          ]
        }
      ],
      "source": [
        "if not os.path.exists(SRC_DIRNAME):\n",
        "    !mkdir -p data\n",
        "    !wget https://web.stanford.edu/class/cs224u/data/recogs.tgz -P data\n",
        "    !tar xvf data/recogs.tgz -C data/"
      ]
    },
    {
      "cell_type": "markdown",
      "id": "5da14956-1813-4372-b747-d7a2dbd10bc1",
      "metadata": {
        "id": "5da14956-1813-4372-b747-d7a2dbd10bc1"
      },
      "source": [
        "## Load the COGS and ReCOGS datasets"
      ]
    },
    {
      "cell_type": "code",
      "execution_count": null,
      "id": "49118e3a-a4fc-4a6a-9d88-c0f8371a390c",
      "metadata": {
        "id": "49118e3a-a4fc-4a6a-9d88-c0f8371a390c"
      },
      "outputs": [],
      "source": [
        "def load_split(filename):\n",
        "    return pd.read_csv(\n",
        "        filename,\n",
        "        delimiter=\"\\t\",\n",
        "        names=['input', 'output', 'category'])"
      ]
    },
    {
      "cell_type": "code",
      "execution_count": null,
      "id": "5fda2c30-a788-4a62-806c-f7318797474d",
      "metadata": {
        "id": "5fda2c30-a788-4a62-806c-f7318797474d"
      },
      "outputs": [],
      "source": [
        "dataset = {}\n",
        "\n",
        "for splitname in (\"train\", \"dev\", \"gen\"):\n",
        "    dataset[splitname] = load_split(f\"{SRC_DIRNAME}/{splitname}.tsv\")"
      ]
    },
    {
      "cell_type": "markdown",
      "id": "5e5a50d3-6f83-4c66-bea5-548ccf25ba7a",
      "metadata": {
        "id": "5e5a50d3-6f83-4c66-bea5-548ccf25ba7a"
      },
      "source": [
        "Here's a look at the dataset. Fundamentally, the task is to map simple English sentences to logical forms. For ReCOGS, you need only predict these forms up to semantic equivalence, which means that we abstract away from the order of the conjuncts and the names of specific variables."
      ]
    },
    {
      "cell_type": "code",
      "execution_count": null,
      "id": "f6900c28-1949-419b-a8e4-9d534f973dae",
      "metadata": {
        "id": "f6900c28-1949-419b-a8e4-9d534f973dae",
        "colab": {
          "base_uri": "https://localhost:8080/",
          "height": 112
        },
        "outputId": "a12634d7-7fb9-4c90-9b4b-55db69f4da86"
      },
      "outputs": [
        {
          "output_type": "execute_result",
          "data": {
            "text/plain": [
              "                          input  \\\n",
              "0  A rose was helped by a dog .   \n",
              "1     The sailor dusted a boy .   \n",
              "\n",
              "                                              output         category  \n",
              "0  rose ( 53 ) ; dog ( 38 ) ; help ( 7 ) AND them...  in_distribution  \n",
              "1  * sailor ( 48 ) ; boy ( 53 ) ; dust ( 10 ) AND...  in_distribution  "
            ],
            "text/html": [
              "\n",
              "  <div id=\"df-782c9700-deef-484e-8b01-a411aea823ff\" class=\"colab-df-container\">\n",
              "    <div>\n",
              "<style scoped>\n",
              "    .dataframe tbody tr th:only-of-type {\n",
              "        vertical-align: middle;\n",
              "    }\n",
              "\n",
              "    .dataframe tbody tr th {\n",
              "        vertical-align: top;\n",
              "    }\n",
              "\n",
              "    .dataframe thead th {\n",
              "        text-align: right;\n",
              "    }\n",
              "</style>\n",
              "<table border=\"1\" class=\"dataframe\">\n",
              "  <thead>\n",
              "    <tr style=\"text-align: right;\">\n",
              "      <th></th>\n",
              "      <th>input</th>\n",
              "      <th>output</th>\n",
              "      <th>category</th>\n",
              "    </tr>\n",
              "  </thead>\n",
              "  <tbody>\n",
              "    <tr>\n",
              "      <th>0</th>\n",
              "      <td>A rose was helped by a dog .</td>\n",
              "      <td>rose ( 53 ) ; dog ( 38 ) ; help ( 7 ) AND them...</td>\n",
              "      <td>in_distribution</td>\n",
              "    </tr>\n",
              "    <tr>\n",
              "      <th>1</th>\n",
              "      <td>The sailor dusted a boy .</td>\n",
              "      <td>* sailor ( 48 ) ; boy ( 53 ) ; dust ( 10 ) AND...</td>\n",
              "      <td>in_distribution</td>\n",
              "    </tr>\n",
              "  </tbody>\n",
              "</table>\n",
              "</div>\n",
              "    <div class=\"colab-df-buttons\">\n",
              "\n",
              "  <div class=\"colab-df-container\">\n",
              "    <button class=\"colab-df-convert\" onclick=\"convertToInteractive('df-782c9700-deef-484e-8b01-a411aea823ff')\"\n",
              "            title=\"Convert this dataframe to an interactive table.\"\n",
              "            style=\"display:none;\">\n",
              "\n",
              "  <svg xmlns=\"http://www.w3.org/2000/svg\" height=\"24px\" viewBox=\"0 -960 960 960\">\n",
              "    <path d=\"M120-120v-720h720v720H120Zm60-500h600v-160H180v160Zm220 220h160v-160H400v160Zm0 220h160v-160H400v160ZM180-400h160v-160H180v160Zm440 0h160v-160H620v160ZM180-180h160v-160H180v160Zm440 0h160v-160H620v160Z\"/>\n",
              "  </svg>\n",
              "    </button>\n",
              "\n",
              "  <style>\n",
              "    .colab-df-container {\n",
              "      display:flex;\n",
              "      gap: 12px;\n",
              "    }\n",
              "\n",
              "    .colab-df-convert {\n",
              "      background-color: #E8F0FE;\n",
              "      border: none;\n",
              "      border-radius: 50%;\n",
              "      cursor: pointer;\n",
              "      display: none;\n",
              "      fill: #1967D2;\n",
              "      height: 32px;\n",
              "      padding: 0 0 0 0;\n",
              "      width: 32px;\n",
              "    }\n",
              "\n",
              "    .colab-df-convert:hover {\n",
              "      background-color: #E2EBFA;\n",
              "      box-shadow: 0px 1px 2px rgba(60, 64, 67, 0.3), 0px 1px 3px 1px rgba(60, 64, 67, 0.15);\n",
              "      fill: #174EA6;\n",
              "    }\n",
              "\n",
              "    .colab-df-buttons div {\n",
              "      margin-bottom: 4px;\n",
              "    }\n",
              "\n",
              "    [theme=dark] .colab-df-convert {\n",
              "      background-color: #3B4455;\n",
              "      fill: #D2E3FC;\n",
              "    }\n",
              "\n",
              "    [theme=dark] .colab-df-convert:hover {\n",
              "      background-color: #434B5C;\n",
              "      box-shadow: 0px 1px 3px 1px rgba(0, 0, 0, 0.15);\n",
              "      filter: drop-shadow(0px 1px 2px rgba(0, 0, 0, 0.3));\n",
              "      fill: #FFFFFF;\n",
              "    }\n",
              "  </style>\n",
              "\n",
              "    <script>\n",
              "      const buttonEl =\n",
              "        document.querySelector('#df-782c9700-deef-484e-8b01-a411aea823ff button.colab-df-convert');\n",
              "      buttonEl.style.display =\n",
              "        google.colab.kernel.accessAllowed ? 'block' : 'none';\n",
              "\n",
              "      async function convertToInteractive(key) {\n",
              "        const element = document.querySelector('#df-782c9700-deef-484e-8b01-a411aea823ff');\n",
              "        const dataTable =\n",
              "          await google.colab.kernel.invokeFunction('convertToInteractive',\n",
              "                                                    [key], {});\n",
              "        if (!dataTable) return;\n",
              "\n",
              "        const docLinkHtml = 'Like what you see? Visit the ' +\n",
              "          '<a target=\"_blank\" href=https://colab.research.google.com/notebooks/data_table.ipynb>data table notebook</a>'\n",
              "          + ' to learn more about interactive tables.';\n",
              "        element.innerHTML = '';\n",
              "        dataTable['output_type'] = 'display_data';\n",
              "        await google.colab.output.renderOutput(dataTable, element);\n",
              "        const docLink = document.createElement('div');\n",
              "        docLink.innerHTML = docLinkHtml;\n",
              "        element.appendChild(docLink);\n",
              "      }\n",
              "    </script>\n",
              "  </div>\n",
              "\n",
              "\n",
              "<div id=\"df-2635e856-d601-4f08-a3c2-8b4204324da8\">\n",
              "  <button class=\"colab-df-quickchart\" onclick=\"quickchart('df-2635e856-d601-4f08-a3c2-8b4204324da8')\"\n",
              "            title=\"Suggest charts.\"\n",
              "            style=\"display:none;\">\n",
              "\n",
              "<svg xmlns=\"http://www.w3.org/2000/svg\" height=\"24px\"viewBox=\"0 0 24 24\"\n",
              "     width=\"24px\">\n",
              "    <g>\n",
              "        <path d=\"M19 3H5c-1.1 0-2 .9-2 2v14c0 1.1.9 2 2 2h14c1.1 0 2-.9 2-2V5c0-1.1-.9-2-2-2zM9 17H7v-7h2v7zm4 0h-2V7h2v10zm4 0h-2v-4h2v4z\"/>\n",
              "    </g>\n",
              "</svg>\n",
              "  </button>\n",
              "\n",
              "<style>\n",
              "  .colab-df-quickchart {\n",
              "      --bg-color: #E8F0FE;\n",
              "      --fill-color: #1967D2;\n",
              "      --hover-bg-color: #E2EBFA;\n",
              "      --hover-fill-color: #174EA6;\n",
              "      --disabled-fill-color: #AAA;\n",
              "      --disabled-bg-color: #DDD;\n",
              "  }\n",
              "\n",
              "  [theme=dark] .colab-df-quickchart {\n",
              "      --bg-color: #3B4455;\n",
              "      --fill-color: #D2E3FC;\n",
              "      --hover-bg-color: #434B5C;\n",
              "      --hover-fill-color: #FFFFFF;\n",
              "      --disabled-bg-color: #3B4455;\n",
              "      --disabled-fill-color: #666;\n",
              "  }\n",
              "\n",
              "  .colab-df-quickchart {\n",
              "    background-color: var(--bg-color);\n",
              "    border: none;\n",
              "    border-radius: 50%;\n",
              "    cursor: pointer;\n",
              "    display: none;\n",
              "    fill: var(--fill-color);\n",
              "    height: 32px;\n",
              "    padding: 0;\n",
              "    width: 32px;\n",
              "  }\n",
              "\n",
              "  .colab-df-quickchart:hover {\n",
              "    background-color: var(--hover-bg-color);\n",
              "    box-shadow: 0 1px 2px rgba(60, 64, 67, 0.3), 0 1px 3px 1px rgba(60, 64, 67, 0.15);\n",
              "    fill: var(--button-hover-fill-color);\n",
              "  }\n",
              "\n",
              "  .colab-df-quickchart-complete:disabled,\n",
              "  .colab-df-quickchart-complete:disabled:hover {\n",
              "    background-color: var(--disabled-bg-color);\n",
              "    fill: var(--disabled-fill-color);\n",
              "    box-shadow: none;\n",
              "  }\n",
              "\n",
              "  .colab-df-spinner {\n",
              "    border: 2px solid var(--fill-color);\n",
              "    border-color: transparent;\n",
              "    border-bottom-color: var(--fill-color);\n",
              "    animation:\n",
              "      spin 1s steps(1) infinite;\n",
              "  }\n",
              "\n",
              "  @keyframes spin {\n",
              "    0% {\n",
              "      border-color: transparent;\n",
              "      border-bottom-color: var(--fill-color);\n",
              "      border-left-color: var(--fill-color);\n",
              "    }\n",
              "    20% {\n",
              "      border-color: transparent;\n",
              "      border-left-color: var(--fill-color);\n",
              "      border-top-color: var(--fill-color);\n",
              "    }\n",
              "    30% {\n",
              "      border-color: transparent;\n",
              "      border-left-color: var(--fill-color);\n",
              "      border-top-color: var(--fill-color);\n",
              "      border-right-color: var(--fill-color);\n",
              "    }\n",
              "    40% {\n",
              "      border-color: transparent;\n",
              "      border-right-color: var(--fill-color);\n",
              "      border-top-color: var(--fill-color);\n",
              "    }\n",
              "    60% {\n",
              "      border-color: transparent;\n",
              "      border-right-color: var(--fill-color);\n",
              "    }\n",
              "    80% {\n",
              "      border-color: transparent;\n",
              "      border-right-color: var(--fill-color);\n",
              "      border-bottom-color: var(--fill-color);\n",
              "    }\n",
              "    90% {\n",
              "      border-color: transparent;\n",
              "      border-bottom-color: var(--fill-color);\n",
              "    }\n",
              "  }\n",
              "</style>\n",
              "\n",
              "  <script>\n",
              "    async function quickchart(key) {\n",
              "      const quickchartButtonEl =\n",
              "        document.querySelector('#' + key + ' button');\n",
              "      quickchartButtonEl.disabled = true;  // To prevent multiple clicks.\n",
              "      quickchartButtonEl.classList.add('colab-df-spinner');\n",
              "      try {\n",
              "        const charts = await google.colab.kernel.invokeFunction(\n",
              "            'suggestCharts', [key], {});\n",
              "      } catch (error) {\n",
              "        console.error('Error during call to suggestCharts:', error);\n",
              "      }\n",
              "      quickchartButtonEl.classList.remove('colab-df-spinner');\n",
              "      quickchartButtonEl.classList.add('colab-df-quickchart-complete');\n",
              "    }\n",
              "    (() => {\n",
              "      let quickchartButtonEl =\n",
              "        document.querySelector('#df-2635e856-d601-4f08-a3c2-8b4204324da8 button');\n",
              "      quickchartButtonEl.style.display =\n",
              "        google.colab.kernel.accessAllowed ? 'block' : 'none';\n",
              "    })();\n",
              "  </script>\n",
              "</div>\n",
              "\n",
              "    </div>\n",
              "  </div>\n"
            ]
          },
          "metadata": {},
          "execution_count": 8
        }
      ],
      "source": [
        "dataset['train'].head(2)"
      ]
    },
    {
      "cell_type": "markdown",
      "id": "03961b86-b824-4c5f-8e54-8258b71a6466",
      "metadata": {
        "id": "03961b86-b824-4c5f-8e54-8258b71a6466"
      },
      "source": [
        "The `dataset['gen']` section is divided up into different 21 categories. A category name `X_to_Y` or `only_seen_as_X_as_Y`  means that specific phrases were seen only as `X` in training and will encounter those phrases as `Y` at test time."
      ]
    },
    {
      "cell_type": "code",
      "execution_count": null,
      "id": "9eb7e84b-5304-4d4c-a0a5-919ff79a7730",
      "metadata": {
        "id": "9eb7e84b-5304-4d4c-a0a5-919ff79a7730",
        "colab": {
          "base_uri": "https://localhost:8080/"
        },
        "outputId": "a7377945-785e-49fd-fe74-96d4027b89e6"
      },
      "outputs": [
        {
          "output_type": "execute_result",
          "data": {
            "text/plain": [
              "['active_to_passive',\n",
              " 'cp_recursion',\n",
              " 'do_dative_to_pp_dative',\n",
              " 'obj_omitted_transitive_to_transitive',\n",
              " 'obj_pp_to_subj_pp',\n",
              " 'obj_to_subj_common',\n",
              " 'obj_to_subj_proper',\n",
              " 'only_seen_as_transitive_subj_as_unacc_subj',\n",
              " 'only_seen_as_unacc_subj_as_obj_omitted_transitive_subj',\n",
              " 'only_seen_as_unacc_subj_as_unerg_subj',\n",
              " 'passive_to_active',\n",
              " 'pp_dative_to_do_dative',\n",
              " 'pp_recursion',\n",
              " 'prim_to_inf_arg',\n",
              " 'prim_to_obj_common',\n",
              " 'prim_to_obj_proper',\n",
              " 'prim_to_subj_common',\n",
              " 'prim_to_subj_proper',\n",
              " 'subj_to_obj_common',\n",
              " 'subj_to_obj_proper',\n",
              " 'unacc_to_transitive']"
            ]
          },
          "metadata": {},
          "execution_count": 9
        }
      ],
      "source": [
        "sorted(dataset['gen'].category.unique())"
      ]
    },
    {
      "cell_type": "markdown",
      "id": "5264a754-0903-40bf-8012-9abd9d7a41dc",
      "metadata": {
        "id": "5264a754-0903-40bf-8012-9abd9d7a41dc"
      },
      "source": [
        "## Question 1: Proper names and their semantic roles"
      ]
    },
    {
      "cell_type": "markdown",
      "id": "989aaeec-4de8-4d7f-a90f-334117b4ea04",
      "metadata": {
        "id": "989aaeec-4de8-4d7f-a90f-334117b4ea04"
      },
      "source": [
        "A number of the COGS/ReCOGS generalization categories assess models on their ability to handle proper names appearing in novel positions at test time. For example, in the `obj_to_subj_proper` category, models encounter proper names that appeared in the train set only in grammatical object position (e.g., _see Sandy_), and then they are asked to make predictions about cases where those names are grammatical subjects (_Sandy left_). These changes have systematic effects on the grammatical roles that the meanings of these names play semantically. In particular, subjects are likely to play `agent` roles and objects are likely to play `theme` roles."
      ]
    },
    {
      "cell_type": "markdown",
      "id": "4acb7cb6-5e43-4697-89eb-c16c592209b1",
      "metadata": {
        "id": "4acb7cb6-5e43-4697-89eb-c16c592209b1"
      },
      "source": [
        "### Task 1: Pattern-based analysis function [1 point]"
      ]
    },
    {
      "cell_type": "markdown",
      "id": "552d0f81-cd75-4895-9414-1ada5c9c9f28",
      "metadata": {
        "id": "552d0f81-cd75-4895-9414-1ada5c9c9f28"
      },
      "source": [
        "Write a function that scans ReCOGS logical forms to determine what role proper names play. The following are the core steps:\n",
        "\n",
        "1. Identify proper names. All and only proper names begin with capital letters in these LFs, and proper names consist only of ascii letters. The format is, informally, `Name ( d+ )`, as in `Sandy ( 47 )`.\n",
        "\n",
        "2. Identify role expressions. The pattern is always `role ( d+ , d+ )`, as in `agent ( 1 , 47 )`. Here, the first variable is for the associated event, and the second is the role argument. The possible roles are `agent`, `theme`, and `recipient`. (The dataset includes other roles, but these involve events, not people.)\n",
        "\n",
        "3. Determine which of the above are linked in the sense that the variable names are the same. A given name can link to multiple role expressions (or none at all), and LFs can contain multiple names and multiple role expressions.\n",
        "\n",
        "To do the above, you just need to complete the function `get_propername_role`. The test should clear up any ambiguity and help you iterate to a solution."
      ]
    },
    {
      "cell_type": "code",
      "execution_count": null,
      "id": "f3a19570-3a3c-4843-a9de-f48f2b746dfe",
      "metadata": {
        "id": "f3a19570-3a3c-4843-a9de-f48f2b746dfe"
      },
      "outputs": [],
      "source": [
        "import re\n",
        "\n",
        "def get_propername_role(s):\n",
        "    \"\"\"Extract from `s` all the pairs `(name, role)` determined by\n",
        "    binding relationships. There can be multiple tokens of the same\n",
        "    name with different variables, as in \"Kim ( 1 )\" and \"Kim ( 47 )\",\n",
        "    and there can be instances in which a single name with variable\n",
        "    like \"Kim ( 1 )\" binds into multiple role expressions like\n",
        "    \"agent ( 4 , 1 )\" and \"theme ( 6 , 1 )\". Your function should\n",
        "    cover all these cases.\n",
        "\n",
        "    We've suggested a particular program design to get you started,\n",
        "    but you are free to do something different and perhaps cleverer\n",
        "    if you wish!\n",
        "\n",
        "    Parameters\n",
        "    ----------\n",
        "    s: str\n",
        "\n",
        "    Returns\n",
        "    -------\n",
        "    set of tuples `(name, role)` where `name` and `role` are str\n",
        "    \"\"\"\n",
        "    # Step 1: Define a regex for \"name ( var )\" expressions:\n",
        "    ##### YOUR CODE HERE\n",
        "    proper_name_regex = r\"(\\w+) \\( (\\d+) \\)\"\n",
        "\n",
        "\n",
        "    # Step 2: Define a regex for \"role ( var , var )\" expressions:\n",
        "    ##### YOUR CODE HERE\n",
        "    #role_expression_regex = r\"(\\w+) \\( \\d+ , (\\d+) \\)\"\n",
        "    role_expression_regex = r\"(\\w+) \\( \\d+\\s*, (\\d+) \\)\"\n",
        "\n",
        "\n",
        "    # Step 3: Use `findall` with both of your regexs:\n",
        "    ##### YOUR CODE HERE\n",
        "    proper_name_matches = re.findall(proper_name_regex, s)\n",
        "    role_expression_matches = re.findall(role_expression_regex, s)\n",
        "\n",
        "\n",
        "    # Step 4: Loop overall combinations of matches from your regexs\n",
        "    # to build `data` as a set of pairs `(name, role)`:\n",
        "    data = set()\n",
        "    ##### YOUR CODE HERE\n",
        "    all_matches = list()\n",
        "    all_matches.extend(proper_name_matches)\n",
        "    all_matches.extend(role_expression_matches)\n",
        "\n",
        "    gen_values = set([y for x,y in all_matches])\n",
        "\n",
        "    d = {}\n",
        "    for val in gen_values:\n",
        "      d[val] = [x for x,y in all_matches if y == val]\n",
        "\n",
        "    for v in d.values():\n",
        "      if len(v) == 2:\n",
        "        data.add(tuple(v))\n",
        "      elif len(v) > 2:\n",
        "        match_key = v[0]\n",
        "        for i in range(1,len(v)):\n",
        "          data.add(tuple([match_key, v[i]]))\n",
        "\n",
        "    # Step 5: Return `data`:\n",
        "    return data\n",
        "    ##### YOUR CODE HERE"
      ]
    },
    {
      "cell_type": "code",
      "execution_count": null,
      "id": "60f3e98e-78f2-4096-b5df-db38700997dc",
      "metadata": {
        "id": "60f3e98e-78f2-4096-b5df-db38700997dc"
      },
      "outputs": [],
      "source": [
        "def test_get_propername_role(func):\n",
        "    examples = [\n",
        "        # Standard case:\n",
        "        (\n",
        "            \"Bella ( 7 ) ; smile ( 4 ) AND agent ( 4 , 7 )\",\n",
        "            {(\"Bella\", \"agent\")}\n",
        "        ),\n",
        "        # No binding:\n",
        "        (\n",
        "            \"Riley ( 37 ) ; theme ( 4 , 7 )\",\n",
        "            set()\n",
        "        ),\n",
        "        # Two tokens of the same name referring to different entities:\n",
        "        (\n",
        "            \"Riley ( 37 ) ; Riley ( 4 ) ; theme ( 1 , 37 ) AND agent ( 1 , 4 )\",\n",
        "            {(\"Riley\", \"theme\"), (\"Riley\", \"agent\")},\n",
        "        ),\n",
        "        # Two names:\n",
        "        (\n",
        "            \"Riley ( 4 ) ; Emma ( 243 ) ; recipient ( 6 , 4 ) AND agent ( 6 , 243 )\",\n",
        "            {(\"Riley\", \"recipient\"), (\"Emma\", \"agent\")},\n",
        "        ),\n",
        "        # One name binding into multiple role expressions:\n",
        "        (\n",
        "            \"Riley ( 4 ) ; agent ( 6 , 4 ) AND theme ( 6 , 4 )\",\n",
        "            {(\"Riley\", \"theme\"), (\"Riley\", \"agent\")},\n",
        "        ),\n",
        "        # Nothing to match:\n",
        "        (\n",
        "            \"no proper names\",\n",
        "            set()\n",
        "        )\n",
        "    ]\n",
        "    errcount = 0\n",
        "    for ex, expected in examples:\n",
        "        result = func(ex)\n",
        "        if expected != result:\n",
        "            errcount += 1\n",
        "            print(f\"Error for `{func.__name__}`:\"\n",
        "                  f\"\\n\\tInput: {ex}\"\n",
        "                  f\"\\n\\tExpected: {expected}\"\n",
        "                  f\"\\n\\tGot: {result}\")\n",
        "    if errcount == 0:\n",
        "        print(f\"No errors detected for `{func.__name__}`\")"
      ]
    },
    {
      "cell_type": "code",
      "execution_count": null,
      "id": "01c1d893-6e10-4913-8852-b0df7da1eb67",
      "metadata": {
        "id": "01c1d893-6e10-4913-8852-b0df7da1eb67",
        "colab": {
          "base_uri": "https://localhost:8080/"
        },
        "outputId": "bc5d0f7d-ecf0-4b10-960d-2c64ec4a63a7"
      },
      "outputs": [
        {
          "output_type": "stream",
          "name": "stdout",
          "text": [
            "No errors detected for `get_propername_role`\n"
          ]
        }
      ],
      "source": [
        "test_get_propername_role(get_propername_role)"
      ]
    },
    {
      "cell_type": "markdown",
      "id": "d7908627-e0ac-4f97-bfd9-55a83ba70d3a",
      "metadata": {
        "id": "d7908627-e0ac-4f97-bfd9-55a83ba70d3a"
      },
      "source": [
        "### Task 2: Finding challenging names [1 point]"
      ]
    },
    {
      "cell_type": "markdown",
      "id": "ab578426-4f74-4e93-879c-e40d8ab92fc7",
      "metadata": {
        "id": "ab578426-4f74-4e93-879c-e40d8ab92fc7"
      },
      "source": [
        "You can now use your code to find the names that will be the most challenging because their train/gen roles are disjoint. To do this, you just need to complete the function `find_name_roles`:"
      ]
    },
    {
      "cell_type": "code",
      "execution_count": null,
      "id": "728fe9a2-35a7-47d3-98b9-56a13362f5c0",
      "metadata": {
        "id": "728fe9a2-35a7-47d3-98b9-56a13362f5c0"
      },
      "outputs": [],
      "source": [
        "from collections import defaultdict\n",
        "\n",
        "def find_name_roles(split_df, colname=\"output\"):\n",
        "    \"\"\"Create a map from names to dicts mapping roles to counts: the\n",
        "    number of time the name appears with role in `split_df`:\n",
        "\n",
        "    Parameters\n",
        "    ----------\n",
        "    split_df : pd.DataFrame\n",
        "        Needs to have a column called `colname`.\n",
        "    colname: str\n",
        "        Column to target with `get_propername_role`. Default: \"output\".\n",
        "\n",
        "    Returns\n",
        "    -------\n",
        "    `defaultdict` mapping names to roles to counts\n",
        "    \"\"\"\n",
        "    # This is a convenient way to create a multidimensional count dict:\n",
        "    # You can access it out of the box as `all_roles[key1][key2] += 1`.\n",
        "    all_roles = defaultdict(lambda : defaultdict(int))\n",
        "\n",
        "    # Apply `get_propername_role` to every value in the target column\n",
        "    # and aggregate the results into `all_roles`:\n",
        "    ##### YOUR CODE HERE\n",
        "    split_df['name_role'] = split_df[colname].apply(get_propername_role)\n",
        "\n",
        "    for name_role in split_df['name_role']:\n",
        "      name_role_list = list(name_role)\n",
        "      if len(name_role_list) > 0:\n",
        "        name, role = list(name_role)[0]\n",
        "        all_roles[name][role] += 1\n",
        "\n",
        "\n",
        "    # Return `all_roles`:\n",
        "    return all_roles"
      ]
    },
    {
      "cell_type": "markdown",
      "id": "57613848-3acd-4114-b5f0-49374d7e4c5b",
      "metadata": {
        "id": "57613848-3acd-4114-b5f0-49374d7e4c5b"
      },
      "source": [
        "A quick test:"
      ]
    },
    {
      "cell_type": "code",
      "execution_count": null,
      "id": "72997def-1245-4c25-98f6-c7a601e35593",
      "metadata": {
        "id": "72997def-1245-4c25-98f6-c7a601e35593"
      },
      "outputs": [],
      "source": [
        "def test_find_name_roles(func):\n",
        "    df = pd.DataFrame({\n",
        "        \"tester\": [\n",
        "            \"Bella ( 7 ) ; agent ( 4 , 7 )\",\n",
        "            \"Bella ( 7 ) ; agent ( 4 , 7 )\",\n",
        "            \"Riley ( 37 ) ; agent ( 4 , 37 )\",\n",
        "            \"Riley ( 3 ) ; theme ( 4 , 3 )\",\n",
        "            \"Emma ( 37 ) ; theme ( 4 , 7 )\"\n",
        "        ]})\n",
        "    expected = {\n",
        "        \"Bella\": {\"agent\": 2},\n",
        "        \"Riley\": {\"agent\": 1, \"theme\": 1}\n",
        "    }\n",
        "    result = func(df, colname=\"tester\")\n",
        "    if result != expected:\n",
        "        print(f\"Error for `{func.__name__}`:\"\n",
        "              f\"\\n\\tExpected:{expected}\"\n",
        "              f\"\\n\\tGot: {result}\")\n",
        "    else:\n",
        "        print(f\"No errors found for `{func.__name__}`\")"
      ]
    },
    {
      "cell_type": "code",
      "execution_count": null,
      "id": "eb1e75e4-d5f0-4181-85d9-73b9d8b1db8d",
      "metadata": {
        "id": "eb1e75e4-d5f0-4181-85d9-73b9d8b1db8d",
        "colab": {
          "base_uri": "https://localhost:8080/"
        },
        "outputId": "764ca6fc-d700-4ee6-d698-25203cedf234"
      },
      "outputs": [
        {
          "output_type": "stream",
          "name": "stdout",
          "text": [
            "No errors found for `find_name_roles`\n"
          ]
        }
      ],
      "source": [
        "test_find_name_roles(find_name_roles)"
      ]
    },
    {
      "cell_type": "markdown",
      "id": "6532c822-d02f-4930-b119-d167ee797384",
      "metadata": {
        "id": "6532c822-d02f-4930-b119-d167ee797384"
      },
      "source": [
        "Once the test passes, this analysis should be informative:"
      ]
    },
    {
      "cell_type": "code",
      "execution_count": null,
      "id": "bb0c22b2-845e-41b8-a958-e5cd9628bf7c",
      "metadata": {
        "id": "bb0c22b2-845e-41b8-a958-e5cd9628bf7c",
        "colab": {
          "base_uri": "https://localhost:8080/"
        },
        "outputId": "3daeb080-6edd-42ff-c4ea-d19e4f2b7744"
      },
      "outputs": [
        {
          "output_type": "execute_result",
          "data": {
            "text/plain": [
              "[('rose', defaultdict(int, {'theme': 2882})),\n",
              " ('donut', defaultdict(int, {'theme': 2860})),\n",
              " ('pen', defaultdict(int, {'theme': 535}))]"
            ]
          },
          "metadata": {},
          "execution_count": 23
        }
      ],
      "source": [
        "train_roles = find_name_roles(dataset['train'])\n",
        "\n",
        "sorted(train_roles.items(), key=lambda x: len(x[1]))[: 3]"
      ]
    },
    {
      "cell_type": "code",
      "execution_count": null,
      "id": "3dc45e2a-78ef-46fd-8119-e054c58b148a",
      "metadata": {
        "id": "3dc45e2a-78ef-46fd-8119-e054c58b148a",
        "colab": {
          "base_uri": "https://localhost:8080/"
        },
        "outputId": "963591e5-8248-4664-aa90-734c1ddd8534"
      },
      "outputs": [
        {
          "output_type": "execute_result",
          "data": {
            "text/plain": [
              "[('cake', defaultdict(int, {'theme': 2324})),\n",
              " ('hippo', defaultdict(int, {'agent': 251})),\n",
              " ('cobra', defaultdict(int, {'theme': 170}))]"
            ]
          },
          "metadata": {},
          "execution_count": 24
        }
      ],
      "source": [
        "gen_roles = find_name_roles(dataset[\"gen\"])\n",
        "\n",
        "sorted(gen_roles.items(), key=lambda x: len(x[1]))[: 3]"
      ]
    },
    {
      "cell_type": "markdown",
      "id": "d9338e56-1171-48f0-ab8a-0c556d2dfdbf",
      "metadata": {
        "id": "d9338e56-1171-48f0-ab8a-0c556d2dfdbf"
      },
      "source": [
        "We will return to these troublemakers in a bit."
      ]
    },
    {
      "cell_type": "markdown",
      "id": "6517a076-72b5-4837-8898-fef1f8339657",
      "metadata": {
        "id": "6517a076-72b5-4837-8898-fef1f8339657"
      },
      "source": [
        "## Pretrained ReCOGS models"
      ]
    },
    {
      "cell_type": "markdown",
      "id": "f0076aa3-9eea-475d-aea4-b7653a865120",
      "metadata": {
        "id": "f0076aa3-9eea-475d-aea4-b7653a865120"
      },
      "source": [
        "We launch now into an extended interlude before Question 2. For Question 2, you will work with a ReCOGS model that we trained for you. This interlude presents the code needed to work with this model. We are exposing these details to you in case you want to use this code to train or fine-tune your own models for your original system."
      ]
    },
    {
      "cell_type": "markdown",
      "id": "80c3e96e-dfc8-4e75-9b24-51e7f33a781e",
      "metadata": {
        "id": "80c3e96e-dfc8-4e75-9b24-51e7f33a781e"
      },
      "source": [
        "### Tokenization"
      ]
    },
    {
      "cell_type": "markdown",
      "id": "43392af3-cc12-449e-9301-983a3d554737",
      "metadata": {
        "id": "43392af3-cc12-449e-9301-983a3d554737"
      },
      "source": [
        "Here is a function for creating Hugging Face `PreTrainedTokenizerFast` tokenizers based on a provided vocab file. It pretty much just splits on whitespace and adds special tokens. Chris originally planned to have writing this be a homework question, but it turned out to be very difficult and confusing for him to write, so he decided to just present it to you in the hope that it helps you with similar tasks in the future."
      ]
    },
    {
      "cell_type": "code",
      "execution_count": null,
      "id": "de55c95c-ef3d-453f-9336-97e9e93e31c2",
      "metadata": {
        "id": "de55c95c-ef3d-453f-9336-97e9e93e31c2"
      },
      "outputs": [],
      "source": [
        "from tokenizers import Tokenizer\n",
        "from tokenizers.models import WordLevel\n",
        "from tokenizers.pre_tokenizers import WhitespaceSplit\n",
        "from tokenizers.processors import TemplateProcessing\n",
        "from transformers import PreTrainedTokenizerFast\n",
        "\n",
        "\n",
        "def get_tokenizer(vocab_filename):\n",
        "    with open(vocab_filename) as f:\n",
        "        vocab = f.read().splitlines()\n",
        "    vocab_size = len(vocab)\n",
        "    vocab = dict(zip(vocab, list(range(vocab_size))))\n",
        "    tok = Tokenizer(WordLevel(vocab, unk_token='[UNK]'))\n",
        "    # This definitely needs to be done here and in the construction of\n",
        "    # `PreTrainedTokenizerFast`. Don't be tempted to \"clean this up\"!\n",
        "    tok.add_special_tokens([\"[BOS]\", \"[UNK]\", \"[PAD]\", \"[EOS]\"])\n",
        "    tok.pre_tokenizer = WhitespaceSplit()\n",
        "    tok.post_processor = TemplateProcessing(\n",
        "        single=f\"[BOS]:0 $A:0 [EOS]:0\",\n",
        "        special_tokens=[\n",
        "            (\"[BOS]\", tok.token_to_id(\"[BOS]\")),\n",
        "            (\"[EOS]\", tok.token_to_id(\"[EOS]\"))])\n",
        "    return PreTrainedTokenizerFast(\n",
        "        tokenizer_object=tok,\n",
        "        bos_token=\"[BOS]\",\n",
        "        unk_token=\"[UNK]\",\n",
        "        pad_token=\"[PAD]\",\n",
        "        eos_token=\"[EOS]\",\n",
        "        # This vital; otherwise any periods will have their leading\n",
        "        # spaces removed, which is wrong for COGS/ReCOGS.\n",
        "        clean_up_tokenization_spaces=False)"
      ]
    },
    {
      "cell_type": "markdown",
      "id": "a541a47b-a3ed-421c-bb9e-59f3b5f7f2af",
      "metadata": {
        "id": "a541a47b-a3ed-421c-bb9e-59f3b5f7f2af"
      },
      "source": [
        "We will have separate tokens for the encoder and the decoder:"
      ]
    },
    {
      "cell_type": "code",
      "execution_count": null,
      "id": "aa80d0a2-4599-4212-9bdb-a6d06263a0b8",
      "metadata": {
        "id": "aa80d0a2-4599-4212-9bdb-a6d06263a0b8"
      },
      "outputs": [],
      "source": [
        "enc_tokenizer = get_tokenizer(os.path.join(SRC_DIRNAME, \"src_vocab.txt\"))"
      ]
    },
    {
      "cell_type": "code",
      "execution_count": null,
      "id": "1fa0fc58-7b49-4e19-98c9-369eb4b3ce64",
      "metadata": {
        "id": "1fa0fc58-7b49-4e19-98c9-369eb4b3ce64",
        "colab": {
          "base_uri": "https://localhost:8080/"
        },
        "outputId": "b9713697-cb69-4853-9d84-d85b3cb5d96c"
      },
      "outputs": [
        {
          "output_type": "execute_result",
          "data": {
            "text/plain": [
              "['[BOS]', 'A', 'sailor', 'was', 'helped', '[EOS]']"
            ]
          },
          "metadata": {},
          "execution_count": 27
        }
      ],
      "source": [
        "enc_tokenizer.tokenize(\n",
        "    \"A sailor was helped\",\n",
        "    add_special_tokens=True)"
      ]
    },
    {
      "cell_type": "code",
      "execution_count": null,
      "id": "fb21e534-1d80-4642-983b-96fa415fdaba",
      "metadata": {
        "id": "fb21e534-1d80-4642-983b-96fa415fdaba"
      },
      "outputs": [],
      "source": [
        "dec_tokenizer = get_tokenizer(os.path.join(SRC_DIRNAME, \"tgt_vocab.txt\"))"
      ]
    },
    {
      "cell_type": "code",
      "execution_count": null,
      "id": "474ceec8-6378-45e3-ac52-659d442f259d",
      "metadata": {
        "id": "474ceec8-6378-45e3-ac52-659d442f259d",
        "colab": {
          "base_uri": "https://localhost:8080/"
        },
        "outputId": "7a0a90ec-103d-46f5-d82f-6be631c92cfe"
      },
      "outputs": [
        {
          "output_type": "execute_result",
          "data": {
            "text/plain": [
              "['[BOS]',\n",
              " 'sailor',\n",
              " '(',\n",
              " '53',\n",
              " ')',\n",
              " ';',\n",
              " 'help',\n",
              " '(',\n",
              " '7',\n",
              " ')',\n",
              " 'AND',\n",
              " 'theme',\n",
              " '(',\n",
              " '7',\n",
              " ',',\n",
              " '53',\n",
              " ')',\n",
              " '[EOS]']"
            ]
          },
          "metadata": {},
          "execution_count": 29
        }
      ],
      "source": [
        "dec_tokenizer.tokenize(\n",
        "    \"sailor ( 53 ) ; help ( 7 ) AND theme ( 7 , 53 )\",\n",
        "    add_special_tokens=True)"
      ]
    },
    {
      "cell_type": "markdown",
      "id": "25600c63-2c1f-47e7-82ed-a9f5eacb73b7",
      "metadata": {
        "id": "25600c63-2c1f-47e7-82ed-a9f5eacb73b7"
      },
      "source": [
        "### Dataset"
      ]
    },
    {
      "cell_type": "markdown",
      "id": "4c1ede76-83b6-4573-8067-f50dfc97e5dd",
      "metadata": {
        "id": "4c1ede76-83b6-4573-8067-f50dfc97e5dd"
      },
      "source": [
        "Next is a dataset utility. Chris was originally going to have you write this yourselves, since it is useful to know how to write these utilities, and the task is really just to use our tokenizers appropriately. However, since `collate_fn` has to be a static method with fixed arguments, we can't easily pass in these tokenizers to it! As a result, we have to do all the tokenization at once ahead of time and then redo all the masking work for each batch. So Chris did this for you in the hope that this will be useful to you in the future."
      ]
    },
    {
      "cell_type": "code",
      "execution_count": null,
      "id": "2857b954-c426-4f47-a9c3-10761203883d",
      "metadata": {
        "id": "2857b954-c426-4f47-a9c3-10761203883d"
      },
      "outputs": [],
      "source": [
        "import torch\n",
        "\n",
        "class RecogsDataset(torch.utils.data.Dataset):\n",
        "    def __init__(self, enc_tokenizer, dec_tokenizer, X, y=None):\n",
        "        self.X = [enc_tokenizer.encode(s) for s in X]\n",
        "        self.y = y\n",
        "        if y is not None:\n",
        "            self.y = [dec_tokenizer.encode(s) for s in y]\n",
        "\n",
        "    @staticmethod\n",
        "    def collate_fn(batch):\n",
        "        \"\"\"Unfortunately, we can't pass the tokenizer in as an argument\n",
        "        to this method, since it is a static method, so we need to do\n",
        "        the work of creating the necessary attention masks.\"\"\"\n",
        "        def get_pad_and_mask(vals):\n",
        "            lens = [len(i) for i in vals]\n",
        "            maxlen = max(lens)\n",
        "            pad = []\n",
        "            mask = []\n",
        "            for ex, length in zip(vals, lens):\n",
        "                diff = maxlen - length\n",
        "                pad.append(ex + ([0] * diff))\n",
        "                mask.append(([1] * length) + ([0] * diff))\n",
        "            return torch.tensor(pad), torch.tensor(mask)\n",
        "        batch_elements = list(zip(*batch))\n",
        "        X = batch_elements[0]\n",
        "        X_pad, X_mask = get_pad_and_mask(X)\n",
        "        if len(batch_elements) == 1:\n",
        "            return X_pad, X_mask\n",
        "        else:\n",
        "            y = batch_elements[1]\n",
        "            y_pad, y_mask = get_pad_and_mask(y)\n",
        "            # Repeat `y_pad` because our optimizer expects to find\n",
        "            # labels in final position. These will not be used because\n",
        "            # Hugging Face will calculate the loss for us.\n",
        "            return X_pad, X_mask, y_pad, y_mask, y_pad\n",
        "\n",
        "    def __len__(self):\n",
        "        return len(self.X)\n",
        "\n",
        "    def __getitem__(self, idx):\n",
        "        if self.y is None:\n",
        "            return (self.X[idx],)\n",
        "        else:\n",
        "            return (self.X[idx], self.y[idx])"
      ]
    },
    {
      "cell_type": "markdown",
      "id": "c3021faf-dfa6-4d89-9a39-5b4546ac2008",
      "metadata": {
        "id": "c3021faf-dfa6-4d89-9a39-5b4546ac2008"
      },
      "source": [
        "The following just illustrate how to work with the above utility:"
      ]
    },
    {
      "cell_type": "code",
      "execution_count": null,
      "id": "3586efad-f12d-4811-8345-e7b18fc46ae9",
      "metadata": {
        "id": "3586efad-f12d-4811-8345-e7b18fc46ae9"
      },
      "outputs": [],
      "source": [
        "ex_dataset = RecogsDataset(\n",
        "    enc_tokenizer,\n",
        "    dec_tokenizer,\n",
        "    dataset['train'].input.head(20),\n",
        "    y=dataset['train'].output.head(20))"
      ]
    },
    {
      "cell_type": "code",
      "execution_count": null,
      "id": "b80b9ddc-cc02-4b0c-863d-8453fc5bf450",
      "metadata": {
        "id": "b80b9ddc-cc02-4b0c-863d-8453fc5bf450"
      },
      "outputs": [],
      "source": [
        "ex_dataloader = torch.utils.data.DataLoader(\n",
        "    ex_dataset,\n",
        "    batch_size=2,\n",
        "    shuffle=True,\n",
        "    pin_memory=True,\n",
        "    collate_fn=ex_dataset.collate_fn)"
      ]
    },
    {
      "cell_type": "code",
      "execution_count": null,
      "id": "a08b88f4-abc9-4921-8bf6-78c9c4157198",
      "metadata": {
        "id": "a08b88f4-abc9-4921-8bf6-78c9c4157198"
      },
      "outputs": [],
      "source": [
        "ex_batch = iter(ex_dataloader)"
      ]
    },
    {
      "cell_type": "markdown",
      "id": "5ef750fa-794c-4fe0-a27f-330377521db3",
      "metadata": {
        "id": "5ef750fa-794c-4fe0-a27f-330377521db3"
      },
      "source": [
        "This will show you batches. Since `batch_size=2` for `dataloader`, this will be a tuple where each element has two lists. The structure is determined by `collate_fn` in `RecogsDataset`:\n",
        "\n",
        "`X_pad, X_mask, y_pad, y_mask, y_pad`\n",
        "\n",
        "where `y_pad` is repeated in the final position to meet the interface specifications of `torch_base_model.py`, in case you decide to train models yourself. (See details below; Hugging Face calculates the loss itself, which is ultimately nice but a bit non-standard.)"
      ]
    },
    {
      "cell_type": "code",
      "execution_count": null,
      "id": "016cb2a5-869a-4860-af8a-c94e7586128e",
      "metadata": {
        "id": "016cb2a5-869a-4860-af8a-c94e7586128e",
        "colab": {
          "base_uri": "https://localhost:8080/"
        },
        "outputId": "45d1187d-5198-4d39-be64-295870c6ce1a"
      },
      "outputs": [
        {
          "output_type": "execute_result",
          "data": {
            "text/plain": [
              "[tensor([[  1, 115, 361, 484, 698, 247,  17,   2],\n",
              "         [  1, 115, 593, 313, 124, 179,  17,   2]]),\n",
              " tensor([[1, 1, 1, 1, 1, 1, 1, 1],\n",
              "         [1, 1, 1, 1, 1, 1, 1, 1]]),\n",
              " tensor([[  1,   7, 381,   5,  57,   6,  67, 486,   5,  16,   6,  68, 177,   5,\n",
              "           16,   8,  57,   6,  68, 724,   5,  16,   8,  21,   6,  68, 288,   5,\n",
              "           21,   6,  68, 177,   5,  21,   8,  57,   6,   2],\n",
              "         [  1,   7, 585,   5,  53,   6,  67, 227,   5,  59,   6,  67, 343,   5,\n",
              "           12,   6,  68, 177,   5,  12,   8,  53,   6,  68, 664,   5,  12,   8,\n",
              "           59,   6,   2,   0,   0,   0,   0,   0,   0,   0]]),\n",
              " tensor([[1, 1, 1, 1, 1, 1, 1, 1, 1, 1, 1, 1, 1, 1, 1, 1, 1, 1, 1, 1, 1, 1, 1, 1,\n",
              "          1, 1, 1, 1, 1, 1, 1, 1, 1, 1, 1, 1, 1, 1],\n",
              "         [1, 1, 1, 1, 1, 1, 1, 1, 1, 1, 1, 1, 1, 1, 1, 1, 1, 1, 1, 1, 1, 1, 1, 1,\n",
              "          1, 1, 1, 1, 1, 1, 1, 0, 0, 0, 0, 0, 0, 0]]),\n",
              " tensor([[  1,   7, 381,   5,  57,   6,  67, 486,   5,  16,   6,  68, 177,   5,\n",
              "           16,   8,  57,   6,  68, 724,   5,  16,   8,  21,   6,  68, 288,   5,\n",
              "           21,   6,  68, 177,   5,  21,   8,  57,   6,   2],\n",
              "         [  1,   7, 585,   5,  53,   6,  67, 227,   5,  59,   6,  67, 343,   5,\n",
              "           12,   6,  68, 177,   5,  12,   8,  53,   6,  68, 664,   5,  12,   8,\n",
              "           59,   6,   2,   0,   0,   0,   0,   0,   0,   0]])]"
            ]
          },
          "metadata": {},
          "execution_count": 34
        }
      ],
      "source": [
        "next(ex_batch)"
      ]
    },
    {
      "cell_type": "markdown",
      "id": "bf807690-a8dd-4f8c-8053-943c60e4e295",
      "metadata": {
        "id": "bf807690-a8dd-4f8c-8053-943c60e4e295"
      },
      "source": [
        "### Model basics"
      ]
    },
    {
      "cell_type": "markdown",
      "id": "0349a372-8a06-4a04-b787-2568dceb87f9",
      "metadata": {
        "id": "0349a372-8a06-4a04-b787-2568dceb87f9"
      },
      "source": [
        "Now we come to the model itself. We will first load it and explore it a bit, and then we will define a nice classifier interface for it."
      ]
    },
    {
      "cell_type": "code",
      "execution_count": null,
      "id": "76471758-07c0-42b7-b31e-997dc2cd9bd1",
      "metadata": {
        "id": "76471758-07c0-42b7-b31e-997dc2cd9bd1",
        "colab": {
          "base_uri": "https://localhost:8080/",
          "height": 81,
          "referenced_widgets": [
            "eb6ba1f8671f4ffa992f7ba40ceb2f87",
            "c403b16b1a674d069358f6eab11c6652",
            "b3958976af214fdbb9f9d23e178d9325",
            "37d10cec823644148501f5d2d459ff88",
            "7c1b7901fc314010b5dff1521e214a8d",
            "b0b536d18a594f428dc664bb00345ffc",
            "ec6d21e6f14e4c91b6cce40868238963",
            "db71a0b3cc154b0e89aca48c5f0de6bb",
            "ac010de4930741cc92ea98c8dd866697",
            "ee73e48d877541778c50565f9e479b13",
            "cbfdc5c18e4f4801892a1f19977e2fc1",
            "a987d43ac2144150b3e074c208bc8d4c",
            "338c0cdcf2114fd0a3755fcc34a58fba",
            "8c58b3037a494460b9473a7cc031bae5",
            "d79eff4b1d314a48be660213741295aa",
            "8433cec11518409e8537f9bad0eb3f32",
            "a400db790e9240648f08ac23c7a1024e",
            "966c5783fd5b4b079106030dad7ef32c",
            "03d509fbf6764d5d92363176c91c4c24",
            "860e75f613e84587bdd263072c514224",
            "2b13c00496384dcfbdbbd4566a1f74b2",
            "6f41faf18c5e42fe92f3d0902c911573"
          ]
        },
        "outputId": "c2e0402a-df28-4a66-8633-6fbdba1da3f6"
      },
      "outputs": [
        {
          "output_type": "display_data",
          "data": {
            "text/plain": [
              "Downloading (…)lve/main/config.json:   0%|          | 0.00/5.05k [00:00<?, ?B/s]"
            ],
            "application/vnd.jupyter.widget-view+json": {
              "version_major": 2,
              "version_minor": 0,
              "model_id": "eb6ba1f8671f4ffa992f7ba40ceb2f87"
            }
          },
          "metadata": {}
        },
        {
          "output_type": "display_data",
          "data": {
            "text/plain": [
              "Downloading pytorch_model.bin:   0%|          | 0.00/17.4M [00:00<?, ?B/s]"
            ],
            "application/vnd.jupyter.widget-view+json": {
              "version_major": 2,
              "version_minor": 0,
              "model_id": "a987d43ac2144150b3e074c208bc8d4c"
            }
          },
          "metadata": {}
        }
      ],
      "source": [
        "from transformers import EncoderDecoderModel\n",
        "\n",
        "encdec = EncoderDecoderModel.from_pretrained(f\"ReCOGS/ReCOGS-model\")"
      ]
    },
    {
      "cell_type": "markdown",
      "id": "a470ef9b-32ed-43f1-85f7-17da743a40b1",
      "metadata": {
        "id": "a470ef9b-32ed-43f1-85f7-17da743a40b1"
      },
      "source": [
        "A single illustrative example:"
      ]
    },
    {
      "cell_type": "code",
      "execution_count": null,
      "id": "666df81f-beb3-4a30-b202-1193908b78b2",
      "metadata": {
        "id": "666df81f-beb3-4a30-b202-1193908b78b2"
      },
      "outputs": [],
      "source": [
        "ex_inputs = enc_tokenizer.batch_encode_plus(\n",
        "    [\"A rose was helped by a dog .\"],\n",
        "    return_tensors='pt')\n",
        "\n",
        "ex_outputs = dec_tokenizer.batch_encode_plus(\n",
        "    ['rose ( 53 ) ; dog ( 38 ) ; help ( 7 ) AND theme ( 7 , 53 ) AND agent ( 7 , 38 )'],\n",
        "    return_tensors='pt')"
      ]
    },
    {
      "cell_type": "markdown",
      "id": "0eeca365-29b8-42bb-a696-cc9bcb6dec7d",
      "metadata": {
        "id": "0eeca365-29b8-42bb-a696-cc9bcb6dec7d"
      },
      "source": [
        "Here is the forward method. For training, it is vital to have `labels=` here so that the model return a loss value."
      ]
    },
    {
      "cell_type": "code",
      "execution_count": null,
      "id": "f64f13fb-b812-445c-8a31-e76233757a4f",
      "metadata": {
        "id": "f64f13fb-b812-445c-8a31-e76233757a4f",
        "colab": {
          "base_uri": "https://localhost:8080/"
        },
        "outputId": "c8847899-fc1f-4a0a-c4b5-22b040a806b2"
      },
      "outputs": [
        {
          "output_type": "stream",
          "name": "stderr",
          "text": [
            "/usr/local/lib/python3.10/dist-packages/transformers/models/encoder_decoder/modeling_encoder_decoder.py:634: FutureWarning: Version v4.12.0 introduces a better way to train encoder-decoder models by computing the loss inside the encoder-decoder framework rather than in the decoder itself. You may observe training discrepancies if fine-tuning a model trained with versions anterior to 4.12.0. The decoder_input_ids are now created based on the labels, no need to pass them yourself anymore.\n",
            "  warnings.warn(DEPRECATION_WARNING, FutureWarning)\n"
          ]
        }
      ],
      "source": [
        "ex_rep = encdec(\n",
        "    ex_inputs['input_ids'],\n",
        "    ex_inputs['attention_mask'],\n",
        "    ex_outputs['input_ids'],\n",
        "    labels=ex_outputs['attention_mask'])"
      ]
    },
    {
      "cell_type": "code",
      "execution_count": null,
      "id": "12266de7-a99d-4ec8-9d46-bdb62485495a",
      "metadata": {
        "id": "12266de7-a99d-4ec8-9d46-bdb62485495a",
        "colab": {
          "base_uri": "https://localhost:8080/"
        },
        "outputId": "1885d468-5346-4ea7-da92-d99bb7da4736"
      },
      "outputs": [
        {
          "output_type": "execute_result",
          "data": {
            "text/plain": [
              "odict_keys(['loss', 'logits', 'past_key_values', 'encoder_last_hidden_state'])"
            ]
          },
          "metadata": {},
          "execution_count": 38
        }
      ],
      "source": [
        "ex_rep.keys()"
      ]
    },
    {
      "cell_type": "markdown",
      "id": "d934b5a8-dfcb-4355-8355-406ee8d2d164",
      "metadata": {
        "id": "d934b5a8-dfcb-4355-8355-406ee8d2d164"
      },
      "source": [
        "And here is how we will do generation:"
      ]
    },
    {
      "cell_type": "code",
      "execution_count": null,
      "id": "71339418-1d43-4e3a-a9a1-a4b55be343c9",
      "metadata": {
        "id": "71339418-1d43-4e3a-a9a1-a4b55be343c9",
        "colab": {
          "base_uri": "https://localhost:8080/"
        },
        "outputId": "d4a09a7a-6d0b-4a46-8a7d-5f180d8133b0"
      },
      "outputs": [
        {
          "output_type": "execute_result",
          "data": {
            "text/plain": [
              "tensor([[  1,   1, 581,   5,  41,   6,  67, 328,   5,  58,   6,  67, 408,   5,\n",
              "          17,   6,  68, 664,   5,  17,   8,  41,   6,  68, 177,   5,  17,   8,\n",
              "          58,   6,   2]])"
            ]
          },
          "metadata": {},
          "execution_count": 39
        }
      ],
      "source": [
        "ex_gen = encdec.generate(\n",
        "    ex_inputs['input_ids'],\n",
        "    attention_mask=ex_inputs['attention_mask'],\n",
        "    max_new_tokens=512,\n",
        "    eos_token_id=encdec.config.eos_token_id)\n",
        "\n",
        "ex_gen"
      ]
    },
    {
      "cell_type": "code",
      "execution_count": null,
      "id": "91da0447-d244-4fd0-8a6a-1c5bec561d69",
      "metadata": {
        "id": "91da0447-d244-4fd0-8a6a-1c5bec561d69",
        "colab": {
          "base_uri": "https://localhost:8080/"
        },
        "outputId": "72eeb6a7-a94e-4cfb-d2e0-1a05b86944b5"
      },
      "outputs": [
        {
          "output_type": "execute_result",
          "data": {
            "text/plain": [
              "['[BOS] [BOS] rose ( 37 ) ; dog ( 52 ) ; help ( 15 ) AND theme ( 15 , 37 ) AND agent ( 15 , 52 ) [EOS]']"
            ]
          },
          "metadata": {},
          "execution_count": 40
        }
      ],
      "source": [
        "ex_pred = dec_tokenizer.batch_decode(\n",
        "    ex_gen,\n",
        "    skip_special_tokens=False,\n",
        "    # Out tokenizer have this set already, but I am nervous:\n",
        "    clean_up_tokenization_spaces=False)\n",
        "\n",
        "ex_pred"
      ]
    },
    {
      "cell_type": "markdown",
      "id": "ac10a038-99b9-467c-a86d-ed82e7bd8fdc",
      "metadata": {
        "id": "ac10a038-99b9-467c-a86d-ed82e7bd8fdc"
      },
      "source": [
        "### Model interface"
      ]
    },
    {
      "cell_type": "markdown",
      "id": "d70b3db7-b1f5-4fab-84b0-4b96d7ced611",
      "metadata": {
        "id": "d70b3db7-b1f5-4fab-84b0-4b96d7ced611"
      },
      "source": [
        "Okay, finally, the main interface. If you do not plan to train your own models using our code, then you can treat `RecogsModel` as an interface and not worry about these details."
      ]
    },
    {
      "cell_type": "code",
      "execution_count": null,
      "id": "b17643dd-35bc-4e38-99e4-a61d47d3ed10",
      "metadata": {
        "id": "b17643dd-35bc-4e38-99e4-a61d47d3ed10"
      },
      "outputs": [],
      "source": [
        "from torch_model_base import TorchModelBase\n",
        "import torch.nn as nn\n",
        "from transformers import EncoderDecoderModel"
      ]
    },
    {
      "cell_type": "markdown",
      "id": "d599c05a-1be6-447c-a931-2cadd1112758",
      "metadata": {
        "id": "d599c05a-1be6-447c-a931-2cadd1112758"
      },
      "source": [
        "As I mentioned above, Hugging Face `EncoderDecoderModel` instances will calculate a loss internally if you provide them with `labels`. Normally, one's optimization loop would need to do this manually. In order to rely on Hugging Face and still use the trainer in `torch_model_base.py`, we define this simple loss that just takes in model outputs and labels and returns `outputs.loss`. The labels argument is present for compatibility; it was already used internally to get the value of `outputs.loss` and so can be ignored."
      ]
    },
    {
      "cell_type": "code",
      "execution_count": null,
      "id": "f69d742e-58c2-4993-b6d8-6f18b3d157f2",
      "metadata": {
        "id": "f69d742e-58c2-4993-b6d8-6f18b3d157f2"
      },
      "outputs": [],
      "source": [
        "class RecogsLoss(nn.Module):\n",
        "    def __init__(self):\n",
        "        super().__init__()\n",
        "        self.reduction = \"mean\"\n",
        "\n",
        "    def forward(self, outputs, labels):\n",
        "        \"\"\"`labels` is ignored, as it was already used to assign a\n",
        "        value of `outputs.loss`, and that value is all we need.\"\"\"\n",
        "        return outputs.loss"
      ]
    },
    {
      "cell_type": "markdown",
      "id": "dd27db42-46d1-436e-8870-70fdd38e1219",
      "metadata": {
        "id": "dd27db42-46d1-436e-8870-70fdd38e1219"
      },
      "source": [
        "Here is a basic `nn.Module`. Its sole purpose is to organize the examples created by our `RecogsDataset` and feed them to the trained `EncoderDecoderModel`:"
      ]
    },
    {
      "cell_type": "code",
      "execution_count": null,
      "id": "49dd0d13-41fd-4c9a-b7de-90bd2a7a1840",
      "metadata": {
        "id": "49dd0d13-41fd-4c9a-b7de-90bd2a7a1840"
      },
      "outputs": [],
      "source": [
        "class RecogsModule(nn.Module):\n",
        "    def __init__(self):\n",
        "        super().__init__()\n",
        "        self.encdec = EncoderDecoderModel.from_pretrained(\n",
        "            f\"ReCOGS/ReCOGS-model\")\n",
        "\n",
        "    def forward(self, X_pad, X_mask, y_pad, y_mask, labels=None):\n",
        "        outputs = self.encdec(\n",
        "            input_ids=X_pad,\n",
        "            attention_mask=X_mask,\n",
        "            decoder_attention_mask=y_mask,\n",
        "            labels=y_pad)\n",
        "        return outputs"
      ]
    },
    {
      "cell_type": "markdown",
      "id": "f996ee6c-ef7c-4f51-b596-a1d69ecc59a2",
      "metadata": {
        "id": "f996ee6c-ef7c-4f51-b596-a1d69ecc59a2"
      },
      "source": [
        "And, at last, our interface. The keyword parameter `initialize=True` is the default because we are initially going to use this just for making predictions, and so we need the instance to establish all its parameters when we initialize it as opposed to waiting to do that when we call `fit` (which we may never do)."
      ]
    },
    {
      "cell_type": "code",
      "execution_count": null,
      "id": "7105b19c-a8b7-44c7-9028-f62936a578b2",
      "metadata": {
        "id": "7105b19c-a8b7-44c7-9028-f62936a578b2"
      },
      "outputs": [],
      "source": [
        "class RecogsModel(TorchModelBase):\n",
        "    def __init__(self, *args,\n",
        "            initialize=True,\n",
        "            enc_vocab_filename=f\"{SRC_DIRNAME}/src_vocab.txt\",\n",
        "            dec_vocab_filename=f\"{SRC_DIRNAME}/tgt_vocab.txt\",\n",
        "            **kwargs):\n",
        "        self.enc_vocab_filename = enc_vocab_filename\n",
        "        self.dec_vocab_filename = dec_vocab_filename\n",
        "        self.enc_tokenizer = get_tokenizer(self.enc_vocab_filename)\n",
        "        self.dec_tokenizer = get_tokenizer(self.dec_vocab_filename)\n",
        "        super().__init__(*args, **kwargs)\n",
        "        self.loss = RecogsLoss()\n",
        "        if initialize:\n",
        "            self.initialize()\n",
        "\n",
        "    def build_graph(self):\n",
        "        return RecogsModule()\n",
        "\n",
        "    def build_dataset(self, X, y=None):\n",
        "        return RecogsDataset(\n",
        "            self.enc_tokenizer, self.dec_tokenizer, X, y=y)\n",
        "\n",
        "    def predict(self, X, device=None):\n",
        "        device = self.device if device is None else torch.device(device)\n",
        "        dataset = self.build_dataset(X)\n",
        "        dataloader = self._build_dataloader(dataset, shuffle=False)\n",
        "        self.model.to(device)\n",
        "        self.model.eval()\n",
        "        preds = []\n",
        "        with torch.no_grad():\n",
        "            for batch in dataloader:\n",
        "                X_pad, X_mask = [x.to(device) for x in batch]\n",
        "                outputs = self.model.encdec.generate(\n",
        "                    X_pad,\n",
        "                    attention_mask=X_mask,\n",
        "                    max_new_tokens=512,\n",
        "                    eos_token_id=self.model.encdec.config.eos_token_id)\n",
        "                results = self.dec_tokenizer.batch_decode(\n",
        "                    outputs,\n",
        "                    skip_special_tokens=True,\n",
        "                    clean_up_tokenization_spaces=False)\n",
        "                preds += results\n",
        "        return preds\n",
        "\n",
        "    def score(self, X, y, device=None):\n",
        "        # An overall accuracy score:\n",
        "        preds = self.predict(X, device=device)\n",
        "        vals = [int(recogs_exact_match(gold, pred)) for gold, pred in zip(y, preds)]\n",
        "        return sum(vals) / len(vals)"
      ]
    },
    {
      "cell_type": "code",
      "execution_count": null,
      "id": "95d30490-b7ce-4efe-85f7-e101e3481454",
      "metadata": {
        "id": "95d30490-b7ce-4efe-85f7-e101e3481454"
      },
      "outputs": [],
      "source": [
        "recogs_model = RecogsModel()"
      ]
    },
    {
      "cell_type": "markdown",
      "id": "c5f41201-b28b-4352-9bcf-b62b9d977af9",
      "metadata": {
        "id": "c5f41201-b28b-4352-9bcf-b62b9d977af9"
      },
      "source": [
        "Predictions for our first to train cases"
      ]
    },
    {
      "cell_type": "code",
      "execution_count": null,
      "id": "87b99739-eb29-4876-9248-dd72eff1e926",
      "metadata": {
        "id": "87b99739-eb29-4876-9248-dd72eff1e926",
        "colab": {
          "base_uri": "https://localhost:8080/"
        },
        "outputId": "b57389db-a628-4de8-a9d0-b8edddaef5f9"
      },
      "outputs": [
        {
          "output_type": "execute_result",
          "data": {
            "text/plain": [
              "['Liam ( 15 ) ; box ( 47 ) ; girl ( 35 ) ; hope ( 40 ) AND agent ( 40 , 15 ) AND ccomp ( 40 , 8 ) AND burn ( 8 ) AND theme ( 8 , 47 ) AND agent ( 8 , 35 )',\n",
              " '* donkey ( 48 ) ; * cookie ( 25 ) ; mother ( 50 ) ; lend ( 49 ) AND agent ( 49 , 48 ) AND theme ( 49 , 25 ) AND recipient ( 49 , 50 )']"
            ]
          },
          "metadata": {},
          "execution_count": 46
        }
      ],
      "source": [
        "recogs_model.predict(dataset['dev'].input[: 2])"
      ]
    },
    {
      "cell_type": "markdown",
      "id": "da86e9b3-4281-4c74-92e5-9288f202e881",
      "metadata": {
        "id": "da86e9b3-4281-4c74-92e5-9288f202e881"
      },
      "source": [
        "## Question 2: Exploring predictions [2 points]"
      ]
    },
    {
      "cell_type": "markdown",
      "id": "06170626-679b-4710-a4a2-f444c104f44b",
      "metadata": {
        "id": "06170626-679b-4710-a4a2-f444c104f44b"
      },
      "source": [
        "Now that we are set up to use the model, we can move to Question 2. There is just one final preliminary: for ReCOGs, we want to come as close as possible to assessing systems purely on semantic criteria, as opposed to assessing their ability to predict arbitrary features of logical forms. In particular, we want predictions to be independent of the particular choice of variable names and independent of the order of conjuncts."
      ]
    },
    {
      "cell_type": "markdown",
      "id": "fa31f1aa-26a0-41a6-a01b-0a4fe85e6367",
      "metadata": {
        "id": "fa31f1aa-26a0-41a6-a01b-0a4fe85e6367"
      },
      "source": [
        "### ReCOGS assessment function"
      ]
    },
    {
      "cell_type": "markdown",
      "id": "3e9451d8-2e9d-4a3d-943f-0d06e747b12f",
      "metadata": {
        "id": "3e9451d8-2e9d-4a3d-943f-0d06e747b12f"
      },
      "source": [
        "The function `recogs_exact_match` does this. It's a complex function, and so you can ignore its precise implementation details. Here are some illustrative examples to give you a feel for it:"
      ]
    },
    {
      "cell_type": "code",
      "execution_count": null,
      "id": "08c49a60-082e-42d0-ac75-0a606fd5a588",
      "metadata": {
        "id": "08c49a60-082e-42d0-ac75-0a606fd5a588",
        "colab": {
          "base_uri": "https://localhost:8080/"
        },
        "outputId": "ef4f601a-8a2b-4f42-f3f6-c8539e411a7e"
      },
      "outputs": [
        {
          "output_type": "execute_result",
          "data": {
            "text/plain": [
              "True"
            ]
          },
          "metadata": {},
          "execution_count": 47
        }
      ],
      "source": [
        "# The precise names of bound variables do not matter:\n",
        "\n",
        "recogs_exact_match(\n",
        "    \"dog ( 4 ) AND happy ( 4 )\",\n",
        "    \"dog ( 7 ) AND happy ( 7 ) \")"
      ]
    },
    {
      "cell_type": "code",
      "execution_count": null,
      "id": "657bc28c-505b-4247-bcbe-dc49718dca2f",
      "metadata": {
        "id": "657bc28c-505b-4247-bcbe-dc49718dca2f",
        "colab": {
          "base_uri": "https://localhost:8080/"
        },
        "outputId": "f9f9e8be-4854-4621-8401-cdb0c40f2c4d"
      },
      "outputs": [
        {
          "output_type": "execute_result",
          "data": {
            "text/plain": [
              "True"
            ]
          },
          "metadata": {},
          "execution_count": 48
        }
      ],
      "source": [
        "# The order of conjuncts does not matter:\n",
        "\n",
        "recogs_exact_match(\n",
        "    \"dog ( 4 ) AND happy ( 4 )\",\n",
        "    \"happy ( 7 ) AND dog ( 7 )\")"
      ]
    },
    {
      "cell_type": "code",
      "execution_count": null,
      "id": "a49eb573-2153-4f63-aad1-cb5ac8f2df62",
      "metadata": {
        "id": "a49eb573-2153-4f63-aad1-cb5ac8f2df62",
        "colab": {
          "base_uri": "https://localhost:8080/"
        },
        "outputId": "a0a9fa20-ec79-4cf0-a68d-66940adf0f07"
      },
      "outputs": [
        {
          "output_type": "execute_result",
          "data": {
            "text/plain": [
              "False"
            ]
          },
          "metadata": {},
          "execution_count": 49
        }
      ],
      "source": [
        "# Consistency of variable names does matter:\n",
        "\n",
        "recogs_exact_match(\n",
        "    \"dog ( 4 ) AND happy ( 4 )\",\n",
        "    \"dog ( 4 ) AND happy ( 7 )\")"
      ]
    },
    {
      "cell_type": "markdown",
      "id": "39be2e2c-d1d1-4f44-8ca0-2ee0f23cf3ee",
      "metadata": {
        "id": "39be2e2c-d1d1-4f44-8ca0-2ee0f23cf3ee"
      },
      "source": [
        "### Task"
      ]
    },
    {
      "cell_type": "markdown",
      "id": "f4b83476-d018-4b24-9126-38c3577b68de",
      "metadata": {
        "id": "f4b83476-d018-4b24-9126-38c3577b68de"
      },
      "source": [
        "Your task is to write a utility function to see how well a model does on a specific generalization category in the generalization dataset. The metric is accuracy according to `recogs_exact_match`."
      ]
    },
    {
      "cell_type": "code",
      "execution_count": null,
      "id": "378d7f44-a317-433e-befa-301cdcd16978",
      "metadata": {
        "id": "378d7f44-a317-433e-befa-301cdcd16978"
      },
      "outputs": [],
      "source": [
        "def category_assess(gen_df, model, category):\n",
        "    \"\"\"Assess `model` against the `category` examples in `gen_df`.\n",
        "\n",
        "    Parameters\n",
        "    ----------\n",
        "    gen_df: pd.DataFrame\n",
        "        Should be `dataset[\"gen\"]`\n",
        "    model: A `RecogsModel instance\n",
        "    category: str\n",
        "        A string from `gen_df.category`\n",
        "\n",
        "    Returns\n",
        "    -------\n",
        "    `pd.DataFrame` limited to `category` examples and with columns\n",
        "    \"prediction\" and \"correct\" added by this function\n",
        "    \"\"\"\n",
        "    # This line is done for you because of how important it is to\n",
        "    # operate on a copy of the dataframe rather than the original!\n",
        "    cat_df = gen_df[gen_df.category == category].copy()\n",
        "\n",
        "    # Step 1: Add a column called \"prediction\" to `cat_df`. This should\n",
        "    # give the predicted LFs:\n",
        "    ##### YOUR CODE HERE\n",
        "    cat_df['prediction'] = model.predict(cat_df['input'])\n",
        "\n",
        "\n",
        "    # Step 2: Add a column \"correct\" that says whether the prediction\n",
        "    # and the gold output are the same. Must use `recogs_exact_match`.\n",
        "    ##### YOUR CODE HERE\n",
        "\n",
        "    cat_df['correct'] = cat_df.apply(lambda entry: recogs_exact_match(entry['output'], entry['prediction']), axis = 1)\n",
        "\n",
        "\n",
        "    # Step 3: Return the `pd.DataFrame` `cat_df`:\n",
        "    return cat_df\n",
        "    ##### YOUR CODE HERE\n",
        "\n",
        "\n"
      ]
    },
    {
      "cell_type": "code",
      "execution_count": null,
      "id": "14331e44-6eb6-4c87-9930-28d6b0f1506f",
      "metadata": {
        "id": "14331e44-6eb6-4c87-9930-28d6b0f1506f"
      },
      "outputs": [],
      "source": [
        "def test_category_assess(func):\n",
        "    testmod = RecogsModel()\n",
        "    samp_df = dataset['gen'].head(150)\n",
        "    examples = [\n",
        "        (\"active_to_passive\", 0.80),\n",
        "        (\"unacc_to_transitive\", 0.86),\n",
        "        (\"obj_to_subj_proper\", 0.78)\n",
        "    ]\n",
        "    result_df = func(samp_df, testmod, \"active_to_passive\")\n",
        "    if not isinstance(result_df, pd.DataFrame):\n",
        "        print(f\"Error `{func.__name__}`: \"\n",
        "              \"Return value should be a `pd.DataFrame`\")\n",
        "        return\n",
        "    errcount = 0\n",
        "    for colname in (\"input\", \"output\", \"category\", \"prediction\", \"correct\"):\n",
        "        if colname not in result_df.columns:\n",
        "            errcount += 1\n",
        "            print(f\"Error `{func.__name__}`: column '{colname}' is missing\")\n",
        "    if errcount != 0:\n",
        "        return\n",
        "    expected_len = 5\n",
        "    result_len = result_df.shape[0]\n",
        "    if not result_df.shape[0] == expected_len:\n",
        "        print(f\"Error `{func.__name__}`: \"\n",
        "              f\"Expected {expected_len} results, got {result_len}.\")\n",
        "        return\n",
        "    errcount = 0\n",
        "    for cat, expected in examples:\n",
        "        result_df = func(samp_df, testmod, cat)\n",
        "        result = result_df.correct.sum() / result_df.shape[0]\n",
        "        result = round(result, 2)\n",
        "        if result != expected:\n",
        "            errcount += 1\n",
        "            print(f\"Error `{func.__name__}` with category {cat}: \"\n",
        "                  f\"Expected acc {expected}, got {result}\")\n",
        "    if errcount == 0:\n",
        "        print(f\"No errors for `{func.__name__}`\")"
      ]
    },
    {
      "cell_type": "code",
      "execution_count": null,
      "id": "e3a178d8-b45b-411c-8995-3e6869322565",
      "metadata": {
        "id": "e3a178d8-b45b-411c-8995-3e6869322565",
        "colab": {
          "base_uri": "https://localhost:8080/"
        },
        "outputId": "d23d8e94-6b05-4eb7-8d49-99d1b9d43cfd"
      },
      "outputs": [
        {
          "output_type": "stream",
          "name": "stdout",
          "text": [
            "No errors for `category_assess`\n"
          ]
        }
      ],
      "source": [
        "test_category_assess(category_assess)"
      ]
    },
    {
      "cell_type": "markdown",
      "id": "f3fcde66-9b8c-4ca6-947b-2bb8a98a3671",
      "metadata": {
        "id": "f3fcde66-9b8c-4ca6-947b-2bb8a98a3671"
      },
      "source": [
        "Question 1 above might lead you to expect that our model will struggle with examples in which proper names appear with totally unfamiliar roles. For that question, you wrote `get_propername_role` to get `(name, role)` pairs from examples and `find_name_roles` to do analyses with that function. We can now run that same analysis on our errors:"
      ]
    },
    {
      "cell_type": "code",
      "execution_count": null,
      "id": "67a5305d-4144-45a2-91c4-75e64021fa38",
      "metadata": {
        "id": "67a5305d-4144-45a2-91c4-75e64021fa38"
      },
      "outputs": [],
      "source": [
        "gen_df = dataset['gen']"
      ]
    },
    {
      "cell_type": "code",
      "execution_count": null,
      "id": "ede22c2d-6fe3-4dbe-ab0d-ababd9d48d7d",
      "metadata": {
        "id": "ede22c2d-6fe3-4dbe-ab0d-ababd9d48d7d"
      },
      "outputs": [],
      "source": [
        "# Depending on your computer, this could take a while. On a relatively\n",
        "# new Apple laptop, it took about 3 minutes. Colab will be much more\n",
        "# variable in the time it takes, depending on what kind of instance\n",
        "# you are running.\n",
        "\n",
        "pred_df = category_assess(gen_df, recogs_model, \"obj_to_subj_proper\")"
      ]
    },
    {
      "cell_type": "markdown",
      "id": "b6dfda72-8d80-4137-9f34-ec39d3e2de95",
      "metadata": {
        "id": "b6dfda72-8d80-4137-9f34-ec39d3e2de95"
      },
      "source": [
        "Extract the errors:"
      ]
    },
    {
      "cell_type": "code",
      "execution_count": null,
      "id": "974d1a73-a08b-478f-b463-9c079836755b",
      "metadata": {
        "id": "974d1a73-a08b-478f-b463-9c079836755b"
      },
      "outputs": [],
      "source": [
        "err_df = pred_df[pred_df.correct == False]"
      ]
    },
    {
      "cell_type": "markdown",
      "id": "d38e4376-ce08-417c-abcd-d414cbc8d2c4",
      "metadata": {
        "id": "d38e4376-ce08-417c-abcd-d414cbc8d2c4"
      },
      "source": [
        "Use `find_name_roles` to get the role distribution in the error set:"
      ]
    },
    {
      "cell_type": "code",
      "execution_count": null,
      "id": "df67cec8-3e19-4141-93db-0b5e6c5380d2",
      "metadata": {
        "id": "df67cec8-3e19-4141-93db-0b5e6c5380d2",
        "colab": {
          "base_uri": "https://localhost:8080/"
        },
        "outputId": "f9f3f762-3911-4523-db96-9bf8def2ba9c"
      },
      "outputs": [
        {
          "output_type": "stream",
          "name": "stderr",
          "text": [
            "<ipython-input-20-27bb0c9e0285>:25: SettingWithCopyWarning: \n",
            "A value is trying to be set on a copy of a slice from a DataFrame.\n",
            "Try using .loc[row_indexer,col_indexer] = value instead\n",
            "\n",
            "See the caveats in the documentation: https://pandas.pydata.org/pandas-docs/stable/user_guide/indexing.html#returning-a-view-versus-a-copy\n",
            "  split_df['name_role'] = split_df[colname].apply(get_propername_role)\n"
          ]
        }
      ],
      "source": [
        "err_roles = find_name_roles(err_df)"
      ]
    },
    {
      "cell_type": "code",
      "execution_count": null,
      "id": "56f4fbcb-e9ad-4789-9c8c-f0d66af74426",
      "metadata": {
        "id": "56f4fbcb-e9ad-4789-9c8c-f0d66af74426",
        "colab": {
          "base_uri": "https://localhost:8080/"
        },
        "outputId": "1ed75ea0-953c-4ede-d03e-81d08c943568"
      },
      "outputs": [
        {
          "output_type": "execute_result",
          "data": {
            "text/plain": [
              "[('cake', defaultdict(int, {'theme': 15})),\n",
              " ('William', defaultdict(int, {'recipient': 2})),\n",
              " ('Charlie', defaultdict(int, {'agent': 11}))]"
            ]
          },
          "metadata": {},
          "execution_count": 57
        }
      ],
      "source": [
        "sorted(err_roles.items(), key=lambda x: len(x[1]))[: 3]"
      ]
    },
    {
      "cell_type": "markdown",
      "id": "f5ab221a-f50d-42af-a4ec-c59fcd7eef31",
      "metadata": {
        "id": "f5ab221a-f50d-42af-a4ec-c59fcd7eef31"
      },
      "source": [
        "It's our old friend Charlie – in training, always a theme; in the generalization tests, always an agent."
      ]
    },
    {
      "cell_type": "markdown",
      "id": "e7a19b17-f58a-4a40-a07a-71f362dd33d1",
      "metadata": {
        "id": "e7a19b17-f58a-4a40-a07a-71f362dd33d1"
      },
      "source": [
        "## Question 3: In-context learning with DSP [2 points]"
      ]
    },
    {
      "cell_type": "markdown",
      "id": "c9489b4a-849d-4b00-835a-a5a6cc6f61d5",
      "metadata": {
        "id": "c9489b4a-849d-4b00-835a-a5a6cc6f61d5"
      },
      "source": [
        "For this question, we are going to switch gears, from using our trained ReCOGS model to seeing whether we can get traction on this problem using only in-context learning. This question is meant to be very straightforward – our sole goal is to get you to the point where you have a working DSP program that you can build on."
      ]
    },
    {
      "cell_type": "markdown",
      "id": "c7e9a648-1535-4f31-945f-1488a5883a70",
      "metadata": {
        "id": "c7e9a648-1535-4f31-945f-1488a5883a70"
      },
      "source": [
        "### Set-up"
      ]
    },
    {
      "cell_type": "markdown",
      "id": "99ae6c14-4aab-41c3-9d12-177c5de38a09",
      "metadata": {
        "id": "99ae6c14-4aab-41c3-9d12-177c5de38a09"
      },
      "source": [
        "Standard set-up for DSP, but we don't need a retriever:"
      ]
    },
    {
      "cell_type": "code",
      "execution_count": null,
      "id": "e4148343-7182-4e75-be98-f40481e8f4d4",
      "metadata": {
        "id": "e4148343-7182-4e75-be98-f40481e8f4d4"
      },
      "outputs": [],
      "source": [
        "import cohere\n",
        "from datasets import load_dataset\n",
        "import openai\n",
        "import os\n",
        "import dsp\n",
        "\n",
        "root_path = '.'\n",
        "\n",
        "os.environ[\"DSP_NOTEBOOK_CACHEDIR\"] = os.path.join(root_path, 'cache')\n",
        "\n",
        "openai_key = os.getenv('OPENAI_API_KEY')  # or replace with your API key (optional)\n",
        "\n",
        "os.environ[\"COHERE_API_KEY\"] = 'nOkYxaSCfVZZwnJctyXOgfTJU2l22fbCFuIRnqof'\n",
        "cohere_key = os.getenv('COHERE_API_KEY')  # or replace with your API key (optional)\n"
      ]
    },
    {
      "cell_type": "markdown",
      "id": "31b8932c-2916-4d35-b05f-533713414c0d",
      "metadata": {
        "id": "31b8932c-2916-4d35-b05f-533713414c0d"
      },
      "source": [
        "Our language model:"
      ]
    },
    {
      "cell_type": "code",
      "execution_count": null,
      "id": "1d1d1d00-4589-45d3-86f3-d6c1b81e8eb1",
      "metadata": {
        "id": "1d1d1d00-4589-45d3-86f3-d6c1b81e8eb1"
      },
      "outputs": [],
      "source": [
        "# Options for Cohere: command-medium-nightly, command-xlarge-nightly\n",
        "lm = dsp.Cohere(model='command-xlarge-nightly', api_key=cohere_key)\n",
        "\n",
        "# Options for OpenAI:\n",
        "# [d[\"root\"] for d in openai.Model.list()[\"data\"]]\n",
        "#lm = dsp.GPT3(model='text-davinci-001', api_key=openai_key)"
      ]
    },
    {
      "cell_type": "markdown",
      "id": "7338f9bd-6f4d-4131-bd35-efadd6e2a72e",
      "metadata": {
        "id": "7338f9bd-6f4d-4131-bd35-efadd6e2a72e"
      },
      "source": [
        "DSP settings:"
      ]
    },
    {
      "cell_type": "code",
      "execution_count": null,
      "id": "18e2cbc2-60bd-4893-8de0-5ef2ad3950f6",
      "metadata": {
        "id": "18e2cbc2-60bd-4893-8de0-5ef2ad3950f6"
      },
      "outputs": [],
      "source": [
        "dsp.settings.configure(lm=lm)"
      ]
    },
    {
      "cell_type": "markdown",
      "id": "840dbd4b-7652-4bb8-bafb-c38bd752c10e",
      "metadata": {
        "id": "840dbd4b-7652-4bb8-bafb-c38bd752c10e"
      },
      "source": [
        "### Train examples in DSP format"
      ]
    },
    {
      "cell_type": "markdown",
      "id": "80ceb9c5-183e-45f0-9f1b-3783b334053c",
      "metadata": {
        "id": "80ceb9c5-183e-45f0-9f1b-3783b334053c"
      },
      "source": [
        "This will convert the train set into a list of `dsp.Example` instances to use for demonstrations:"
      ]
    },
    {
      "cell_type": "code",
      "execution_count": null,
      "id": "a145a809-6cc7-4711-aa94-850fd1383ea1",
      "metadata": {
        "id": "a145a809-6cc7-4711-aa94-850fd1383ea1"
      },
      "outputs": [],
      "source": [
        "dsp_recogs_train = [dsp.Example(input=row['input'], output=row['output'])\n",
        "                    for _, row in dataset['train'].iterrows()]"
      ]
    },
    {
      "cell_type": "markdown",
      "id": "2ac35f2a-9b07-4b0c-bab4-1e4e022f5b03",
      "metadata": {
        "id": "2ac35f2a-9b07-4b0c-bab4-1e4e022f5b03"
      },
      "source": [
        "### Basic template"
      ]
    },
    {
      "cell_type": "code",
      "execution_count": null,
      "id": "7860e77a-5799-4975-9b6a-50373aeb743f",
      "metadata": {
        "id": "7860e77a-5799-4975-9b6a-50373aeb743f"
      },
      "outputs": [],
      "source": [
        "Input = dsp.Type(\n",
        "    prefix=\"Input:\",\n",
        "    desc=\"${the sentence to be translated}\")\n",
        "\n",
        "Output = dsp.Type(\n",
        "    prefix=\"Output:\",\n",
        "    desc=\"${a logical form}\",\n",
        "    format=dsp.format_answers)\n",
        "\n",
        "cogs_template = dsp.Template(\n",
        "    instructions=\"Translate sentences into logical forms.\",\n",
        "    input=Input(),\n",
        "    output=Output())"
      ]
    },
    {
      "cell_type": "markdown",
      "id": "f3ff4b52-fa07-4ea8-96c7-bfa91303ebf9",
      "metadata": {
        "id": "f3ff4b52-fa07-4ea8-96c7-bfa91303ebf9"
      },
      "source": [
        "Quick illustration:"
      ]
    },
    {
      "cell_type": "code",
      "execution_count": null,
      "id": "00d130f3-55f6-4e50-875d-bac368405ad9",
      "metadata": {
        "id": "00d130f3-55f6-4e50-875d-bac368405ad9",
        "colab": {
          "base_uri": "https://localhost:8080/"
        },
        "outputId": "60667ea1-f6a1-4758-fa76-4b36153ae231"
      },
      "outputs": [
        {
          "output_type": "stream",
          "name": "stdout",
          "text": [
            "Translate sentences into logical forms.\n",
            "\n",
            "---\n",
            "\n",
            "Follow the following format.\n",
            "\n",
            "Input: ${the sentence to be translated}\n",
            "Output: ${a logical form}\n",
            "\n",
            "---\n",
            "\n",
            "Input: A cake was painted by Mason .\n",
            "Output: cake ( 30 ) ; Mason ( 40 ) ; paint ( 22 ) AND theme ( 22 , 30 ) AND agent ( 22 , 40 )\n",
            "\n",
            "Input: The boy painted a rose .\n",
            "Output: * boy ( 36 ) ; rose ( 20 ) ; paint ( 43 ) AND agent ( 43 , 36 ) AND theme ( 43 , 20 )\n",
            "\n",
            "Input: A rose was helped by a dog .\n",
            "Output:\n"
          ]
        }
      ],
      "source": [
        "ex = dsp.Example(\n",
        "    input=dataset['train'].input[0],\n",
        "    demos=dsp.sample(dsp_recogs_train, k=2))\n",
        "\n",
        "print(cogs_template(ex))"
      ]
    },
    {
      "cell_type": "markdown",
      "id": "fa596d1b-61ed-4c5d-b3af-dceb1c0861f8",
      "metadata": {
        "id": "fa596d1b-61ed-4c5d-b3af-dceb1c0861f8"
      },
      "source": [
        "### Task"
      ]
    },
    {
      "cell_type": "markdown",
      "id": "c8c27587-4c06-453d-9579-6429a762df8e",
      "metadata": {
        "id": "c8c27587-4c06-453d-9579-6429a762df8e"
      },
      "source": [
        "Your task is just to complete the following very basic DSP program. The steps are laid out for you:"
      ]
    },
    {
      "cell_type": "code",
      "execution_count": null,
      "id": "11a45b47-e2ab-4a5d-a0b3-b5507c4d4f10",
      "metadata": {
        "id": "11a45b47-e2ab-4a5d-a0b3-b5507c4d4f10"
      },
      "outputs": [],
      "source": [
        "@dsp.transformation\n",
        "def recogs_dsp(example, train=dsp_recogs_train, k=2):\n",
        "    # Step 1: Sample k train cases and add them to the `demos`\n",
        "    # attribute of `example`:\n",
        "    ##### YOUR CODE HERE\n",
        "    train_sample = dsp.sample(train, k)\n",
        "    example.demos = train_sample\n",
        "\n",
        "\n",
        "    # Run your program using `cogs_template`:\n",
        "    ##### YOUR CODE HERE\n",
        "\n",
        "    generator = dsp.generate(cogs_template)\n",
        "    example, completions = generator(example, stage='qa')\n",
        "\n",
        "    # Return the `dsp.Completions`:\n",
        "    return completions\n",
        "    ##### YOUR CODE HERE\n",
        "\n",
        "\n"
      ]
    },
    {
      "cell_type": "markdown",
      "id": "82299806-3fe7-4b96-ba74-f1a4624c4654",
      "metadata": {
        "id": "82299806-3fe7-4b96-ba74-f1a4624c4654"
      },
      "source": [
        "A quick test:"
      ]
    },
    {
      "cell_type": "code",
      "execution_count": null,
      "id": "e4dc1175-8a2d-4de4-a71c-1abb61d78f6e",
      "metadata": {
        "id": "e4dc1175-8a2d-4de4-a71c-1abb61d78f6e"
      },
      "outputs": [],
      "source": [
        "def test_recogs_dsp(func):\n",
        "    k = 3\n",
        "    ex = dsp.Example(input=\"Q0\", output=[\"A0\"])\n",
        "    train = [\n",
        "        dsp.Example(input=\"Q1\", output=[\"A1\"]),\n",
        "        dsp.Example(input=\"Q2\", output=[\"A2\"]),\n",
        "        dsp.Example(input=\"Q3\", output=[\"A3\"]),\n",
        "        dsp.Example(input=\"Q4\", output=[\"A4\"])]\n",
        "    compl = func(ex, train=train, k=k)\n",
        "    errcount = 0\n",
        "    # Check the LM was used as expected:\n",
        "    if len(compl.data) != 1:\n",
        "        errcount += 1\n",
        "        print(f\"Error for `{func.__name__}`: Unexpected LM output.\")\n",
        "    data = compl.data[0]\n",
        "    # Check that the right number of demos was used:\n",
        "    demos = data['demos']\n",
        "    if len(demos) != k:\n",
        "        errcount += 1\n",
        "        print(f\"Error for `{func.__name__}`: \"\n",
        "              f\"Unexpected demo count: {len(demos)}\")\n",
        "    if errcount == 0:\n",
        "        print(f\"No errors found for `{func.__name__}`\")"
      ]
    },
    {
      "cell_type": "code",
      "execution_count": null,
      "id": "4ab096a5-a7ee-4fd0-941a-7f70c403f4d0",
      "metadata": {
        "id": "4ab096a5-a7ee-4fd0-941a-7f70c403f4d0",
        "colab": {
          "base_uri": "https://localhost:8080/"
        },
        "outputId": "b94480a2-55b3-49a1-e191-e78336d84bb7"
      },
      "outputs": [
        {
          "output_type": "stream",
          "name": "stdout",
          "text": [
            "No errors found for `recogs_dsp`\n"
          ]
        }
      ],
      "source": [
        "test_recogs_dsp(recogs_dsp)"
      ]
    },
    {
      "cell_type": "code",
      "execution_count": null,
      "id": "b3cf46aa-3881-4a3d-8592-7c5292786f23",
      "metadata": {
        "id": "b3cf46aa-3881-4a3d-8592-7c5292786f23",
        "colab": {
          "base_uri": "https://localhost:8080/",
          "height": 36
        },
        "outputId": "41585f3c-e5ea-4739-97b5-62d1c68dc884"
      },
      "outputs": [
        {
          "output_type": "execute_result",
          "data": {
            "text/plain": [
              "'rose ( 20 ) ; dog ( 12 ) ; help ( 12 , 20 )'"
            ],
            "application/vnd.google.colaboratory.intrinsic+json": {
              "type": "string"
            }
          },
          "metadata": {},
          "execution_count": 67
        }
      ],
      "source": [
        "recogs_dsp(ex).output"
      ]
    },
    {
      "cell_type": "markdown",
      "id": "b0eaa937-771e-4202-88a7-c6e708a3d3ad",
      "metadata": {
        "id": "b0eaa937-771e-4202-88a7-c6e708a3d3ad"
      },
      "source": [
        "### Optional assessment"
      ]
    },
    {
      "cell_type": "markdown",
      "id": "b8ca366b-aa51-4d81-b400-c6c9500eb482",
      "metadata": {
        "id": "b8ca366b-aa51-4d81-b400-c6c9500eb482"
      },
      "source": [
        "Here we sample 10 dev cases for a small evaluation. If you adapt this code, remember to use `recogs_exact_match` so that you aren't unfairly penalized for conjunct order or varible name differences."
      ]
    },
    {
      "cell_type": "code",
      "execution_count": null,
      "id": "6a20ae08-86ef-40da-a963-69a7333647ce",
      "metadata": {
        "id": "6a20ae08-86ef-40da-a963-69a7333647ce"
      },
      "outputs": [],
      "source": [
        "ssamp = dataset['dev'].sample(10)"
      ]
    },
    {
      "cell_type": "code",
      "execution_count": null,
      "id": "268a2271-8a65-4355-8885-6f2bc214ff91",
      "metadata": {
        "id": "268a2271-8a65-4355-8885-6f2bc214ff91",
        "colab": {
          "base_uri": "https://localhost:8080/"
        },
        "outputId": "21b4ca19-a9a8-4c39-a77e-d197d0670148"
      },
      "outputs": [
        {
          "output_type": "stream",
          "name": "stderr",
          "text": [
            "INFO:backoff:Backing off request(...) for 0.6s (cohere.error.CohereAPIError: You are using a Trial key, which is limited to 5 API calls / minute. You can continue to use the Trial key for free or upgrade to a Production key with higher rate limits at 'https://dashboard.cohere.ai/api-keys'. Contact us on 'https://discord.gg/XW44jPfYJu' or email us at support@cohere.com with any questions)\n"
          ]
        },
        {
          "output_type": "stream",
          "name": "stdout",
          "text": [
            "Backing off 0.6 seconds after 1 tries calling function <function Cohere.request at 0x7bfb8cb9ecb0> with kwargs {'num_generations': 1}\n"
          ]
        },
        {
          "output_type": "stream",
          "name": "stderr",
          "text": [
            "INFO:backoff:Backing off request(...) for 1.8s (cohere.error.CohereAPIError: You are using a Trial key, which is limited to 5 API calls / minute. You can continue to use the Trial key for free or upgrade to a Production key with higher rate limits at 'https://dashboard.cohere.ai/api-keys'. Contact us on 'https://discord.gg/XW44jPfYJu' or email us at support@cohere.com with any questions)\n"
          ]
        },
        {
          "output_type": "stream",
          "name": "stdout",
          "text": [
            "Backing off 1.8 seconds after 2 tries calling function <function Cohere.request at 0x7bfb8cb9ecb0> with kwargs {'num_generations': 1}\n"
          ]
        },
        {
          "output_type": "stream",
          "name": "stderr",
          "text": [
            "INFO:backoff:Backing off request(...) for 0.3s (cohere.error.CohereAPIError: You are using a Trial key, which is limited to 5 API calls / minute. You can continue to use the Trial key for free or upgrade to a Production key with higher rate limits at 'https://dashboard.cohere.ai/api-keys'. Contact us on 'https://discord.gg/XW44jPfYJu' or email us at support@cohere.com with any questions)\n"
          ]
        },
        {
          "output_type": "stream",
          "name": "stdout",
          "text": [
            "Backing off 0.3 seconds after 3 tries calling function <function Cohere.request at 0x7bfb8cb9ecb0> with kwargs {'num_generations': 1}\n"
          ]
        },
        {
          "output_type": "stream",
          "name": "stderr",
          "text": [
            "INFO:backoff:Backing off request(...) for 4.9s (cohere.error.CohereAPIError: You are using a Trial key, which is limited to 5 API calls / minute. You can continue to use the Trial key for free or upgrade to a Production key with higher rate limits at 'https://dashboard.cohere.ai/api-keys'. Contact us on 'https://discord.gg/XW44jPfYJu' or email us at support@cohere.com with any questions)\n"
          ]
        },
        {
          "output_type": "stream",
          "name": "stdout",
          "text": [
            "Backing off 4.9 seconds after 4 tries calling function <function Cohere.request at 0x7bfb8cb9ecb0> with kwargs {'num_generations': 1}\n"
          ]
        },
        {
          "output_type": "stream",
          "name": "stderr",
          "text": [
            "INFO:backoff:Backing off request(...) for 15.0s (cohere.error.CohereAPIError: You are using a Trial key, which is limited to 5 API calls / minute. You can continue to use the Trial key for free or upgrade to a Production key with higher rate limits at 'https://dashboard.cohere.ai/api-keys'. Contact us on 'https://discord.gg/XW44jPfYJu' or email us at support@cohere.com with any questions)\n"
          ]
        },
        {
          "output_type": "stream",
          "name": "stdout",
          "text": [
            "Backing off 15.0 seconds after 5 tries calling function <function Cohere.request at 0x7bfb8cb9ecb0> with kwargs {'num_generations': 1}\n"
          ]
        },
        {
          "output_type": "stream",
          "name": "stderr",
          "text": [
            "INFO:backoff:Backing off request(...) for 2.7s (cohere.error.CohereAPIError: You are using a Trial key, which is limited to 5 API calls / minute. You can continue to use the Trial key for free or upgrade to a Production key with higher rate limits at 'https://dashboard.cohere.ai/api-keys'. Contact us on 'https://discord.gg/XW44jPfYJu' or email us at support@cohere.com with any questions)\n"
          ]
        },
        {
          "output_type": "stream",
          "name": "stdout",
          "text": [
            "Backing off 2.7 seconds after 6 tries calling function <function Cohere.request at 0x7bfb8cb9ecb0> with kwargs {'num_generations': 1}\n"
          ]
        },
        {
          "output_type": "stream",
          "name": "stderr",
          "text": [
            "INFO:backoff:Backing off request(...) for 0.3s (cohere.error.CohereAPIError: You are using a Trial key, which is limited to 5 API calls / minute. You can continue to use the Trial key for free or upgrade to a Production key with higher rate limits at 'https://dashboard.cohere.ai/api-keys'. Contact us on 'https://discord.gg/XW44jPfYJu' or email us at support@cohere.com with any questions)\n"
          ]
        },
        {
          "output_type": "stream",
          "name": "stdout",
          "text": [
            "Backing off 0.3 seconds after 1 tries calling function <function Cohere.request at 0x7bfb8cb9ecb0> with kwargs {'num_generations': 1}\n"
          ]
        },
        {
          "output_type": "stream",
          "name": "stderr",
          "text": [
            "INFO:backoff:Backing off request(...) for 0.7s (cohere.error.CohereAPIError: You are using a Trial key, which is limited to 5 API calls / minute. You can continue to use the Trial key for free or upgrade to a Production key with higher rate limits at 'https://dashboard.cohere.ai/api-keys'. Contact us on 'https://discord.gg/XW44jPfYJu' or email us at support@cohere.com with any questions)\n"
          ]
        },
        {
          "output_type": "stream",
          "name": "stdout",
          "text": [
            "Backing off 0.7 seconds after 2 tries calling function <function Cohere.request at 0x7bfb8cb9ecb0> with kwargs {'num_generations': 1}\n"
          ]
        },
        {
          "output_type": "stream",
          "name": "stderr",
          "text": [
            "INFO:backoff:Backing off request(...) for 3.0s (cohere.error.CohereAPIError: You are using a Trial key, which is limited to 5 API calls / minute. You can continue to use the Trial key for free or upgrade to a Production key with higher rate limits at 'https://dashboard.cohere.ai/api-keys'. Contact us on 'https://discord.gg/XW44jPfYJu' or email us at support@cohere.com with any questions)\n"
          ]
        },
        {
          "output_type": "stream",
          "name": "stdout",
          "text": [
            "Backing off 3.0 seconds after 3 tries calling function <function Cohere.request at 0x7bfb8cb9ecb0> with kwargs {'num_generations': 1}\n"
          ]
        },
        {
          "output_type": "stream",
          "name": "stderr",
          "text": [
            "INFO:backoff:Backing off request(...) for 1.7s (cohere.error.CohereAPIError: You are using a Trial key, which is limited to 5 API calls / minute. You can continue to use the Trial key for free or upgrade to a Production key with higher rate limits at 'https://dashboard.cohere.ai/api-keys'. Contact us on 'https://discord.gg/XW44jPfYJu' or email us at support@cohere.com with any questions)\n"
          ]
        },
        {
          "output_type": "stream",
          "name": "stdout",
          "text": [
            "Backing off 1.7 seconds after 4 tries calling function <function Cohere.request at 0x7bfb8cb9ecb0> with kwargs {'num_generations': 1}\n"
          ]
        },
        {
          "output_type": "stream",
          "name": "stderr",
          "text": [
            "INFO:backoff:Backing off request(...) for 1.5s (cohere.error.CohereAPIError: You are using a Trial key, which is limited to 5 API calls / minute. You can continue to use the Trial key for free or upgrade to a Production key with higher rate limits at 'https://dashboard.cohere.ai/api-keys'. Contact us on 'https://discord.gg/XW44jPfYJu' or email us at support@cohere.com with any questions)\n"
          ]
        },
        {
          "output_type": "stream",
          "name": "stdout",
          "text": [
            "Backing off 1.5 seconds after 5 tries calling function <function Cohere.request at 0x7bfb8cb9ecb0> with kwargs {'num_generations': 1}\n"
          ]
        },
        {
          "output_type": "stream",
          "name": "stderr",
          "text": [
            "INFO:backoff:Backing off request(...) for 23.2s (cohere.error.CohereAPIError: You are using a Trial key, which is limited to 5 API calls / minute. You can continue to use the Trial key for free or upgrade to a Production key with higher rate limits at 'https://dashboard.cohere.ai/api-keys'. Contact us on 'https://discord.gg/XW44jPfYJu' or email us at support@cohere.com with any questions)\n"
          ]
        },
        {
          "output_type": "stream",
          "name": "stdout",
          "text": [
            "Backing off 23.2 seconds after 6 tries calling function <function Cohere.request at 0x7bfb8cb9ecb0> with kwargs {'num_generations': 1}\n"
          ]
        }
      ],
      "source": [
        "ssamp['prediction'] = ssamp.input.apply(\n",
        "    lambda x: recogs_dsp(dsp.Example(input=x)).output)"
      ]
    },
    {
      "cell_type": "code",
      "execution_count": null,
      "id": "d9415ce6-a4e2-4b03-81dd-5ad85e0de78f",
      "metadata": {
        "id": "d9415ce6-a4e2-4b03-81dd-5ad85e0de78f"
      },
      "outputs": [],
      "source": [
        "ssamp['correct'] = ssamp.apply(\n",
        "    lambda row: recogs_exact_match(row['output'], row['prediction']), axis=1)"
      ]
    },
    {
      "cell_type": "code",
      "execution_count": null,
      "id": "aa9e743e-5941-47dd-8953-cc3b302a314a",
      "metadata": {
        "id": "aa9e743e-5941-47dd-8953-cc3b302a314a",
        "colab": {
          "base_uri": "https://localhost:8080/"
        },
        "outputId": "31c9f65e-0466-4536-c358-c654d54cb088"
      },
      "outputs": [
        {
          "output_type": "execute_result",
          "data": {
            "text/plain": [
              "0.1"
            ]
          },
          "metadata": {},
          "execution_count": 71
        }
      ],
      "source": [
        "ssamp['correct'].sum() / ssamp.shape[0]"
      ]
    },
    {
      "cell_type": "markdown",
      "id": "c5294287-5808-4eb7-ac2d-19bd0b660bd2",
      "metadata": {
        "id": "c5294287-5808-4eb7-ac2d-19bd0b660bd2"
      },
      "source": [
        "A random example to see what's going on:"
      ]
    },
    {
      "cell_type": "code",
      "execution_count": null,
      "id": "909fa032-f559-4971-94a8-16c7eba054d8",
      "metadata": {
        "id": "909fa032-f559-4971-94a8-16c7eba054d8",
        "colab": {
          "base_uri": "https://localhost:8080/"
        },
        "outputId": "889d222a-f048-4ec1-cb70-0a19be5dadb1"
      },
      "outputs": [
        {
          "output_type": "execute_result",
          "data": {
            "text/plain": [
              "[{'input': 'Asher meant to run .',\n",
              "  'output': 'Asher ( 31 ) ; mean ( 42 ) AND agent ( 42 , 31 ) AND xcomp ( 42 , 19 ) AND run ( 19 ) AND agent ( 19 , 31 )',\n",
              "  'category': 'in_distribution',\n",
              "  'prediction': 'Asher ( 40 ) ; run ( 40 ) ; intend ( 40 )',\n",
              "  'correct': False}]"
            ]
          },
          "metadata": {},
          "execution_count": 72
        }
      ],
      "source": [
        "ssamp.sample(1).to_dict(orient='records')"
      ]
    },
    {
      "cell_type": "markdown",
      "id": "5faf84b5-af29-4a55-8f83-6f71fdb1c054",
      "metadata": {
        "id": "5faf84b5-af29-4a55-8f83-6f71fdb1c054"
      },
      "source": [
        "## Question 4: Original System [3 points]"
      ]
    },
    {
      "cell_type": "markdown",
      "id": "7cfa81ab-c4a1-4f4e-9d50-d223f81c90a6",
      "metadata": {
        "id": "7cfa81ab-c4a1-4f4e-9d50-d223f81c90a6"
      },
      "source": [
        "For your original system, you can do anything at all. The only constraint (repeated from above):\n",
        "\n",
        "__You cannot train your system on any examples from `dataset[\"gen\"]`, nor can the output representations from those examples be included in any prompts used for in-context learning.__\n",
        "\n",
        "In the cell below, please provide a brief technical description of your original system, so that the teaching team can gain an understanding of what it does. This will help us to understand your code and analyze all the submissions to identify patterns and strategies."
      ]
    },
    {
      "cell_type": "code",
      "execution_count": null,
      "id": "b9b50392-e869-4315-bb2f-09b76b8000ae",
      "metadata": {
        "id": "b9b50392-e869-4315-bb2f-09b76b8000ae"
      },
      "outputs": [],
      "source": [
        "# PLEASE MAKE SURE TO INCLUDE THE FOLLOWING BETWEEN THE START AND STOP COMMENTS:\n",
        "#   1) Textual description of your system.\n",
        "#   2) The code for your original system.\n",
        "# PLEASE MAKE SURE NOT TO DELETE OR EDIT THE START AND STOP COMMENTS\n",
        "\n",
        "# START COMMENT: Enter your system description in this cell.\n",
        "\n",
        "Description:\n",
        "===========\n",
        "\n",
        "- Out of different choices for original system, I have decided to go with seq2seq type\n",
        "encoder-decoder style.\n",
        "- However, in lieu of training from scratch using encoder only model as encoder and decoder only autoregressive model as decoder,\n",
        "I have decided to warm start from pre-trained model checkpoints.\n",
        "- My goal is to compare and contrast ReCOGS vs T5 vs Flan UL2 (8 bit).\n",
        "- For first version of my submission, I am submitting the warm started version from original ReCOGS pretrained model.\n",
        "\n",
        "- Most of the code is provided for warm starting and fitting train dataset, check generalization on dev dataset which I plan to reuse.\n",
        "\n",
        "- Finally, I also used gen dataset to check per category scores which will be pasted below.\n",
        "\n",
        "Note:\n",
        "====\n",
        "\n",
        "There involves complex mapping between input and output sequences. It is crucial\n",
        "to capture relationship between the elements in both sequences. In this case, sentences and their logical forms mapping.\n",
        "\n",
        "I don't feel intrigued to try purely autoregressive way, even in context aware promting style for this exercise. Hence\n",
        "I am not proceeding with DSP or retrieval + prompting and token by token generation for this problem.\n",
        "\n",
        "Code:\n",
        "====\n",
        "\n",
        "To reproduce, please use the following notebook which is accessible only with link and not publicly available.\n",
        "https://colab.research.google.com/drive/1Jt87uGt2EQwcFywLASTqCiojVTcj2VuY?usp=sharing\n",
        "\n",
        "from torch import cuda\n",
        "device_pref = 'cuda' if cuda.is_available() else 'cpu'\n",
        "\n",
        "recogs_ff = RecogsModel(\n",
        "    batch_size=128,\n",
        "    gradient_accumulation_steps=20,\n",
        "    max_iter=100,\n",
        "    early_stopping=True,\n",
        "    n_iter_no_change=10,\n",
        "    optimizer_class=torch.optim.Adam,\n",
        "    device=device_pref,\n",
        "    eta=0.00001)\n",
        "\n",
        "_ = recogs_ff.fit(dataset['train'].input, dataset['train'].output)\n",
        "\n",
        "recogs_ff.score(dataset['dev'].input, dataset['dev'].output, device = device_pref)\n",
        "0.9676666666666667\n",
        "\n",
        "model_save_name = 'cs224u-hw-finetuned-recogs-model.pt'\n",
        "path = F\"/content/gdrive/My Drive/CS-224U/{model_save_name}\"\n",
        "\n",
        "\n",
        "torch.save({'model_state_dict': recogs_ff.model.state_dict(),\n",
        "            'optimizer_state_dict': recogs_ff.optimizer.state_dict(),\n",
        "            'loss': recogs_ff.loss}, path)\n",
        "\n",
        "gen_categories = sorted(dataset['gen'].category.unique())\n",
        "\n",
        "gen_df = dataset['gen']\n",
        "category_based_scores = {category : 0 for category in gen_categories}\n",
        "\n",
        "for gen_category in gen_categories:\n",
        "  gen_category_data = gen_df[gen_df.category == gen_category]\n",
        "  score = recogs_ff.score(gen_category_data.input, gen_category_data.output, device = device_pref)\n",
        "  category_based_scores[gen_category] = score\n",
        "\n",
        "category_based_scores\n",
        "\n",
        "\n",
        "category_based_scores\n",
        "{'active_to_passive': 0.972,\n",
        " 'cp_recursion': 0.091,\n",
        " 'do_dative_to_pp_dative': 0.789,\n",
        " 'obj_omitted_transitive_to_transitive': 0.33,\n",
        " 'obj_pp_to_subj_pp': 0.0,\n",
        " 'obj_to_subj_common': 0.948,\n",
        " 'obj_to_subj_proper': 0.936,\n",
        " 'only_seen_as_transitive_subj_as_unacc_subj': 0.919,\n",
        " 'only_seen_as_unacc_subj_as_obj_omitted_transitive_subj': 0.889,\n",
        " 'only_seen_as_unacc_subj_as_unerg_subj': 0.955,\n",
        " 'passive_to_active': 0.075,\n",
        " 'pp_dative_to_do_dative': 0.162,\n",
        " 'pp_recursion': 0.0,\n",
        " 'prim_to_inf_arg': 0.011,\n",
        " 'prim_to_obj_common': 0.636,\n",
        " 'prim_to_obj_proper': 0.495,\n",
        " 'prim_to_subj_common': 0.622,\n",
        " 'prim_to_subj_proper': 0.872,\n",
        " 'subj_to_obj_common': 0.857,\n",
        " 'subj_to_obj_proper': 0.868,\n",
        " 'unacc_to_transitive': 0.684}\n",
        "\n",
        " {'active_to_passive': 0.978,\n",
        " 'cp_recursion': 0.082,\n",
        " 'do_dative_to_pp_dative': 0.789,\n",
        " 'obj_omitted_transitive_to_transitive': 0.335,\n",
        " 'obj_pp_to_subj_pp': 0.0,\n",
        " 'obj_to_subj_common': 0.941,\n",
        " 'obj_to_subj_proper': 0.945,\n",
        " 'only_seen_as_transitive_subj_as_unacc_subj': 0.901,\n",
        " 'only_seen_as_unacc_subj_as_obj_omitted_transitive_subj': 0.902,\n",
        " 'only_seen_as_unacc_subj_as_unerg_subj': 0.962,\n",
        " 'passive_to_active': 0.069,\n",
        " 'pp_dative_to_do_dative': 0.198,\n",
        " 'pp_recursion': 0.0,\n",
        " 'prim_to_inf_arg': 0.0,\n",
        " 'prim_to_obj_common': 0.682,\n",
        " 'prim_to_obj_proper': 0.538,\n",
        " 'prim_to_subj_common': 0.692,\n",
        " 'prim_to_subj_proper': 0.882,\n",
        " 'subj_to_obj_common': 0.868,\n",
        " 'subj_to_obj_proper': 0.876,\n",
        " 'unacc_to_transitive': 0.683}\n",
        "\n",
        "bakeoff_df = pd.read_csv(\n",
        "    os.path.join(SRC_DIRNAME, \"cs224u-recogs-test-unlabeled.tsv\"),\n",
        "    sep=\"\\t\", index_col=0)\n",
        "\n",
        "bakeoff_df['prediction'] = recogs_ff.predict(bakeoff_df['input'])\n",
        "\n",
        "# STOP COMMENT: Please do not remove this comment."
      ]
    },
    {
      "cell_type": "markdown",
      "id": "3fcb4dab-c0a9-4b1c-a556-148d66b2a77a",
      "metadata": {
        "id": "3fcb4dab-c0a9-4b1c-a556-148d66b2a77a"
      },
      "source": [
        "Here are some potential paths – just a few of many options, though!"
      ]
    },
    {
      "cell_type": "markdown",
      "id": "e20adf07-b7f3-4e6f-b172-73cfe781b7a4",
      "metadata": {
        "id": "e20adf07-b7f3-4e6f-b172-73cfe781b7a4"
      },
      "source": [
        "### Option: DSP program\n",
        "\n",
        "This could build on Question 3 very directly. All we have tried ourselves so far is the simple approach from that question."
      ]
    },
    {
      "cell_type": "markdown",
      "id": "da281ffa-ecf4-4598-bd1f-484153378a18",
      "metadata": {
        "id": "da281ffa-ecf4-4598-bd1f-484153378a18"
      },
      "source": [
        "### Option: Further training of our model"
      ]
    },
    {
      "cell_type": "markdown",
      "id": "b8eb6de7-bab8-4f38-9567-49ea8d47dda7",
      "metadata": {
        "id": "b8eb6de7-bab8-4f38-9567-49ea8d47dda7"
      },
      "source": [
        "This is very easy to do. For example, here we do some training on the first 10 dev examples, and we've exposed some keyword arguments that may be of interest:"
      ]
    },
    {
      "cell_type": "code",
      "execution_count": null,
      "id": "76cf1b21-8059-4bc2-9cf8-a23b910e8b7f",
      "metadata": {
        "id": "76cf1b21-8059-4bc2-9cf8-a23b910e8b7f"
      },
      "outputs": [],
      "source": [
        "recogs_ff = RecogsModel(\n",
        "    batch_size=5,\n",
        "    gradient_accumulation_steps=20,\n",
        "    max_iter=100,\n",
        "    early_stopping=True,\n",
        "    n_iter_no_change=10,\n",
        "    optimizer_class=torch.optim.Adam,\n",
        "    eta=0.00001)"
      ]
    },
    {
      "cell_type": "code",
      "execution_count": null,
      "id": "2bd269d1-d835-4241-a5b6-0463883a42c4",
      "metadata": {
        "id": "2bd269d1-d835-4241-a5b6-0463883a42c4",
        "colab": {
          "base_uri": "https://localhost:8080/"
        },
        "outputId": "42d23cf7-028a-4ad5-eebe-caf30d475822"
      },
      "outputs": [
        {
          "output_type": "stream",
          "name": "stderr",
          "text": [
            "/usr/local/lib/python3.10/dist-packages/transformers/models/encoder_decoder/modeling_encoder_decoder.py:634: FutureWarning: Version v4.12.0 introduces a better way to train encoder-decoder models by computing the loss inside the encoder-decoder framework rather than in the decoder itself. You may observe training discrepancies if fine-tuning a model trained with versions anterior to 4.12.0. The decoder_input_ids are now created based on the labels, no need to pass them yourself anymore.\n",
            "  warnings.warn(DEPRECATION_WARNING, FutureWarning)\n",
            "Stopping after epoch 12. Validation score did not improve by tol=1e-05 for more than 10 epochs. Final error is 2.5762579664587975"
          ]
        }
      ],
      "source": [
        "_ = recogs_ff.fit(dataset['dev'].input[: 40], dataset['dev'].output[: 40])"
      ]
    },
    {
      "cell_type": "markdown",
      "id": "58af5ee4-d7e9-4700-8700-0021f11a1e1a",
      "metadata": {
        "id": "58af5ee4-d7e9-4700-8700-0021f11a1e1a"
      },
      "source": [
        "For this, you will want to pay a lot of attention to the optimization-related parameters."
      ]
    },
    {
      "cell_type": "markdown",
      "id": "6b64ec5e-56dd-4174-96ea-b9574a39ea58",
      "metadata": {
        "id": "6b64ec5e-56dd-4174-96ea-b9574a39ea58"
      },
      "source": [
        "### Option: Using a pretrained model"
      ]
    },
    {
      "cell_type": "markdown",
      "id": "d71f245a-c474-4723-a1c8-ea4666c22ce5",
      "metadata": {
        "id": "d71f245a-c474-4723-a1c8-ea4666c22ce5"
      },
      "source": [
        "The code used for Question 2 should make this very easy. For example, the following is the start of a complete solution using T5:"
      ]
    },
    {
      "cell_type": "code",
      "execution_count": null,
      "id": "d75cf2f9-bedc-48e6-a367-747008002eed",
      "metadata": {
        "id": "d75cf2f9-bedc-48e6-a367-747008002eed"
      },
      "outputs": [],
      "source": [
        "import torch.nn as nn\n",
        "from transformers import AutoTokenizer, AutoModelForSeq2SeqLM\n",
        "\n",
        "class T5RecogsModule(nn.Module):\n",
        "    def __init__(self):\n",
        "        super().__init__()\n",
        "        self.encdec = AutoModelForSeq2SeqLM.from_pretrained(\"t5-small\")\n",
        "\n",
        "    def forward(self, X_pad, X_mask, y_pad, y_mask, labels=None):\n",
        "        outputs = self.encdec(\n",
        "            input_ids=X_pad,\n",
        "            attention_mask=X_mask,\n",
        "            decoder_attention_mask=y_mask,\n",
        "            labels=y_pad)\n",
        "        return outputs\n",
        "\n",
        "class T5RecogsModel(RecogsModel):\n",
        "    def __init__(self, *args, initialize=True, **kwargs):\n",
        "        super().__init__(*args, **kwargs)\n",
        "        self.enc_tokenizer = AutoTokenizer.from_pretrained(\"t5-small\")\n",
        "        self.dec_tokenizer = self.enc_tokenizer\n",
        "\n",
        "    def build_graph(self):\n",
        "        return T5RecogsModule()"
      ]
    },
    {
      "cell_type": "markdown",
      "id": "613ca475-f788-441a-a32e-f3feed6aa88b",
      "metadata": {
        "id": "613ca475-f788-441a-a32e-f3feed6aa88b"
      },
      "source": [
        "This will make predictions, but they will be pretty totally disconnected from our task right now:"
      ]
    },
    {
      "cell_type": "code",
      "execution_count": null,
      "id": "eded1da8-e9ba-4cf8-a5ef-6d6c7c41ccf2",
      "metadata": {
        "id": "eded1da8-e9ba-4cf8-a5ef-6d6c7c41ccf2",
        "colab": {
          "base_uri": "https://localhost:8080/",
          "height": 209,
          "referenced_widgets": [
            "57e42ee682424b0282266fec695db2dc",
            "0757d26fc3ef4c0b849736c35bf103be",
            "7edc9eb710d64e33a44ce9fed689726a",
            "262cf2b02a074053a7b56349dcdf39da",
            "0b1e56e7ff9b42669e595e5a93746e77",
            "0caf07a0c2a048c9b02e5430e04cb834",
            "0e0f76ee446745908629852d9a5effeb",
            "a1dc8e803eca49a895e009f269bf0bf0",
            "ea9a4c3277744d308340408d2e103522",
            "dac1d4b146884ec8b3ea3deba381787b",
            "d17e5ddb60b34c0c83687826485626b2",
            "b5f8f7e3e43b42aba80dea4f60a82867",
            "48f2c4ac3b4943539b6ac25bdd9465d0",
            "b21d726323f6465b89bdde23898422b8",
            "3e3dfbeec1aa4a2b9bfb2e63d94582e6",
            "c5e93689f10749a7aac41eb0951d1ca2",
            "0e6a9a6163dd4500942f14e75e6c2adf",
            "56bff0b4b95b4098bd113f12d26d0c6d",
            "84a5258ac1c846c6a78a8f3a3c6779b7",
            "3b32edac4eb345009d2d5b172bd79961",
            "4c488e388de445e48530ead1e5b677e1",
            "f17e784d974f459392e4ea59961d2bb6",
            "e319420189414b70ac090b429be56aba",
            "bd3340a240aa4b6cbe1d57e6cc94ebbe",
            "5401750a8fdb4cafaeb1ec9938a99eb8",
            "f13a61416f3d466d8892b2063b4f596c",
            "19a671dc2d3b45948c87935b55699591",
            "17fa2ce2f356403d963bc3000f803f6e",
            "7acc09afb3a84fc287b308d7289578d4",
            "a8068fd00c5244c1a2dc3902d529fffc",
            "9d5a449fc44444cbab1c6cb07dd368ad",
            "bbc30904182e4562a8b090fb74cfb9c8",
            "3fff1e1670d840c4839ba827aed8b6ef",
            "59adcd9abce041e18b22d07448a22e57",
            "71ed3d73d04b43a2ae2c452c5b77a65d",
            "1b1da9bc7b2443e9ac48c53de7848f28",
            "443fe1d8350c4daab3957c697e87299c",
            "36df2ba89cd342aaa210b397e4b4ebd1",
            "8984d451df244a158e7f45a6ccd24239",
            "d22401cc18c0461099666ece173ed41c",
            "44e52abc143e40dea041b8b86fb54c55",
            "f18a7d6dc33541d4b7eb4281daa35ee3",
            "736eac36d81d449098c2536e68d44dd9",
            "0acedb9d249346528176491982a32661",
            "eb8abd0a3785499a93f2af338c2f8c06",
            "926cf7eb1f9f42b781eab178c3f18fe2",
            "e3d72ef8c47f46cf877114e3d4160b54",
            "b1454db22f344b70a3bb8ffd04d403af",
            "3dc34e29e956452fbb0c30e37b3ad209",
            "9264d77aeab646f5ba9981d5824e6715",
            "6e1bc961ddec4aa89a4e6b52cac2cd54",
            "1078687ca942414f871a3300a9f0acec",
            "29c06e64c498454592b3fea35f571cec",
            "6a28df60cb5148d59ac68adf9527127c",
            "6f462fc47a6246c6ba91ff5165154dcd",
            "00c6b6fde2e047d38f0d2999bb026647",
            "fdf82ad2f3b24045af85f64a0fd94190",
            "7792028e341a471683ab7b0588496965",
            "6a48c075f56f4a2f8877bc6eea83d33a",
            "9c995eea743a4409a49c033f549b2d91",
            "f893449619f84903af91e5f1e24d1d2e",
            "1e7225b11ca74cd2b6b1f7c59232946b",
            "95aa0074406642b49b5b80ab3e2fdfb3",
            "ea7fa47a30344c57996f01650b92b9f1",
            "1aeada8024484f3695ecc4718896ae1d",
            "6b6fc78615cb41b1b38455f8bbc177d0"
          ]
        },
        "outputId": "bdc8358e-54f8-4f82-e38c-48ab5404658e"
      },
      "outputs": [
        {
          "output_type": "display_data",
          "data": {
            "text/plain": [
              "Downloading (…)lve/main/config.json:   0%|          | 0.00/1.21k [00:00<?, ?B/s]"
            ],
            "application/vnd.jupyter.widget-view+json": {
              "version_major": 2,
              "version_minor": 0,
              "model_id": "57e42ee682424b0282266fec695db2dc"
            }
          },
          "metadata": {}
        },
        {
          "output_type": "display_data",
          "data": {
            "text/plain": [
              "Downloading pytorch_model.bin:   0%|          | 0.00/242M [00:00<?, ?B/s]"
            ],
            "application/vnd.jupyter.widget-view+json": {
              "version_major": 2,
              "version_minor": 0,
              "model_id": "b5f8f7e3e43b42aba80dea4f60a82867"
            }
          },
          "metadata": {}
        },
        {
          "output_type": "display_data",
          "data": {
            "text/plain": [
              "Downloading (…)neration_config.json:   0%|          | 0.00/147 [00:00<?, ?B/s]"
            ],
            "application/vnd.jupyter.widget-view+json": {
              "version_major": 2,
              "version_minor": 0,
              "model_id": "e319420189414b70ac090b429be56aba"
            }
          },
          "metadata": {}
        },
        {
          "output_type": "display_data",
          "data": {
            "text/plain": [
              "Downloading (…)okenizer_config.json:   0%|          | 0.00/2.32k [00:00<?, ?B/s]"
            ],
            "application/vnd.jupyter.widget-view+json": {
              "version_major": 2,
              "version_minor": 0,
              "model_id": "59adcd9abce041e18b22d07448a22e57"
            }
          },
          "metadata": {}
        },
        {
          "output_type": "display_data",
          "data": {
            "text/plain": [
              "Downloading (…)ve/main/spiece.model:   0%|          | 0.00/792k [00:00<?, ?B/s]"
            ],
            "application/vnd.jupyter.widget-view+json": {
              "version_major": 2,
              "version_minor": 0,
              "model_id": "eb8abd0a3785499a93f2af338c2f8c06"
            }
          },
          "metadata": {}
        },
        {
          "output_type": "display_data",
          "data": {
            "text/plain": [
              "Downloading (…)/main/tokenizer.json:   0%|          | 0.00/1.39M [00:00<?, ?B/s]"
            ],
            "application/vnd.jupyter.widget-view+json": {
              "version_major": 2,
              "version_minor": 0,
              "model_id": "00c6b6fde2e047d38f0d2999bb026647"
            }
          },
          "metadata": {}
        }
      ],
      "source": [
        "t5mod = T5RecogsModel()"
      ]
    },
    {
      "cell_type": "code",
      "source": [
        "_ = t5mod.fit(dataset['dev'].input[: 40], dataset['dev'].output[: 40])"
      ],
      "metadata": {
        "colab": {
          "base_uri": "https://localhost:8080/"
        },
        "id": "2LrGhSXFyu3-",
        "outputId": "28d4c896-2ccc-460c-8a51-7ab71dae96ab"
      },
      "id": "2LrGhSXFyu3-",
      "execution_count": null,
      "outputs": [
        {
          "output_type": "stream",
          "name": "stderr",
          "text": [
            "Stopping after epoch 246. Training loss did not improve more than tol=1e-05. Final error is 0.007902491837739944."
          ]
        }
      ]
    },
    {
      "cell_type": "code",
      "execution_count": null,
      "id": "b9074288-99ea-41d8-8430-7a6887957953",
      "metadata": {
        "id": "b9074288-99ea-41d8-8430-7a6887957953",
        "colab": {
          "base_uri": "https://localhost:8080/"
        },
        "outputId": "22144183-e13c-462f-f280-05a22920814f"
      },
      "outputs": [
        {
          "output_type": "execute_result",
          "data": {
            "text/plain": [
              "0    Liam hoped that a box was burned by a girl .\n",
              "1      The donkey lended the cookie to a mother .\n",
              "Name: input, dtype: object"
            ]
          },
          "metadata": {},
          "execution_count": 86
        }
      ],
      "source": [
        "t5_exs = dataset['dev'].input[: 2]\n",
        "\n",
        "t5_exs"
      ]
    },
    {
      "cell_type": "code",
      "execution_count": null,
      "id": "0a683db7-38de-49b0-b2d2-92cebeb1daa0",
      "metadata": {
        "id": "0a683db7-38de-49b0-b2d2-92cebeb1daa0",
        "colab": {
          "base_uri": "https://localhost:8080/"
        },
        "outputId": "bfdd165c-ab6b-48f9-b301-1b141208f6fa"
      },
      "outputs": [
        {
          "output_type": "execute_result",
          "data": {
            "text/plain": [
              "['Liam ( 30 ) ; box ( 25 ) ; girl ( 21 ) ; hope ( 33 ) AND agent ( 33 , 30 ) AND ccomp ( 33 , 24 ) AND burn ( 24 ) AND theme ( 24 , 25 ) AND agent ( 24 , 21 )',\n",
              " '* donkey ( 15 ) ; * cookie ( 4 ) ; mother ( 56 ) ; lend ( 43 ) AND agent ( 43 , 15 ) AND theme ( 43 , 4 ) AND recipient ( 43 , 56 )']"
            ]
          },
          "metadata": {},
          "execution_count": 87
        }
      ],
      "source": [
        "t5mod.predict(t5_exs)"
      ]
    },
    {
      "cell_type": "markdown",
      "id": "3e21f911-69d3-4fa1-b3eb-6c73b494a15c",
      "metadata": {
        "id": "3e21f911-69d3-4fa1-b3eb-6c73b494a15c"
      },
      "source": [
        "This model needs to be fine-tuned on ReCOGS, which you can do with its `fit` method. In that case, you will want to pay a lot of attention to the optimization-related parameters to `TorchModelBase`."
      ]
    },
    {
      "cell_type": "markdown",
      "id": "2c15c129-8ada-4114-9c59-42ebc8025b59",
      "metadata": {
        "id": "2c15c129-8ada-4114-9c59-42ebc8025b59"
      },
      "source": [
        "### Option: Training a seq2seq model from scratch"
      ]
    },
    {
      "cell_type": "markdown",
      "id": "168e69f3-a5dd-4288-8d6c-ae652dac6365",
      "metadata": {
        "id": "168e69f3-a5dd-4288-8d6c-ae652dac6365"
      },
      "source": [
        "The above code for T5 is easily adapted to use a randomly initialized model. The config files used to train our core model are `encoder_config.json` and `decoder_config.json` in `SRC_DIRNAME`. These might be a good starting point in terms of parameters and other set-up details."
      ]
    },
    {
      "cell_type": "markdown",
      "id": "a5f6ee76-5119-4e89-ac12-42d2933bb2b0",
      "metadata": {
        "id": "a5f6ee76-5119-4e89-ac12-42d2933bb2b0"
      },
      "source": [
        "### There are lots more options!\n",
        "\n",
        "Maybe a symbolic solver? A learned semantic parser? Tree-structured neural network?"
      ]
    },
    {
      "cell_type": "markdown",
      "id": "521ebabe-bfa7-4559-b7a6-e677b9241815",
      "metadata": {
        "id": "521ebabe-bfa7-4559-b7a6-e677b9241815"
      },
      "source": [
        "## Question 5: Bakeoff entry [1 point]"
      ]
    },
    {
      "cell_type": "markdown",
      "id": "cab31552-ed3c-41cc-b187-d45ec408a3ba",
      "metadata": {
        "id": "cab31552-ed3c-41cc-b187-d45ec408a3ba"
      },
      "source": [
        "Here we read in the bakeoff dataset:"
      ]
    },
    {
      "cell_type": "code",
      "execution_count": null,
      "id": "c8f943f3-de8c-4f0c-924e-8c705be013b3",
      "metadata": {
        "id": "c8f943f3-de8c-4f0c-924e-8c705be013b3"
      },
      "outputs": [],
      "source": [
        "bakeoff_df = pd.read_csv(\n",
        "    os.path.join(SRC_DIRNAME, \"cs224u-recogs-test-unlabeled.tsv\"),\n",
        "    sep=\"\\t\", index_col=0)"
      ]
    },
    {
      "cell_type": "markdown",
      "id": "588b8d2c-169e-4fd5-a4d6-004d70b0b0d2",
      "metadata": {
        "id": "588b8d2c-169e-4fd5-a4d6-004d70b0b0d2"
      },
      "source": [
        "For the bakeoff entry, you should add a column \"prediction\" containing your predicted LFs and then use the following command to write the file to disk:"
      ]
    },
    {
      "cell_type": "code",
      "execution_count": null,
      "id": "9eb3120b-a736-464a-a387-9a3bdc9bdcfc",
      "metadata": {
        "id": "9eb3120b-a736-464a-a387-9a3bdc9bdcfc"
      },
      "outputs": [],
      "source": [
        "bakeoff_df.to_csv(\"cs224u-recogs-bakeoff-entry.tsv\", sep=\"\\t\")"
      ]
    },
    {
      "cell_type": "markdown",
      "id": "943bac05-b45d-4f0b-9ad8-e52b83b9760f",
      "metadata": {
        "id": "943bac05-b45d-4f0b-9ad8-e52b83b9760f"
      },
      "source": [
        "Here is what the first couple of lines of the file should look like:\n",
        "\n",
        "```\n",
        "\tinput\tcategory\tprediction\n",
        "0\tA cake was blessed by the wolf .\tactive_to_passive\tPREDICTED LF\n",
        "1\tA melon was blessed by a boy .\tactive_to_passive\tPREDICTED LF\n",
        "```\n",
        "\n",
        "where `PREDICTED LF` is what you predicted. Here is a quick test you can run locally to ensure that the autograder won't fail:"
      ]
    },
    {
      "cell_type": "code",
      "execution_count": null,
      "id": "cd5eec46-2508-4818-a9ff-1989f99bfdfb",
      "metadata": {
        "id": "cd5eec46-2508-4818-a9ff-1989f99bfdfb"
      },
      "outputs": [],
      "source": [
        "def test_bakeoff_file(filename=\"cs224u-recogs-bakeoff-entry.tsv\"):\n",
        "    ref_filename = os.path.join(SRC_DIRNAME, \"cs224u-recogs-test-unlabeled.tsv\")\n",
        "    ref_df = pd.read_csv(ref_filename, sep=\"\\t\", index_col=0)\n",
        "\n",
        "    entry_df = pd.read_csv(filename, sep=\"\\t\", index_col=0)\n",
        "\n",
        "    errcount = 0\n",
        "\n",
        "    # Check expected columns:\n",
        "    expected_cols = [\"input\", \"category\", \"prediction\"]\n",
        "    for col in expected_cols:\n",
        "        if col not in entry_df.columns:\n",
        "            errcount += 1\n",
        "            print(f\"Missing column: {col}\")\n",
        "    if errcount > 0:\n",
        "        return\n",
        "\n",
        "    # Use the \"category\" column as a check that the rows have not\n",
        "    # been shuffled:\n",
        "    if not entry_df.category.equals(ref_df.category):\n",
        "        errcount += 1\n",
        "        print(\"Rows do not seem to be aligned with reference file. \"\n",
        "              \"Might they have gotten shuffled?\")\n",
        "\n",
        "    # Check that the predictions all have type str:\n",
        "    for line_num, x in enumerate(entry_df.prediction, start=1):\n",
        "        if not isinstance(x, str):\n",
        "            errcount += 1\n",
        "            print(f\"Prediction on line {line_num} is not a str: {x}\")\n",
        "\n",
        "    if errcount == 0:\n",
        "        print(\"Bakeoff file seems to be in good shape!\")"
      ]
    },
    {
      "cell_type": "code",
      "execution_count": null,
      "id": "26d37fe9-6014-4fac-b9d6-5552a01ce72c",
      "metadata": {
        "id": "26d37fe9-6014-4fac-b9d6-5552a01ce72c",
        "colab": {
          "base_uri": "https://localhost:8080/"
        },
        "outputId": "67f59787-c398-4c85-c2cb-de919897a342"
      },
      "outputs": [
        {
          "output_type": "stream",
          "name": "stdout",
          "text": [
            "Bakeoff file seems to be in good shape!\n"
          ]
        }
      ],
      "source": [
        "test_bakeoff_file(\"cs224u-recogs-bakeoff-entry.tsv\")"
      ]
    }
  ],
  "metadata": {
    "kernelspec": {
      "display_name": "Python 3",
      "name": "python3"
    },
    "language_info": {
      "codemirror_mode": {
        "name": "ipython",
        "version": 3
      },
      "file_extension": ".py",
      "mimetype": "text/x-python",
      "name": "python",
      "nbconvert_exporter": "python",
      "pygments_lexer": "ipython3",
      "version": "3.9.13"
    },
    "toc-showtags": false,
    "colab": {
      "provenance": [],
      "machine_shape": "hm",
      "gpuType": "A100"
    },
    "accelerator": "GPU",
    "widgets": {
      "application/vnd.jupyter.widget-state+json": {
        "57e42ee682424b0282266fec695db2dc": {
          "model_module": "@jupyter-widgets/controls",
          "model_name": "HBoxModel",
          "model_module_version": "1.5.0",
          "state": {
            "_dom_classes": [],
            "_model_module": "@jupyter-widgets/controls",
            "_model_module_version": "1.5.0",
            "_model_name": "HBoxModel",
            "_view_count": null,
            "_view_module": "@jupyter-widgets/controls",
            "_view_module_version": "1.5.0",
            "_view_name": "HBoxView",
            "box_style": "",
            "children": [
              "IPY_MODEL_0757d26fc3ef4c0b849736c35bf103be",
              "IPY_MODEL_7edc9eb710d64e33a44ce9fed689726a",
              "IPY_MODEL_262cf2b02a074053a7b56349dcdf39da"
            ],
            "layout": "IPY_MODEL_0b1e56e7ff9b42669e595e5a93746e77"
          }
        },
        "0757d26fc3ef4c0b849736c35bf103be": {
          "model_module": "@jupyter-widgets/controls",
          "model_name": "HTMLModel",
          "model_module_version": "1.5.0",
          "state": {
            "_dom_classes": [],
            "_model_module": "@jupyter-widgets/controls",
            "_model_module_version": "1.5.0",
            "_model_name": "HTMLModel",
            "_view_count": null,
            "_view_module": "@jupyter-widgets/controls",
            "_view_module_version": "1.5.0",
            "_view_name": "HTMLView",
            "description": "",
            "description_tooltip": null,
            "layout": "IPY_MODEL_0caf07a0c2a048c9b02e5430e04cb834",
            "placeholder": "​",
            "style": "IPY_MODEL_0e0f76ee446745908629852d9a5effeb",
            "value": "Downloading (…)lve/main/config.json: 100%"
          }
        },
        "7edc9eb710d64e33a44ce9fed689726a": {
          "model_module": "@jupyter-widgets/controls",
          "model_name": "FloatProgressModel",
          "model_module_version": "1.5.0",
          "state": {
            "_dom_classes": [],
            "_model_module": "@jupyter-widgets/controls",
            "_model_module_version": "1.5.0",
            "_model_name": "FloatProgressModel",
            "_view_count": null,
            "_view_module": "@jupyter-widgets/controls",
            "_view_module_version": "1.5.0",
            "_view_name": "ProgressView",
            "bar_style": "success",
            "description": "",
            "description_tooltip": null,
            "layout": "IPY_MODEL_a1dc8e803eca49a895e009f269bf0bf0",
            "max": 1206,
            "min": 0,
            "orientation": "horizontal",
            "style": "IPY_MODEL_ea9a4c3277744d308340408d2e103522",
            "value": 1206
          }
        },
        "262cf2b02a074053a7b56349dcdf39da": {
          "model_module": "@jupyter-widgets/controls",
          "model_name": "HTMLModel",
          "model_module_version": "1.5.0",
          "state": {
            "_dom_classes": [],
            "_model_module": "@jupyter-widgets/controls",
            "_model_module_version": "1.5.0",
            "_model_name": "HTMLModel",
            "_view_count": null,
            "_view_module": "@jupyter-widgets/controls",
            "_view_module_version": "1.5.0",
            "_view_name": "HTMLView",
            "description": "",
            "description_tooltip": null,
            "layout": "IPY_MODEL_dac1d4b146884ec8b3ea3deba381787b",
            "placeholder": "​",
            "style": "IPY_MODEL_d17e5ddb60b34c0c83687826485626b2",
            "value": " 1.21k/1.21k [00:00&lt;00:00, 106kB/s]"
          }
        },
        "0b1e56e7ff9b42669e595e5a93746e77": {
          "model_module": "@jupyter-widgets/base",
          "model_name": "LayoutModel",
          "model_module_version": "1.2.0",
          "state": {
            "_model_module": "@jupyter-widgets/base",
            "_model_module_version": "1.2.0",
            "_model_name": "LayoutModel",
            "_view_count": null,
            "_view_module": "@jupyter-widgets/base",
            "_view_module_version": "1.2.0",
            "_view_name": "LayoutView",
            "align_content": null,
            "align_items": null,
            "align_self": null,
            "border": null,
            "bottom": null,
            "display": null,
            "flex": null,
            "flex_flow": null,
            "grid_area": null,
            "grid_auto_columns": null,
            "grid_auto_flow": null,
            "grid_auto_rows": null,
            "grid_column": null,
            "grid_gap": null,
            "grid_row": null,
            "grid_template_areas": null,
            "grid_template_columns": null,
            "grid_template_rows": null,
            "height": null,
            "justify_content": null,
            "justify_items": null,
            "left": null,
            "margin": null,
            "max_height": null,
            "max_width": null,
            "min_height": null,
            "min_width": null,
            "object_fit": null,
            "object_position": null,
            "order": null,
            "overflow": null,
            "overflow_x": null,
            "overflow_y": null,
            "padding": null,
            "right": null,
            "top": null,
            "visibility": null,
            "width": null
          }
        },
        "0caf07a0c2a048c9b02e5430e04cb834": {
          "model_module": "@jupyter-widgets/base",
          "model_name": "LayoutModel",
          "model_module_version": "1.2.0",
          "state": {
            "_model_module": "@jupyter-widgets/base",
            "_model_module_version": "1.2.0",
            "_model_name": "LayoutModel",
            "_view_count": null,
            "_view_module": "@jupyter-widgets/base",
            "_view_module_version": "1.2.0",
            "_view_name": "LayoutView",
            "align_content": null,
            "align_items": null,
            "align_self": null,
            "border": null,
            "bottom": null,
            "display": null,
            "flex": null,
            "flex_flow": null,
            "grid_area": null,
            "grid_auto_columns": null,
            "grid_auto_flow": null,
            "grid_auto_rows": null,
            "grid_column": null,
            "grid_gap": null,
            "grid_row": null,
            "grid_template_areas": null,
            "grid_template_columns": null,
            "grid_template_rows": null,
            "height": null,
            "justify_content": null,
            "justify_items": null,
            "left": null,
            "margin": null,
            "max_height": null,
            "max_width": null,
            "min_height": null,
            "min_width": null,
            "object_fit": null,
            "object_position": null,
            "order": null,
            "overflow": null,
            "overflow_x": null,
            "overflow_y": null,
            "padding": null,
            "right": null,
            "top": null,
            "visibility": null,
            "width": null
          }
        },
        "0e0f76ee446745908629852d9a5effeb": {
          "model_module": "@jupyter-widgets/controls",
          "model_name": "DescriptionStyleModel",
          "model_module_version": "1.5.0",
          "state": {
            "_model_module": "@jupyter-widgets/controls",
            "_model_module_version": "1.5.0",
            "_model_name": "DescriptionStyleModel",
            "_view_count": null,
            "_view_module": "@jupyter-widgets/base",
            "_view_module_version": "1.2.0",
            "_view_name": "StyleView",
            "description_width": ""
          }
        },
        "a1dc8e803eca49a895e009f269bf0bf0": {
          "model_module": "@jupyter-widgets/base",
          "model_name": "LayoutModel",
          "model_module_version": "1.2.0",
          "state": {
            "_model_module": "@jupyter-widgets/base",
            "_model_module_version": "1.2.0",
            "_model_name": "LayoutModel",
            "_view_count": null,
            "_view_module": "@jupyter-widgets/base",
            "_view_module_version": "1.2.0",
            "_view_name": "LayoutView",
            "align_content": null,
            "align_items": null,
            "align_self": null,
            "border": null,
            "bottom": null,
            "display": null,
            "flex": null,
            "flex_flow": null,
            "grid_area": null,
            "grid_auto_columns": null,
            "grid_auto_flow": null,
            "grid_auto_rows": null,
            "grid_column": null,
            "grid_gap": null,
            "grid_row": null,
            "grid_template_areas": null,
            "grid_template_columns": null,
            "grid_template_rows": null,
            "height": null,
            "justify_content": null,
            "justify_items": null,
            "left": null,
            "margin": null,
            "max_height": null,
            "max_width": null,
            "min_height": null,
            "min_width": null,
            "object_fit": null,
            "object_position": null,
            "order": null,
            "overflow": null,
            "overflow_x": null,
            "overflow_y": null,
            "padding": null,
            "right": null,
            "top": null,
            "visibility": null,
            "width": null
          }
        },
        "ea9a4c3277744d308340408d2e103522": {
          "model_module": "@jupyter-widgets/controls",
          "model_name": "ProgressStyleModel",
          "model_module_version": "1.5.0",
          "state": {
            "_model_module": "@jupyter-widgets/controls",
            "_model_module_version": "1.5.0",
            "_model_name": "ProgressStyleModel",
            "_view_count": null,
            "_view_module": "@jupyter-widgets/base",
            "_view_module_version": "1.2.0",
            "_view_name": "StyleView",
            "bar_color": null,
            "description_width": ""
          }
        },
        "dac1d4b146884ec8b3ea3deba381787b": {
          "model_module": "@jupyter-widgets/base",
          "model_name": "LayoutModel",
          "model_module_version": "1.2.0",
          "state": {
            "_model_module": "@jupyter-widgets/base",
            "_model_module_version": "1.2.0",
            "_model_name": "LayoutModel",
            "_view_count": null,
            "_view_module": "@jupyter-widgets/base",
            "_view_module_version": "1.2.0",
            "_view_name": "LayoutView",
            "align_content": null,
            "align_items": null,
            "align_self": null,
            "border": null,
            "bottom": null,
            "display": null,
            "flex": null,
            "flex_flow": null,
            "grid_area": null,
            "grid_auto_columns": null,
            "grid_auto_flow": null,
            "grid_auto_rows": null,
            "grid_column": null,
            "grid_gap": null,
            "grid_row": null,
            "grid_template_areas": null,
            "grid_template_columns": null,
            "grid_template_rows": null,
            "height": null,
            "justify_content": null,
            "justify_items": null,
            "left": null,
            "margin": null,
            "max_height": null,
            "max_width": null,
            "min_height": null,
            "min_width": null,
            "object_fit": null,
            "object_position": null,
            "order": null,
            "overflow": null,
            "overflow_x": null,
            "overflow_y": null,
            "padding": null,
            "right": null,
            "top": null,
            "visibility": null,
            "width": null
          }
        },
        "d17e5ddb60b34c0c83687826485626b2": {
          "model_module": "@jupyter-widgets/controls",
          "model_name": "DescriptionStyleModel",
          "model_module_version": "1.5.0",
          "state": {
            "_model_module": "@jupyter-widgets/controls",
            "_model_module_version": "1.5.0",
            "_model_name": "DescriptionStyleModel",
            "_view_count": null,
            "_view_module": "@jupyter-widgets/base",
            "_view_module_version": "1.2.0",
            "_view_name": "StyleView",
            "description_width": ""
          }
        },
        "b5f8f7e3e43b42aba80dea4f60a82867": {
          "model_module": "@jupyter-widgets/controls",
          "model_name": "HBoxModel",
          "model_module_version": "1.5.0",
          "state": {
            "_dom_classes": [],
            "_model_module": "@jupyter-widgets/controls",
            "_model_module_version": "1.5.0",
            "_model_name": "HBoxModel",
            "_view_count": null,
            "_view_module": "@jupyter-widgets/controls",
            "_view_module_version": "1.5.0",
            "_view_name": "HBoxView",
            "box_style": "",
            "children": [
              "IPY_MODEL_48f2c4ac3b4943539b6ac25bdd9465d0",
              "IPY_MODEL_b21d726323f6465b89bdde23898422b8",
              "IPY_MODEL_3e3dfbeec1aa4a2b9bfb2e63d94582e6"
            ],
            "layout": "IPY_MODEL_c5e93689f10749a7aac41eb0951d1ca2"
          }
        },
        "48f2c4ac3b4943539b6ac25bdd9465d0": {
          "model_module": "@jupyter-widgets/controls",
          "model_name": "HTMLModel",
          "model_module_version": "1.5.0",
          "state": {
            "_dom_classes": [],
            "_model_module": "@jupyter-widgets/controls",
            "_model_module_version": "1.5.0",
            "_model_name": "HTMLModel",
            "_view_count": null,
            "_view_module": "@jupyter-widgets/controls",
            "_view_module_version": "1.5.0",
            "_view_name": "HTMLView",
            "description": "",
            "description_tooltip": null,
            "layout": "IPY_MODEL_0e6a9a6163dd4500942f14e75e6c2adf",
            "placeholder": "​",
            "style": "IPY_MODEL_56bff0b4b95b4098bd113f12d26d0c6d",
            "value": "Downloading pytorch_model.bin: 100%"
          }
        },
        "b21d726323f6465b89bdde23898422b8": {
          "model_module": "@jupyter-widgets/controls",
          "model_name": "FloatProgressModel",
          "model_module_version": "1.5.0",
          "state": {
            "_dom_classes": [],
            "_model_module": "@jupyter-widgets/controls",
            "_model_module_version": "1.5.0",
            "_model_name": "FloatProgressModel",
            "_view_count": null,
            "_view_module": "@jupyter-widgets/controls",
            "_view_module_version": "1.5.0",
            "_view_name": "ProgressView",
            "bar_style": "success",
            "description": "",
            "description_tooltip": null,
            "layout": "IPY_MODEL_84a5258ac1c846c6a78a8f3a3c6779b7",
            "max": 242065649,
            "min": 0,
            "orientation": "horizontal",
            "style": "IPY_MODEL_3b32edac4eb345009d2d5b172bd79961",
            "value": 242065649
          }
        },
        "3e3dfbeec1aa4a2b9bfb2e63d94582e6": {
          "model_module": "@jupyter-widgets/controls",
          "model_name": "HTMLModel",
          "model_module_version": "1.5.0",
          "state": {
            "_dom_classes": [],
            "_model_module": "@jupyter-widgets/controls",
            "_model_module_version": "1.5.0",
            "_model_name": "HTMLModel",
            "_view_count": null,
            "_view_module": "@jupyter-widgets/controls",
            "_view_module_version": "1.5.0",
            "_view_name": "HTMLView",
            "description": "",
            "description_tooltip": null,
            "layout": "IPY_MODEL_4c488e388de445e48530ead1e5b677e1",
            "placeholder": "​",
            "style": "IPY_MODEL_f17e784d974f459392e4ea59961d2bb6",
            "value": " 242M/242M [00:01&lt;00:00, 256MB/s]"
          }
        },
        "c5e93689f10749a7aac41eb0951d1ca2": {
          "model_module": "@jupyter-widgets/base",
          "model_name": "LayoutModel",
          "model_module_version": "1.2.0",
          "state": {
            "_model_module": "@jupyter-widgets/base",
            "_model_module_version": "1.2.0",
            "_model_name": "LayoutModel",
            "_view_count": null,
            "_view_module": "@jupyter-widgets/base",
            "_view_module_version": "1.2.0",
            "_view_name": "LayoutView",
            "align_content": null,
            "align_items": null,
            "align_self": null,
            "border": null,
            "bottom": null,
            "display": null,
            "flex": null,
            "flex_flow": null,
            "grid_area": null,
            "grid_auto_columns": null,
            "grid_auto_flow": null,
            "grid_auto_rows": null,
            "grid_column": null,
            "grid_gap": null,
            "grid_row": null,
            "grid_template_areas": null,
            "grid_template_columns": null,
            "grid_template_rows": null,
            "height": null,
            "justify_content": null,
            "justify_items": null,
            "left": null,
            "margin": null,
            "max_height": null,
            "max_width": null,
            "min_height": null,
            "min_width": null,
            "object_fit": null,
            "object_position": null,
            "order": null,
            "overflow": null,
            "overflow_x": null,
            "overflow_y": null,
            "padding": null,
            "right": null,
            "top": null,
            "visibility": null,
            "width": null
          }
        },
        "0e6a9a6163dd4500942f14e75e6c2adf": {
          "model_module": "@jupyter-widgets/base",
          "model_name": "LayoutModel",
          "model_module_version": "1.2.0",
          "state": {
            "_model_module": "@jupyter-widgets/base",
            "_model_module_version": "1.2.0",
            "_model_name": "LayoutModel",
            "_view_count": null,
            "_view_module": "@jupyter-widgets/base",
            "_view_module_version": "1.2.0",
            "_view_name": "LayoutView",
            "align_content": null,
            "align_items": null,
            "align_self": null,
            "border": null,
            "bottom": null,
            "display": null,
            "flex": null,
            "flex_flow": null,
            "grid_area": null,
            "grid_auto_columns": null,
            "grid_auto_flow": null,
            "grid_auto_rows": null,
            "grid_column": null,
            "grid_gap": null,
            "grid_row": null,
            "grid_template_areas": null,
            "grid_template_columns": null,
            "grid_template_rows": null,
            "height": null,
            "justify_content": null,
            "justify_items": null,
            "left": null,
            "margin": null,
            "max_height": null,
            "max_width": null,
            "min_height": null,
            "min_width": null,
            "object_fit": null,
            "object_position": null,
            "order": null,
            "overflow": null,
            "overflow_x": null,
            "overflow_y": null,
            "padding": null,
            "right": null,
            "top": null,
            "visibility": null,
            "width": null
          }
        },
        "56bff0b4b95b4098bd113f12d26d0c6d": {
          "model_module": "@jupyter-widgets/controls",
          "model_name": "DescriptionStyleModel",
          "model_module_version": "1.5.0",
          "state": {
            "_model_module": "@jupyter-widgets/controls",
            "_model_module_version": "1.5.0",
            "_model_name": "DescriptionStyleModel",
            "_view_count": null,
            "_view_module": "@jupyter-widgets/base",
            "_view_module_version": "1.2.0",
            "_view_name": "StyleView",
            "description_width": ""
          }
        },
        "84a5258ac1c846c6a78a8f3a3c6779b7": {
          "model_module": "@jupyter-widgets/base",
          "model_name": "LayoutModel",
          "model_module_version": "1.2.0",
          "state": {
            "_model_module": "@jupyter-widgets/base",
            "_model_module_version": "1.2.0",
            "_model_name": "LayoutModel",
            "_view_count": null,
            "_view_module": "@jupyter-widgets/base",
            "_view_module_version": "1.2.0",
            "_view_name": "LayoutView",
            "align_content": null,
            "align_items": null,
            "align_self": null,
            "border": null,
            "bottom": null,
            "display": null,
            "flex": null,
            "flex_flow": null,
            "grid_area": null,
            "grid_auto_columns": null,
            "grid_auto_flow": null,
            "grid_auto_rows": null,
            "grid_column": null,
            "grid_gap": null,
            "grid_row": null,
            "grid_template_areas": null,
            "grid_template_columns": null,
            "grid_template_rows": null,
            "height": null,
            "justify_content": null,
            "justify_items": null,
            "left": null,
            "margin": null,
            "max_height": null,
            "max_width": null,
            "min_height": null,
            "min_width": null,
            "object_fit": null,
            "object_position": null,
            "order": null,
            "overflow": null,
            "overflow_x": null,
            "overflow_y": null,
            "padding": null,
            "right": null,
            "top": null,
            "visibility": null,
            "width": null
          }
        },
        "3b32edac4eb345009d2d5b172bd79961": {
          "model_module": "@jupyter-widgets/controls",
          "model_name": "ProgressStyleModel",
          "model_module_version": "1.5.0",
          "state": {
            "_model_module": "@jupyter-widgets/controls",
            "_model_module_version": "1.5.0",
            "_model_name": "ProgressStyleModel",
            "_view_count": null,
            "_view_module": "@jupyter-widgets/base",
            "_view_module_version": "1.2.0",
            "_view_name": "StyleView",
            "bar_color": null,
            "description_width": ""
          }
        },
        "4c488e388de445e48530ead1e5b677e1": {
          "model_module": "@jupyter-widgets/base",
          "model_name": "LayoutModel",
          "model_module_version": "1.2.0",
          "state": {
            "_model_module": "@jupyter-widgets/base",
            "_model_module_version": "1.2.0",
            "_model_name": "LayoutModel",
            "_view_count": null,
            "_view_module": "@jupyter-widgets/base",
            "_view_module_version": "1.2.0",
            "_view_name": "LayoutView",
            "align_content": null,
            "align_items": null,
            "align_self": null,
            "border": null,
            "bottom": null,
            "display": null,
            "flex": null,
            "flex_flow": null,
            "grid_area": null,
            "grid_auto_columns": null,
            "grid_auto_flow": null,
            "grid_auto_rows": null,
            "grid_column": null,
            "grid_gap": null,
            "grid_row": null,
            "grid_template_areas": null,
            "grid_template_columns": null,
            "grid_template_rows": null,
            "height": null,
            "justify_content": null,
            "justify_items": null,
            "left": null,
            "margin": null,
            "max_height": null,
            "max_width": null,
            "min_height": null,
            "min_width": null,
            "object_fit": null,
            "object_position": null,
            "order": null,
            "overflow": null,
            "overflow_x": null,
            "overflow_y": null,
            "padding": null,
            "right": null,
            "top": null,
            "visibility": null,
            "width": null
          }
        },
        "f17e784d974f459392e4ea59961d2bb6": {
          "model_module": "@jupyter-widgets/controls",
          "model_name": "DescriptionStyleModel",
          "model_module_version": "1.5.0",
          "state": {
            "_model_module": "@jupyter-widgets/controls",
            "_model_module_version": "1.5.0",
            "_model_name": "DescriptionStyleModel",
            "_view_count": null,
            "_view_module": "@jupyter-widgets/base",
            "_view_module_version": "1.2.0",
            "_view_name": "StyleView",
            "description_width": ""
          }
        },
        "e319420189414b70ac090b429be56aba": {
          "model_module": "@jupyter-widgets/controls",
          "model_name": "HBoxModel",
          "model_module_version": "1.5.0",
          "state": {
            "_dom_classes": [],
            "_model_module": "@jupyter-widgets/controls",
            "_model_module_version": "1.5.0",
            "_model_name": "HBoxModel",
            "_view_count": null,
            "_view_module": "@jupyter-widgets/controls",
            "_view_module_version": "1.5.0",
            "_view_name": "HBoxView",
            "box_style": "",
            "children": [
              "IPY_MODEL_bd3340a240aa4b6cbe1d57e6cc94ebbe",
              "IPY_MODEL_5401750a8fdb4cafaeb1ec9938a99eb8",
              "IPY_MODEL_f13a61416f3d466d8892b2063b4f596c"
            ],
            "layout": "IPY_MODEL_19a671dc2d3b45948c87935b55699591"
          }
        },
        "bd3340a240aa4b6cbe1d57e6cc94ebbe": {
          "model_module": "@jupyter-widgets/controls",
          "model_name": "HTMLModel",
          "model_module_version": "1.5.0",
          "state": {
            "_dom_classes": [],
            "_model_module": "@jupyter-widgets/controls",
            "_model_module_version": "1.5.0",
            "_model_name": "HTMLModel",
            "_view_count": null,
            "_view_module": "@jupyter-widgets/controls",
            "_view_module_version": "1.5.0",
            "_view_name": "HTMLView",
            "description": "",
            "description_tooltip": null,
            "layout": "IPY_MODEL_17fa2ce2f356403d963bc3000f803f6e",
            "placeholder": "​",
            "style": "IPY_MODEL_7acc09afb3a84fc287b308d7289578d4",
            "value": "Downloading (…)neration_config.json: 100%"
          }
        },
        "5401750a8fdb4cafaeb1ec9938a99eb8": {
          "model_module": "@jupyter-widgets/controls",
          "model_name": "FloatProgressModel",
          "model_module_version": "1.5.0",
          "state": {
            "_dom_classes": [],
            "_model_module": "@jupyter-widgets/controls",
            "_model_module_version": "1.5.0",
            "_model_name": "FloatProgressModel",
            "_view_count": null,
            "_view_module": "@jupyter-widgets/controls",
            "_view_module_version": "1.5.0",
            "_view_name": "ProgressView",
            "bar_style": "success",
            "description": "",
            "description_tooltip": null,
            "layout": "IPY_MODEL_a8068fd00c5244c1a2dc3902d529fffc",
            "max": 147,
            "min": 0,
            "orientation": "horizontal",
            "style": "IPY_MODEL_9d5a449fc44444cbab1c6cb07dd368ad",
            "value": 147
          }
        },
        "f13a61416f3d466d8892b2063b4f596c": {
          "model_module": "@jupyter-widgets/controls",
          "model_name": "HTMLModel",
          "model_module_version": "1.5.0",
          "state": {
            "_dom_classes": [],
            "_model_module": "@jupyter-widgets/controls",
            "_model_module_version": "1.5.0",
            "_model_name": "HTMLModel",
            "_view_count": null,
            "_view_module": "@jupyter-widgets/controls",
            "_view_module_version": "1.5.0",
            "_view_name": "HTMLView",
            "description": "",
            "description_tooltip": null,
            "layout": "IPY_MODEL_bbc30904182e4562a8b090fb74cfb9c8",
            "placeholder": "​",
            "style": "IPY_MODEL_3fff1e1670d840c4839ba827aed8b6ef",
            "value": " 147/147 [00:00&lt;00:00, 12.2kB/s]"
          }
        },
        "19a671dc2d3b45948c87935b55699591": {
          "model_module": "@jupyter-widgets/base",
          "model_name": "LayoutModel",
          "model_module_version": "1.2.0",
          "state": {
            "_model_module": "@jupyter-widgets/base",
            "_model_module_version": "1.2.0",
            "_model_name": "LayoutModel",
            "_view_count": null,
            "_view_module": "@jupyter-widgets/base",
            "_view_module_version": "1.2.0",
            "_view_name": "LayoutView",
            "align_content": null,
            "align_items": null,
            "align_self": null,
            "border": null,
            "bottom": null,
            "display": null,
            "flex": null,
            "flex_flow": null,
            "grid_area": null,
            "grid_auto_columns": null,
            "grid_auto_flow": null,
            "grid_auto_rows": null,
            "grid_column": null,
            "grid_gap": null,
            "grid_row": null,
            "grid_template_areas": null,
            "grid_template_columns": null,
            "grid_template_rows": null,
            "height": null,
            "justify_content": null,
            "justify_items": null,
            "left": null,
            "margin": null,
            "max_height": null,
            "max_width": null,
            "min_height": null,
            "min_width": null,
            "object_fit": null,
            "object_position": null,
            "order": null,
            "overflow": null,
            "overflow_x": null,
            "overflow_y": null,
            "padding": null,
            "right": null,
            "top": null,
            "visibility": null,
            "width": null
          }
        },
        "17fa2ce2f356403d963bc3000f803f6e": {
          "model_module": "@jupyter-widgets/base",
          "model_name": "LayoutModel",
          "model_module_version": "1.2.0",
          "state": {
            "_model_module": "@jupyter-widgets/base",
            "_model_module_version": "1.2.0",
            "_model_name": "LayoutModel",
            "_view_count": null,
            "_view_module": "@jupyter-widgets/base",
            "_view_module_version": "1.2.0",
            "_view_name": "LayoutView",
            "align_content": null,
            "align_items": null,
            "align_self": null,
            "border": null,
            "bottom": null,
            "display": null,
            "flex": null,
            "flex_flow": null,
            "grid_area": null,
            "grid_auto_columns": null,
            "grid_auto_flow": null,
            "grid_auto_rows": null,
            "grid_column": null,
            "grid_gap": null,
            "grid_row": null,
            "grid_template_areas": null,
            "grid_template_columns": null,
            "grid_template_rows": null,
            "height": null,
            "justify_content": null,
            "justify_items": null,
            "left": null,
            "margin": null,
            "max_height": null,
            "max_width": null,
            "min_height": null,
            "min_width": null,
            "object_fit": null,
            "object_position": null,
            "order": null,
            "overflow": null,
            "overflow_x": null,
            "overflow_y": null,
            "padding": null,
            "right": null,
            "top": null,
            "visibility": null,
            "width": null
          }
        },
        "7acc09afb3a84fc287b308d7289578d4": {
          "model_module": "@jupyter-widgets/controls",
          "model_name": "DescriptionStyleModel",
          "model_module_version": "1.5.0",
          "state": {
            "_model_module": "@jupyter-widgets/controls",
            "_model_module_version": "1.5.0",
            "_model_name": "DescriptionStyleModel",
            "_view_count": null,
            "_view_module": "@jupyter-widgets/base",
            "_view_module_version": "1.2.0",
            "_view_name": "StyleView",
            "description_width": ""
          }
        },
        "a8068fd00c5244c1a2dc3902d529fffc": {
          "model_module": "@jupyter-widgets/base",
          "model_name": "LayoutModel",
          "model_module_version": "1.2.0",
          "state": {
            "_model_module": "@jupyter-widgets/base",
            "_model_module_version": "1.2.0",
            "_model_name": "LayoutModel",
            "_view_count": null,
            "_view_module": "@jupyter-widgets/base",
            "_view_module_version": "1.2.0",
            "_view_name": "LayoutView",
            "align_content": null,
            "align_items": null,
            "align_self": null,
            "border": null,
            "bottom": null,
            "display": null,
            "flex": null,
            "flex_flow": null,
            "grid_area": null,
            "grid_auto_columns": null,
            "grid_auto_flow": null,
            "grid_auto_rows": null,
            "grid_column": null,
            "grid_gap": null,
            "grid_row": null,
            "grid_template_areas": null,
            "grid_template_columns": null,
            "grid_template_rows": null,
            "height": null,
            "justify_content": null,
            "justify_items": null,
            "left": null,
            "margin": null,
            "max_height": null,
            "max_width": null,
            "min_height": null,
            "min_width": null,
            "object_fit": null,
            "object_position": null,
            "order": null,
            "overflow": null,
            "overflow_x": null,
            "overflow_y": null,
            "padding": null,
            "right": null,
            "top": null,
            "visibility": null,
            "width": null
          }
        },
        "9d5a449fc44444cbab1c6cb07dd368ad": {
          "model_module": "@jupyter-widgets/controls",
          "model_name": "ProgressStyleModel",
          "model_module_version": "1.5.0",
          "state": {
            "_model_module": "@jupyter-widgets/controls",
            "_model_module_version": "1.5.0",
            "_model_name": "ProgressStyleModel",
            "_view_count": null,
            "_view_module": "@jupyter-widgets/base",
            "_view_module_version": "1.2.0",
            "_view_name": "StyleView",
            "bar_color": null,
            "description_width": ""
          }
        },
        "bbc30904182e4562a8b090fb74cfb9c8": {
          "model_module": "@jupyter-widgets/base",
          "model_name": "LayoutModel",
          "model_module_version": "1.2.0",
          "state": {
            "_model_module": "@jupyter-widgets/base",
            "_model_module_version": "1.2.0",
            "_model_name": "LayoutModel",
            "_view_count": null,
            "_view_module": "@jupyter-widgets/base",
            "_view_module_version": "1.2.0",
            "_view_name": "LayoutView",
            "align_content": null,
            "align_items": null,
            "align_self": null,
            "border": null,
            "bottom": null,
            "display": null,
            "flex": null,
            "flex_flow": null,
            "grid_area": null,
            "grid_auto_columns": null,
            "grid_auto_flow": null,
            "grid_auto_rows": null,
            "grid_column": null,
            "grid_gap": null,
            "grid_row": null,
            "grid_template_areas": null,
            "grid_template_columns": null,
            "grid_template_rows": null,
            "height": null,
            "justify_content": null,
            "justify_items": null,
            "left": null,
            "margin": null,
            "max_height": null,
            "max_width": null,
            "min_height": null,
            "min_width": null,
            "object_fit": null,
            "object_position": null,
            "order": null,
            "overflow": null,
            "overflow_x": null,
            "overflow_y": null,
            "padding": null,
            "right": null,
            "top": null,
            "visibility": null,
            "width": null
          }
        },
        "3fff1e1670d840c4839ba827aed8b6ef": {
          "model_module": "@jupyter-widgets/controls",
          "model_name": "DescriptionStyleModel",
          "model_module_version": "1.5.0",
          "state": {
            "_model_module": "@jupyter-widgets/controls",
            "_model_module_version": "1.5.0",
            "_model_name": "DescriptionStyleModel",
            "_view_count": null,
            "_view_module": "@jupyter-widgets/base",
            "_view_module_version": "1.2.0",
            "_view_name": "StyleView",
            "description_width": ""
          }
        },
        "59adcd9abce041e18b22d07448a22e57": {
          "model_module": "@jupyter-widgets/controls",
          "model_name": "HBoxModel",
          "model_module_version": "1.5.0",
          "state": {
            "_dom_classes": [],
            "_model_module": "@jupyter-widgets/controls",
            "_model_module_version": "1.5.0",
            "_model_name": "HBoxModel",
            "_view_count": null,
            "_view_module": "@jupyter-widgets/controls",
            "_view_module_version": "1.5.0",
            "_view_name": "HBoxView",
            "box_style": "",
            "children": [
              "IPY_MODEL_71ed3d73d04b43a2ae2c452c5b77a65d",
              "IPY_MODEL_1b1da9bc7b2443e9ac48c53de7848f28",
              "IPY_MODEL_443fe1d8350c4daab3957c697e87299c"
            ],
            "layout": "IPY_MODEL_36df2ba89cd342aaa210b397e4b4ebd1"
          }
        },
        "71ed3d73d04b43a2ae2c452c5b77a65d": {
          "model_module": "@jupyter-widgets/controls",
          "model_name": "HTMLModel",
          "model_module_version": "1.5.0",
          "state": {
            "_dom_classes": [],
            "_model_module": "@jupyter-widgets/controls",
            "_model_module_version": "1.5.0",
            "_model_name": "HTMLModel",
            "_view_count": null,
            "_view_module": "@jupyter-widgets/controls",
            "_view_module_version": "1.5.0",
            "_view_name": "HTMLView",
            "description": "",
            "description_tooltip": null,
            "layout": "IPY_MODEL_8984d451df244a158e7f45a6ccd24239",
            "placeholder": "​",
            "style": "IPY_MODEL_d22401cc18c0461099666ece173ed41c",
            "value": "Downloading (…)okenizer_config.json: 100%"
          }
        },
        "1b1da9bc7b2443e9ac48c53de7848f28": {
          "model_module": "@jupyter-widgets/controls",
          "model_name": "FloatProgressModel",
          "model_module_version": "1.5.0",
          "state": {
            "_dom_classes": [],
            "_model_module": "@jupyter-widgets/controls",
            "_model_module_version": "1.5.0",
            "_model_name": "FloatProgressModel",
            "_view_count": null,
            "_view_module": "@jupyter-widgets/controls",
            "_view_module_version": "1.5.0",
            "_view_name": "ProgressView",
            "bar_style": "success",
            "description": "",
            "description_tooltip": null,
            "layout": "IPY_MODEL_44e52abc143e40dea041b8b86fb54c55",
            "max": 2324,
            "min": 0,
            "orientation": "horizontal",
            "style": "IPY_MODEL_f18a7d6dc33541d4b7eb4281daa35ee3",
            "value": 2324
          }
        },
        "443fe1d8350c4daab3957c697e87299c": {
          "model_module": "@jupyter-widgets/controls",
          "model_name": "HTMLModel",
          "model_module_version": "1.5.0",
          "state": {
            "_dom_classes": [],
            "_model_module": "@jupyter-widgets/controls",
            "_model_module_version": "1.5.0",
            "_model_name": "HTMLModel",
            "_view_count": null,
            "_view_module": "@jupyter-widgets/controls",
            "_view_module_version": "1.5.0",
            "_view_name": "HTMLView",
            "description": "",
            "description_tooltip": null,
            "layout": "IPY_MODEL_736eac36d81d449098c2536e68d44dd9",
            "placeholder": "​",
            "style": "IPY_MODEL_0acedb9d249346528176491982a32661",
            "value": " 2.32k/2.32k [00:00&lt;00:00, 197kB/s]"
          }
        },
        "36df2ba89cd342aaa210b397e4b4ebd1": {
          "model_module": "@jupyter-widgets/base",
          "model_name": "LayoutModel",
          "model_module_version": "1.2.0",
          "state": {
            "_model_module": "@jupyter-widgets/base",
            "_model_module_version": "1.2.0",
            "_model_name": "LayoutModel",
            "_view_count": null,
            "_view_module": "@jupyter-widgets/base",
            "_view_module_version": "1.2.0",
            "_view_name": "LayoutView",
            "align_content": null,
            "align_items": null,
            "align_self": null,
            "border": null,
            "bottom": null,
            "display": null,
            "flex": null,
            "flex_flow": null,
            "grid_area": null,
            "grid_auto_columns": null,
            "grid_auto_flow": null,
            "grid_auto_rows": null,
            "grid_column": null,
            "grid_gap": null,
            "grid_row": null,
            "grid_template_areas": null,
            "grid_template_columns": null,
            "grid_template_rows": null,
            "height": null,
            "justify_content": null,
            "justify_items": null,
            "left": null,
            "margin": null,
            "max_height": null,
            "max_width": null,
            "min_height": null,
            "min_width": null,
            "object_fit": null,
            "object_position": null,
            "order": null,
            "overflow": null,
            "overflow_x": null,
            "overflow_y": null,
            "padding": null,
            "right": null,
            "top": null,
            "visibility": null,
            "width": null
          }
        },
        "8984d451df244a158e7f45a6ccd24239": {
          "model_module": "@jupyter-widgets/base",
          "model_name": "LayoutModel",
          "model_module_version": "1.2.0",
          "state": {
            "_model_module": "@jupyter-widgets/base",
            "_model_module_version": "1.2.0",
            "_model_name": "LayoutModel",
            "_view_count": null,
            "_view_module": "@jupyter-widgets/base",
            "_view_module_version": "1.2.0",
            "_view_name": "LayoutView",
            "align_content": null,
            "align_items": null,
            "align_self": null,
            "border": null,
            "bottom": null,
            "display": null,
            "flex": null,
            "flex_flow": null,
            "grid_area": null,
            "grid_auto_columns": null,
            "grid_auto_flow": null,
            "grid_auto_rows": null,
            "grid_column": null,
            "grid_gap": null,
            "grid_row": null,
            "grid_template_areas": null,
            "grid_template_columns": null,
            "grid_template_rows": null,
            "height": null,
            "justify_content": null,
            "justify_items": null,
            "left": null,
            "margin": null,
            "max_height": null,
            "max_width": null,
            "min_height": null,
            "min_width": null,
            "object_fit": null,
            "object_position": null,
            "order": null,
            "overflow": null,
            "overflow_x": null,
            "overflow_y": null,
            "padding": null,
            "right": null,
            "top": null,
            "visibility": null,
            "width": null
          }
        },
        "d22401cc18c0461099666ece173ed41c": {
          "model_module": "@jupyter-widgets/controls",
          "model_name": "DescriptionStyleModel",
          "model_module_version": "1.5.0",
          "state": {
            "_model_module": "@jupyter-widgets/controls",
            "_model_module_version": "1.5.0",
            "_model_name": "DescriptionStyleModel",
            "_view_count": null,
            "_view_module": "@jupyter-widgets/base",
            "_view_module_version": "1.2.0",
            "_view_name": "StyleView",
            "description_width": ""
          }
        },
        "44e52abc143e40dea041b8b86fb54c55": {
          "model_module": "@jupyter-widgets/base",
          "model_name": "LayoutModel",
          "model_module_version": "1.2.0",
          "state": {
            "_model_module": "@jupyter-widgets/base",
            "_model_module_version": "1.2.0",
            "_model_name": "LayoutModel",
            "_view_count": null,
            "_view_module": "@jupyter-widgets/base",
            "_view_module_version": "1.2.0",
            "_view_name": "LayoutView",
            "align_content": null,
            "align_items": null,
            "align_self": null,
            "border": null,
            "bottom": null,
            "display": null,
            "flex": null,
            "flex_flow": null,
            "grid_area": null,
            "grid_auto_columns": null,
            "grid_auto_flow": null,
            "grid_auto_rows": null,
            "grid_column": null,
            "grid_gap": null,
            "grid_row": null,
            "grid_template_areas": null,
            "grid_template_columns": null,
            "grid_template_rows": null,
            "height": null,
            "justify_content": null,
            "justify_items": null,
            "left": null,
            "margin": null,
            "max_height": null,
            "max_width": null,
            "min_height": null,
            "min_width": null,
            "object_fit": null,
            "object_position": null,
            "order": null,
            "overflow": null,
            "overflow_x": null,
            "overflow_y": null,
            "padding": null,
            "right": null,
            "top": null,
            "visibility": null,
            "width": null
          }
        },
        "f18a7d6dc33541d4b7eb4281daa35ee3": {
          "model_module": "@jupyter-widgets/controls",
          "model_name": "ProgressStyleModel",
          "model_module_version": "1.5.0",
          "state": {
            "_model_module": "@jupyter-widgets/controls",
            "_model_module_version": "1.5.0",
            "_model_name": "ProgressStyleModel",
            "_view_count": null,
            "_view_module": "@jupyter-widgets/base",
            "_view_module_version": "1.2.0",
            "_view_name": "StyleView",
            "bar_color": null,
            "description_width": ""
          }
        },
        "736eac36d81d449098c2536e68d44dd9": {
          "model_module": "@jupyter-widgets/base",
          "model_name": "LayoutModel",
          "model_module_version": "1.2.0",
          "state": {
            "_model_module": "@jupyter-widgets/base",
            "_model_module_version": "1.2.0",
            "_model_name": "LayoutModel",
            "_view_count": null,
            "_view_module": "@jupyter-widgets/base",
            "_view_module_version": "1.2.0",
            "_view_name": "LayoutView",
            "align_content": null,
            "align_items": null,
            "align_self": null,
            "border": null,
            "bottom": null,
            "display": null,
            "flex": null,
            "flex_flow": null,
            "grid_area": null,
            "grid_auto_columns": null,
            "grid_auto_flow": null,
            "grid_auto_rows": null,
            "grid_column": null,
            "grid_gap": null,
            "grid_row": null,
            "grid_template_areas": null,
            "grid_template_columns": null,
            "grid_template_rows": null,
            "height": null,
            "justify_content": null,
            "justify_items": null,
            "left": null,
            "margin": null,
            "max_height": null,
            "max_width": null,
            "min_height": null,
            "min_width": null,
            "object_fit": null,
            "object_position": null,
            "order": null,
            "overflow": null,
            "overflow_x": null,
            "overflow_y": null,
            "padding": null,
            "right": null,
            "top": null,
            "visibility": null,
            "width": null
          }
        },
        "0acedb9d249346528176491982a32661": {
          "model_module": "@jupyter-widgets/controls",
          "model_name": "DescriptionStyleModel",
          "model_module_version": "1.5.0",
          "state": {
            "_model_module": "@jupyter-widgets/controls",
            "_model_module_version": "1.5.0",
            "_model_name": "DescriptionStyleModel",
            "_view_count": null,
            "_view_module": "@jupyter-widgets/base",
            "_view_module_version": "1.2.0",
            "_view_name": "StyleView",
            "description_width": ""
          }
        },
        "eb8abd0a3785499a93f2af338c2f8c06": {
          "model_module": "@jupyter-widgets/controls",
          "model_name": "HBoxModel",
          "model_module_version": "1.5.0",
          "state": {
            "_dom_classes": [],
            "_model_module": "@jupyter-widgets/controls",
            "_model_module_version": "1.5.0",
            "_model_name": "HBoxModel",
            "_view_count": null,
            "_view_module": "@jupyter-widgets/controls",
            "_view_module_version": "1.5.0",
            "_view_name": "HBoxView",
            "box_style": "",
            "children": [
              "IPY_MODEL_926cf7eb1f9f42b781eab178c3f18fe2",
              "IPY_MODEL_e3d72ef8c47f46cf877114e3d4160b54",
              "IPY_MODEL_b1454db22f344b70a3bb8ffd04d403af"
            ],
            "layout": "IPY_MODEL_3dc34e29e956452fbb0c30e37b3ad209"
          }
        },
        "926cf7eb1f9f42b781eab178c3f18fe2": {
          "model_module": "@jupyter-widgets/controls",
          "model_name": "HTMLModel",
          "model_module_version": "1.5.0",
          "state": {
            "_dom_classes": [],
            "_model_module": "@jupyter-widgets/controls",
            "_model_module_version": "1.5.0",
            "_model_name": "HTMLModel",
            "_view_count": null,
            "_view_module": "@jupyter-widgets/controls",
            "_view_module_version": "1.5.0",
            "_view_name": "HTMLView",
            "description": "",
            "description_tooltip": null,
            "layout": "IPY_MODEL_9264d77aeab646f5ba9981d5824e6715",
            "placeholder": "​",
            "style": "IPY_MODEL_6e1bc961ddec4aa89a4e6b52cac2cd54",
            "value": "Downloading (…)ve/main/spiece.model: 100%"
          }
        },
        "e3d72ef8c47f46cf877114e3d4160b54": {
          "model_module": "@jupyter-widgets/controls",
          "model_name": "FloatProgressModel",
          "model_module_version": "1.5.0",
          "state": {
            "_dom_classes": [],
            "_model_module": "@jupyter-widgets/controls",
            "_model_module_version": "1.5.0",
            "_model_name": "FloatProgressModel",
            "_view_count": null,
            "_view_module": "@jupyter-widgets/controls",
            "_view_module_version": "1.5.0",
            "_view_name": "ProgressView",
            "bar_style": "success",
            "description": "",
            "description_tooltip": null,
            "layout": "IPY_MODEL_1078687ca942414f871a3300a9f0acec",
            "max": 791656,
            "min": 0,
            "orientation": "horizontal",
            "style": "IPY_MODEL_29c06e64c498454592b3fea35f571cec",
            "value": 791656
          }
        },
        "b1454db22f344b70a3bb8ffd04d403af": {
          "model_module": "@jupyter-widgets/controls",
          "model_name": "HTMLModel",
          "model_module_version": "1.5.0",
          "state": {
            "_dom_classes": [],
            "_model_module": "@jupyter-widgets/controls",
            "_model_module_version": "1.5.0",
            "_model_name": "HTMLModel",
            "_view_count": null,
            "_view_module": "@jupyter-widgets/controls",
            "_view_module_version": "1.5.0",
            "_view_name": "HTMLView",
            "description": "",
            "description_tooltip": null,
            "layout": "IPY_MODEL_6a28df60cb5148d59ac68adf9527127c",
            "placeholder": "​",
            "style": "IPY_MODEL_6f462fc47a6246c6ba91ff5165154dcd",
            "value": " 792k/792k [00:00&lt;00:00, 3.06MB/s]"
          }
        },
        "3dc34e29e956452fbb0c30e37b3ad209": {
          "model_module": "@jupyter-widgets/base",
          "model_name": "LayoutModel",
          "model_module_version": "1.2.0",
          "state": {
            "_model_module": "@jupyter-widgets/base",
            "_model_module_version": "1.2.0",
            "_model_name": "LayoutModel",
            "_view_count": null,
            "_view_module": "@jupyter-widgets/base",
            "_view_module_version": "1.2.0",
            "_view_name": "LayoutView",
            "align_content": null,
            "align_items": null,
            "align_self": null,
            "border": null,
            "bottom": null,
            "display": null,
            "flex": null,
            "flex_flow": null,
            "grid_area": null,
            "grid_auto_columns": null,
            "grid_auto_flow": null,
            "grid_auto_rows": null,
            "grid_column": null,
            "grid_gap": null,
            "grid_row": null,
            "grid_template_areas": null,
            "grid_template_columns": null,
            "grid_template_rows": null,
            "height": null,
            "justify_content": null,
            "justify_items": null,
            "left": null,
            "margin": null,
            "max_height": null,
            "max_width": null,
            "min_height": null,
            "min_width": null,
            "object_fit": null,
            "object_position": null,
            "order": null,
            "overflow": null,
            "overflow_x": null,
            "overflow_y": null,
            "padding": null,
            "right": null,
            "top": null,
            "visibility": null,
            "width": null
          }
        },
        "9264d77aeab646f5ba9981d5824e6715": {
          "model_module": "@jupyter-widgets/base",
          "model_name": "LayoutModel",
          "model_module_version": "1.2.0",
          "state": {
            "_model_module": "@jupyter-widgets/base",
            "_model_module_version": "1.2.0",
            "_model_name": "LayoutModel",
            "_view_count": null,
            "_view_module": "@jupyter-widgets/base",
            "_view_module_version": "1.2.0",
            "_view_name": "LayoutView",
            "align_content": null,
            "align_items": null,
            "align_self": null,
            "border": null,
            "bottom": null,
            "display": null,
            "flex": null,
            "flex_flow": null,
            "grid_area": null,
            "grid_auto_columns": null,
            "grid_auto_flow": null,
            "grid_auto_rows": null,
            "grid_column": null,
            "grid_gap": null,
            "grid_row": null,
            "grid_template_areas": null,
            "grid_template_columns": null,
            "grid_template_rows": null,
            "height": null,
            "justify_content": null,
            "justify_items": null,
            "left": null,
            "margin": null,
            "max_height": null,
            "max_width": null,
            "min_height": null,
            "min_width": null,
            "object_fit": null,
            "object_position": null,
            "order": null,
            "overflow": null,
            "overflow_x": null,
            "overflow_y": null,
            "padding": null,
            "right": null,
            "top": null,
            "visibility": null,
            "width": null
          }
        },
        "6e1bc961ddec4aa89a4e6b52cac2cd54": {
          "model_module": "@jupyter-widgets/controls",
          "model_name": "DescriptionStyleModel",
          "model_module_version": "1.5.0",
          "state": {
            "_model_module": "@jupyter-widgets/controls",
            "_model_module_version": "1.5.0",
            "_model_name": "DescriptionStyleModel",
            "_view_count": null,
            "_view_module": "@jupyter-widgets/base",
            "_view_module_version": "1.2.0",
            "_view_name": "StyleView",
            "description_width": ""
          }
        },
        "1078687ca942414f871a3300a9f0acec": {
          "model_module": "@jupyter-widgets/base",
          "model_name": "LayoutModel",
          "model_module_version": "1.2.0",
          "state": {
            "_model_module": "@jupyter-widgets/base",
            "_model_module_version": "1.2.0",
            "_model_name": "LayoutModel",
            "_view_count": null,
            "_view_module": "@jupyter-widgets/base",
            "_view_module_version": "1.2.0",
            "_view_name": "LayoutView",
            "align_content": null,
            "align_items": null,
            "align_self": null,
            "border": null,
            "bottom": null,
            "display": null,
            "flex": null,
            "flex_flow": null,
            "grid_area": null,
            "grid_auto_columns": null,
            "grid_auto_flow": null,
            "grid_auto_rows": null,
            "grid_column": null,
            "grid_gap": null,
            "grid_row": null,
            "grid_template_areas": null,
            "grid_template_columns": null,
            "grid_template_rows": null,
            "height": null,
            "justify_content": null,
            "justify_items": null,
            "left": null,
            "margin": null,
            "max_height": null,
            "max_width": null,
            "min_height": null,
            "min_width": null,
            "object_fit": null,
            "object_position": null,
            "order": null,
            "overflow": null,
            "overflow_x": null,
            "overflow_y": null,
            "padding": null,
            "right": null,
            "top": null,
            "visibility": null,
            "width": null
          }
        },
        "29c06e64c498454592b3fea35f571cec": {
          "model_module": "@jupyter-widgets/controls",
          "model_name": "ProgressStyleModel",
          "model_module_version": "1.5.0",
          "state": {
            "_model_module": "@jupyter-widgets/controls",
            "_model_module_version": "1.5.0",
            "_model_name": "ProgressStyleModel",
            "_view_count": null,
            "_view_module": "@jupyter-widgets/base",
            "_view_module_version": "1.2.0",
            "_view_name": "StyleView",
            "bar_color": null,
            "description_width": ""
          }
        },
        "6a28df60cb5148d59ac68adf9527127c": {
          "model_module": "@jupyter-widgets/base",
          "model_name": "LayoutModel",
          "model_module_version": "1.2.0",
          "state": {
            "_model_module": "@jupyter-widgets/base",
            "_model_module_version": "1.2.0",
            "_model_name": "LayoutModel",
            "_view_count": null,
            "_view_module": "@jupyter-widgets/base",
            "_view_module_version": "1.2.0",
            "_view_name": "LayoutView",
            "align_content": null,
            "align_items": null,
            "align_self": null,
            "border": null,
            "bottom": null,
            "display": null,
            "flex": null,
            "flex_flow": null,
            "grid_area": null,
            "grid_auto_columns": null,
            "grid_auto_flow": null,
            "grid_auto_rows": null,
            "grid_column": null,
            "grid_gap": null,
            "grid_row": null,
            "grid_template_areas": null,
            "grid_template_columns": null,
            "grid_template_rows": null,
            "height": null,
            "justify_content": null,
            "justify_items": null,
            "left": null,
            "margin": null,
            "max_height": null,
            "max_width": null,
            "min_height": null,
            "min_width": null,
            "object_fit": null,
            "object_position": null,
            "order": null,
            "overflow": null,
            "overflow_x": null,
            "overflow_y": null,
            "padding": null,
            "right": null,
            "top": null,
            "visibility": null,
            "width": null
          }
        },
        "6f462fc47a6246c6ba91ff5165154dcd": {
          "model_module": "@jupyter-widgets/controls",
          "model_name": "DescriptionStyleModel",
          "model_module_version": "1.5.0",
          "state": {
            "_model_module": "@jupyter-widgets/controls",
            "_model_module_version": "1.5.0",
            "_model_name": "DescriptionStyleModel",
            "_view_count": null,
            "_view_module": "@jupyter-widgets/base",
            "_view_module_version": "1.2.0",
            "_view_name": "StyleView",
            "description_width": ""
          }
        },
        "00c6b6fde2e047d38f0d2999bb026647": {
          "model_module": "@jupyter-widgets/controls",
          "model_name": "HBoxModel",
          "model_module_version": "1.5.0",
          "state": {
            "_dom_classes": [],
            "_model_module": "@jupyter-widgets/controls",
            "_model_module_version": "1.5.0",
            "_model_name": "HBoxModel",
            "_view_count": null,
            "_view_module": "@jupyter-widgets/controls",
            "_view_module_version": "1.5.0",
            "_view_name": "HBoxView",
            "box_style": "",
            "children": [
              "IPY_MODEL_fdf82ad2f3b24045af85f64a0fd94190",
              "IPY_MODEL_7792028e341a471683ab7b0588496965",
              "IPY_MODEL_6a48c075f56f4a2f8877bc6eea83d33a"
            ],
            "layout": "IPY_MODEL_9c995eea743a4409a49c033f549b2d91"
          }
        },
        "fdf82ad2f3b24045af85f64a0fd94190": {
          "model_module": "@jupyter-widgets/controls",
          "model_name": "HTMLModel",
          "model_module_version": "1.5.0",
          "state": {
            "_dom_classes": [],
            "_model_module": "@jupyter-widgets/controls",
            "_model_module_version": "1.5.0",
            "_model_name": "HTMLModel",
            "_view_count": null,
            "_view_module": "@jupyter-widgets/controls",
            "_view_module_version": "1.5.0",
            "_view_name": "HTMLView",
            "description": "",
            "description_tooltip": null,
            "layout": "IPY_MODEL_f893449619f84903af91e5f1e24d1d2e",
            "placeholder": "​",
            "style": "IPY_MODEL_1e7225b11ca74cd2b6b1f7c59232946b",
            "value": "Downloading (…)/main/tokenizer.json: 100%"
          }
        },
        "7792028e341a471683ab7b0588496965": {
          "model_module": "@jupyter-widgets/controls",
          "model_name": "FloatProgressModel",
          "model_module_version": "1.5.0",
          "state": {
            "_dom_classes": [],
            "_model_module": "@jupyter-widgets/controls",
            "_model_module_version": "1.5.0",
            "_model_name": "FloatProgressModel",
            "_view_count": null,
            "_view_module": "@jupyter-widgets/controls",
            "_view_module_version": "1.5.0",
            "_view_name": "ProgressView",
            "bar_style": "success",
            "description": "",
            "description_tooltip": null,
            "layout": "IPY_MODEL_95aa0074406642b49b5b80ab3e2fdfb3",
            "max": 1389353,
            "min": 0,
            "orientation": "horizontal",
            "style": "IPY_MODEL_ea7fa47a30344c57996f01650b92b9f1",
            "value": 1389353
          }
        },
        "6a48c075f56f4a2f8877bc6eea83d33a": {
          "model_module": "@jupyter-widgets/controls",
          "model_name": "HTMLModel",
          "model_module_version": "1.5.0",
          "state": {
            "_dom_classes": [],
            "_model_module": "@jupyter-widgets/controls",
            "_model_module_version": "1.5.0",
            "_model_name": "HTMLModel",
            "_view_count": null,
            "_view_module": "@jupyter-widgets/controls",
            "_view_module_version": "1.5.0",
            "_view_name": "HTMLView",
            "description": "",
            "description_tooltip": null,
            "layout": "IPY_MODEL_1aeada8024484f3695ecc4718896ae1d",
            "placeholder": "​",
            "style": "IPY_MODEL_6b6fc78615cb41b1b38455f8bbc177d0",
            "value": " 1.39M/1.39M [00:00&lt;00:00, 4.27MB/s]"
          }
        },
        "9c995eea743a4409a49c033f549b2d91": {
          "model_module": "@jupyter-widgets/base",
          "model_name": "LayoutModel",
          "model_module_version": "1.2.0",
          "state": {
            "_model_module": "@jupyter-widgets/base",
            "_model_module_version": "1.2.0",
            "_model_name": "LayoutModel",
            "_view_count": null,
            "_view_module": "@jupyter-widgets/base",
            "_view_module_version": "1.2.0",
            "_view_name": "LayoutView",
            "align_content": null,
            "align_items": null,
            "align_self": null,
            "border": null,
            "bottom": null,
            "display": null,
            "flex": null,
            "flex_flow": null,
            "grid_area": null,
            "grid_auto_columns": null,
            "grid_auto_flow": null,
            "grid_auto_rows": null,
            "grid_column": null,
            "grid_gap": null,
            "grid_row": null,
            "grid_template_areas": null,
            "grid_template_columns": null,
            "grid_template_rows": null,
            "height": null,
            "justify_content": null,
            "justify_items": null,
            "left": null,
            "margin": null,
            "max_height": null,
            "max_width": null,
            "min_height": null,
            "min_width": null,
            "object_fit": null,
            "object_position": null,
            "order": null,
            "overflow": null,
            "overflow_x": null,
            "overflow_y": null,
            "padding": null,
            "right": null,
            "top": null,
            "visibility": null,
            "width": null
          }
        },
        "f893449619f84903af91e5f1e24d1d2e": {
          "model_module": "@jupyter-widgets/base",
          "model_name": "LayoutModel",
          "model_module_version": "1.2.0",
          "state": {
            "_model_module": "@jupyter-widgets/base",
            "_model_module_version": "1.2.0",
            "_model_name": "LayoutModel",
            "_view_count": null,
            "_view_module": "@jupyter-widgets/base",
            "_view_module_version": "1.2.0",
            "_view_name": "LayoutView",
            "align_content": null,
            "align_items": null,
            "align_self": null,
            "border": null,
            "bottom": null,
            "display": null,
            "flex": null,
            "flex_flow": null,
            "grid_area": null,
            "grid_auto_columns": null,
            "grid_auto_flow": null,
            "grid_auto_rows": null,
            "grid_column": null,
            "grid_gap": null,
            "grid_row": null,
            "grid_template_areas": null,
            "grid_template_columns": null,
            "grid_template_rows": null,
            "height": null,
            "justify_content": null,
            "justify_items": null,
            "left": null,
            "margin": null,
            "max_height": null,
            "max_width": null,
            "min_height": null,
            "min_width": null,
            "object_fit": null,
            "object_position": null,
            "order": null,
            "overflow": null,
            "overflow_x": null,
            "overflow_y": null,
            "padding": null,
            "right": null,
            "top": null,
            "visibility": null,
            "width": null
          }
        },
        "1e7225b11ca74cd2b6b1f7c59232946b": {
          "model_module": "@jupyter-widgets/controls",
          "model_name": "DescriptionStyleModel",
          "model_module_version": "1.5.0",
          "state": {
            "_model_module": "@jupyter-widgets/controls",
            "_model_module_version": "1.5.0",
            "_model_name": "DescriptionStyleModel",
            "_view_count": null,
            "_view_module": "@jupyter-widgets/base",
            "_view_module_version": "1.2.0",
            "_view_name": "StyleView",
            "description_width": ""
          }
        },
        "95aa0074406642b49b5b80ab3e2fdfb3": {
          "model_module": "@jupyter-widgets/base",
          "model_name": "LayoutModel",
          "model_module_version": "1.2.0",
          "state": {
            "_model_module": "@jupyter-widgets/base",
            "_model_module_version": "1.2.0",
            "_model_name": "LayoutModel",
            "_view_count": null,
            "_view_module": "@jupyter-widgets/base",
            "_view_module_version": "1.2.0",
            "_view_name": "LayoutView",
            "align_content": null,
            "align_items": null,
            "align_self": null,
            "border": null,
            "bottom": null,
            "display": null,
            "flex": null,
            "flex_flow": null,
            "grid_area": null,
            "grid_auto_columns": null,
            "grid_auto_flow": null,
            "grid_auto_rows": null,
            "grid_column": null,
            "grid_gap": null,
            "grid_row": null,
            "grid_template_areas": null,
            "grid_template_columns": null,
            "grid_template_rows": null,
            "height": null,
            "justify_content": null,
            "justify_items": null,
            "left": null,
            "margin": null,
            "max_height": null,
            "max_width": null,
            "min_height": null,
            "min_width": null,
            "object_fit": null,
            "object_position": null,
            "order": null,
            "overflow": null,
            "overflow_x": null,
            "overflow_y": null,
            "padding": null,
            "right": null,
            "top": null,
            "visibility": null,
            "width": null
          }
        },
        "ea7fa47a30344c57996f01650b92b9f1": {
          "model_module": "@jupyter-widgets/controls",
          "model_name": "ProgressStyleModel",
          "model_module_version": "1.5.0",
          "state": {
            "_model_module": "@jupyter-widgets/controls",
            "_model_module_version": "1.5.0",
            "_model_name": "ProgressStyleModel",
            "_view_count": null,
            "_view_module": "@jupyter-widgets/base",
            "_view_module_version": "1.2.0",
            "_view_name": "StyleView",
            "bar_color": null,
            "description_width": ""
          }
        },
        "1aeada8024484f3695ecc4718896ae1d": {
          "model_module": "@jupyter-widgets/base",
          "model_name": "LayoutModel",
          "model_module_version": "1.2.0",
          "state": {
            "_model_module": "@jupyter-widgets/base",
            "_model_module_version": "1.2.0",
            "_model_name": "LayoutModel",
            "_view_count": null,
            "_view_module": "@jupyter-widgets/base",
            "_view_module_version": "1.2.0",
            "_view_name": "LayoutView",
            "align_content": null,
            "align_items": null,
            "align_self": null,
            "border": null,
            "bottom": null,
            "display": null,
            "flex": null,
            "flex_flow": null,
            "grid_area": null,
            "grid_auto_columns": null,
            "grid_auto_flow": null,
            "grid_auto_rows": null,
            "grid_column": null,
            "grid_gap": null,
            "grid_row": null,
            "grid_template_areas": null,
            "grid_template_columns": null,
            "grid_template_rows": null,
            "height": null,
            "justify_content": null,
            "justify_items": null,
            "left": null,
            "margin": null,
            "max_height": null,
            "max_width": null,
            "min_height": null,
            "min_width": null,
            "object_fit": null,
            "object_position": null,
            "order": null,
            "overflow": null,
            "overflow_x": null,
            "overflow_y": null,
            "padding": null,
            "right": null,
            "top": null,
            "visibility": null,
            "width": null
          }
        },
        "6b6fc78615cb41b1b38455f8bbc177d0": {
          "model_module": "@jupyter-widgets/controls",
          "model_name": "DescriptionStyleModel",
          "model_module_version": "1.5.0",
          "state": {
            "_model_module": "@jupyter-widgets/controls",
            "_model_module_version": "1.5.0",
            "_model_name": "DescriptionStyleModel",
            "_view_count": null,
            "_view_module": "@jupyter-widgets/base",
            "_view_module_version": "1.2.0",
            "_view_name": "StyleView",
            "description_width": ""
          }
        },
        "eb6ba1f8671f4ffa992f7ba40ceb2f87": {
          "model_module": "@jupyter-widgets/controls",
          "model_name": "HBoxModel",
          "model_module_version": "1.5.0",
          "state": {
            "_dom_classes": [],
            "_model_module": "@jupyter-widgets/controls",
            "_model_module_version": "1.5.0",
            "_model_name": "HBoxModel",
            "_view_count": null,
            "_view_module": "@jupyter-widgets/controls",
            "_view_module_version": "1.5.0",
            "_view_name": "HBoxView",
            "box_style": "",
            "children": [
              "IPY_MODEL_c403b16b1a674d069358f6eab11c6652",
              "IPY_MODEL_b3958976af214fdbb9f9d23e178d9325",
              "IPY_MODEL_37d10cec823644148501f5d2d459ff88"
            ],
            "layout": "IPY_MODEL_7c1b7901fc314010b5dff1521e214a8d"
          }
        },
        "c403b16b1a674d069358f6eab11c6652": {
          "model_module": "@jupyter-widgets/controls",
          "model_name": "HTMLModel",
          "model_module_version": "1.5.0",
          "state": {
            "_dom_classes": [],
            "_model_module": "@jupyter-widgets/controls",
            "_model_module_version": "1.5.0",
            "_model_name": "HTMLModel",
            "_view_count": null,
            "_view_module": "@jupyter-widgets/controls",
            "_view_module_version": "1.5.0",
            "_view_name": "HTMLView",
            "description": "",
            "description_tooltip": null,
            "layout": "IPY_MODEL_b0b536d18a594f428dc664bb00345ffc",
            "placeholder": "​",
            "style": "IPY_MODEL_ec6d21e6f14e4c91b6cce40868238963",
            "value": "Downloading (…)lve/main/config.json: 100%"
          }
        },
        "b3958976af214fdbb9f9d23e178d9325": {
          "model_module": "@jupyter-widgets/controls",
          "model_name": "FloatProgressModel",
          "model_module_version": "1.5.0",
          "state": {
            "_dom_classes": [],
            "_model_module": "@jupyter-widgets/controls",
            "_model_module_version": "1.5.0",
            "_model_name": "FloatProgressModel",
            "_view_count": null,
            "_view_module": "@jupyter-widgets/controls",
            "_view_module_version": "1.5.0",
            "_view_name": "ProgressView",
            "bar_style": "success",
            "description": "",
            "description_tooltip": null,
            "layout": "IPY_MODEL_db71a0b3cc154b0e89aca48c5f0de6bb",
            "max": 5047,
            "min": 0,
            "orientation": "horizontal",
            "style": "IPY_MODEL_ac010de4930741cc92ea98c8dd866697",
            "value": 5047
          }
        },
        "37d10cec823644148501f5d2d459ff88": {
          "model_module": "@jupyter-widgets/controls",
          "model_name": "HTMLModel",
          "model_module_version": "1.5.0",
          "state": {
            "_dom_classes": [],
            "_model_module": "@jupyter-widgets/controls",
            "_model_module_version": "1.5.0",
            "_model_name": "HTMLModel",
            "_view_count": null,
            "_view_module": "@jupyter-widgets/controls",
            "_view_module_version": "1.5.0",
            "_view_name": "HTMLView",
            "description": "",
            "description_tooltip": null,
            "layout": "IPY_MODEL_ee73e48d877541778c50565f9e479b13",
            "placeholder": "​",
            "style": "IPY_MODEL_cbfdc5c18e4f4801892a1f19977e2fc1",
            "value": " 5.05k/5.05k [00:00&lt;00:00, 361kB/s]"
          }
        },
        "7c1b7901fc314010b5dff1521e214a8d": {
          "model_module": "@jupyter-widgets/base",
          "model_name": "LayoutModel",
          "model_module_version": "1.2.0",
          "state": {
            "_model_module": "@jupyter-widgets/base",
            "_model_module_version": "1.2.0",
            "_model_name": "LayoutModel",
            "_view_count": null,
            "_view_module": "@jupyter-widgets/base",
            "_view_module_version": "1.2.0",
            "_view_name": "LayoutView",
            "align_content": null,
            "align_items": null,
            "align_self": null,
            "border": null,
            "bottom": null,
            "display": null,
            "flex": null,
            "flex_flow": null,
            "grid_area": null,
            "grid_auto_columns": null,
            "grid_auto_flow": null,
            "grid_auto_rows": null,
            "grid_column": null,
            "grid_gap": null,
            "grid_row": null,
            "grid_template_areas": null,
            "grid_template_columns": null,
            "grid_template_rows": null,
            "height": null,
            "justify_content": null,
            "justify_items": null,
            "left": null,
            "margin": null,
            "max_height": null,
            "max_width": null,
            "min_height": null,
            "min_width": null,
            "object_fit": null,
            "object_position": null,
            "order": null,
            "overflow": null,
            "overflow_x": null,
            "overflow_y": null,
            "padding": null,
            "right": null,
            "top": null,
            "visibility": null,
            "width": null
          }
        },
        "b0b536d18a594f428dc664bb00345ffc": {
          "model_module": "@jupyter-widgets/base",
          "model_name": "LayoutModel",
          "model_module_version": "1.2.0",
          "state": {
            "_model_module": "@jupyter-widgets/base",
            "_model_module_version": "1.2.0",
            "_model_name": "LayoutModel",
            "_view_count": null,
            "_view_module": "@jupyter-widgets/base",
            "_view_module_version": "1.2.0",
            "_view_name": "LayoutView",
            "align_content": null,
            "align_items": null,
            "align_self": null,
            "border": null,
            "bottom": null,
            "display": null,
            "flex": null,
            "flex_flow": null,
            "grid_area": null,
            "grid_auto_columns": null,
            "grid_auto_flow": null,
            "grid_auto_rows": null,
            "grid_column": null,
            "grid_gap": null,
            "grid_row": null,
            "grid_template_areas": null,
            "grid_template_columns": null,
            "grid_template_rows": null,
            "height": null,
            "justify_content": null,
            "justify_items": null,
            "left": null,
            "margin": null,
            "max_height": null,
            "max_width": null,
            "min_height": null,
            "min_width": null,
            "object_fit": null,
            "object_position": null,
            "order": null,
            "overflow": null,
            "overflow_x": null,
            "overflow_y": null,
            "padding": null,
            "right": null,
            "top": null,
            "visibility": null,
            "width": null
          }
        },
        "ec6d21e6f14e4c91b6cce40868238963": {
          "model_module": "@jupyter-widgets/controls",
          "model_name": "DescriptionStyleModel",
          "model_module_version": "1.5.0",
          "state": {
            "_model_module": "@jupyter-widgets/controls",
            "_model_module_version": "1.5.0",
            "_model_name": "DescriptionStyleModel",
            "_view_count": null,
            "_view_module": "@jupyter-widgets/base",
            "_view_module_version": "1.2.0",
            "_view_name": "StyleView",
            "description_width": ""
          }
        },
        "db71a0b3cc154b0e89aca48c5f0de6bb": {
          "model_module": "@jupyter-widgets/base",
          "model_name": "LayoutModel",
          "model_module_version": "1.2.0",
          "state": {
            "_model_module": "@jupyter-widgets/base",
            "_model_module_version": "1.2.0",
            "_model_name": "LayoutModel",
            "_view_count": null,
            "_view_module": "@jupyter-widgets/base",
            "_view_module_version": "1.2.0",
            "_view_name": "LayoutView",
            "align_content": null,
            "align_items": null,
            "align_self": null,
            "border": null,
            "bottom": null,
            "display": null,
            "flex": null,
            "flex_flow": null,
            "grid_area": null,
            "grid_auto_columns": null,
            "grid_auto_flow": null,
            "grid_auto_rows": null,
            "grid_column": null,
            "grid_gap": null,
            "grid_row": null,
            "grid_template_areas": null,
            "grid_template_columns": null,
            "grid_template_rows": null,
            "height": null,
            "justify_content": null,
            "justify_items": null,
            "left": null,
            "margin": null,
            "max_height": null,
            "max_width": null,
            "min_height": null,
            "min_width": null,
            "object_fit": null,
            "object_position": null,
            "order": null,
            "overflow": null,
            "overflow_x": null,
            "overflow_y": null,
            "padding": null,
            "right": null,
            "top": null,
            "visibility": null,
            "width": null
          }
        },
        "ac010de4930741cc92ea98c8dd866697": {
          "model_module": "@jupyter-widgets/controls",
          "model_name": "ProgressStyleModel",
          "model_module_version": "1.5.0",
          "state": {
            "_model_module": "@jupyter-widgets/controls",
            "_model_module_version": "1.5.0",
            "_model_name": "ProgressStyleModel",
            "_view_count": null,
            "_view_module": "@jupyter-widgets/base",
            "_view_module_version": "1.2.0",
            "_view_name": "StyleView",
            "bar_color": null,
            "description_width": ""
          }
        },
        "ee73e48d877541778c50565f9e479b13": {
          "model_module": "@jupyter-widgets/base",
          "model_name": "LayoutModel",
          "model_module_version": "1.2.0",
          "state": {
            "_model_module": "@jupyter-widgets/base",
            "_model_module_version": "1.2.0",
            "_model_name": "LayoutModel",
            "_view_count": null,
            "_view_module": "@jupyter-widgets/base",
            "_view_module_version": "1.2.0",
            "_view_name": "LayoutView",
            "align_content": null,
            "align_items": null,
            "align_self": null,
            "border": null,
            "bottom": null,
            "display": null,
            "flex": null,
            "flex_flow": null,
            "grid_area": null,
            "grid_auto_columns": null,
            "grid_auto_flow": null,
            "grid_auto_rows": null,
            "grid_column": null,
            "grid_gap": null,
            "grid_row": null,
            "grid_template_areas": null,
            "grid_template_columns": null,
            "grid_template_rows": null,
            "height": null,
            "justify_content": null,
            "justify_items": null,
            "left": null,
            "margin": null,
            "max_height": null,
            "max_width": null,
            "min_height": null,
            "min_width": null,
            "object_fit": null,
            "object_position": null,
            "order": null,
            "overflow": null,
            "overflow_x": null,
            "overflow_y": null,
            "padding": null,
            "right": null,
            "top": null,
            "visibility": null,
            "width": null
          }
        },
        "cbfdc5c18e4f4801892a1f19977e2fc1": {
          "model_module": "@jupyter-widgets/controls",
          "model_name": "DescriptionStyleModel",
          "model_module_version": "1.5.0",
          "state": {
            "_model_module": "@jupyter-widgets/controls",
            "_model_module_version": "1.5.0",
            "_model_name": "DescriptionStyleModel",
            "_view_count": null,
            "_view_module": "@jupyter-widgets/base",
            "_view_module_version": "1.2.0",
            "_view_name": "StyleView",
            "description_width": ""
          }
        },
        "a987d43ac2144150b3e074c208bc8d4c": {
          "model_module": "@jupyter-widgets/controls",
          "model_name": "HBoxModel",
          "model_module_version": "1.5.0",
          "state": {
            "_dom_classes": [],
            "_model_module": "@jupyter-widgets/controls",
            "_model_module_version": "1.5.0",
            "_model_name": "HBoxModel",
            "_view_count": null,
            "_view_module": "@jupyter-widgets/controls",
            "_view_module_version": "1.5.0",
            "_view_name": "HBoxView",
            "box_style": "",
            "children": [
              "IPY_MODEL_338c0cdcf2114fd0a3755fcc34a58fba",
              "IPY_MODEL_8c58b3037a494460b9473a7cc031bae5",
              "IPY_MODEL_d79eff4b1d314a48be660213741295aa"
            ],
            "layout": "IPY_MODEL_8433cec11518409e8537f9bad0eb3f32"
          }
        },
        "338c0cdcf2114fd0a3755fcc34a58fba": {
          "model_module": "@jupyter-widgets/controls",
          "model_name": "HTMLModel",
          "model_module_version": "1.5.0",
          "state": {
            "_dom_classes": [],
            "_model_module": "@jupyter-widgets/controls",
            "_model_module_version": "1.5.0",
            "_model_name": "HTMLModel",
            "_view_count": null,
            "_view_module": "@jupyter-widgets/controls",
            "_view_module_version": "1.5.0",
            "_view_name": "HTMLView",
            "description": "",
            "description_tooltip": null,
            "layout": "IPY_MODEL_a400db790e9240648f08ac23c7a1024e",
            "placeholder": "​",
            "style": "IPY_MODEL_966c5783fd5b4b079106030dad7ef32c",
            "value": "Downloading pytorch_model.bin: 100%"
          }
        },
        "8c58b3037a494460b9473a7cc031bae5": {
          "model_module": "@jupyter-widgets/controls",
          "model_name": "FloatProgressModel",
          "model_module_version": "1.5.0",
          "state": {
            "_dom_classes": [],
            "_model_module": "@jupyter-widgets/controls",
            "_model_module_version": "1.5.0",
            "_model_name": "FloatProgressModel",
            "_view_count": null,
            "_view_module": "@jupyter-widgets/controls",
            "_view_module_version": "1.5.0",
            "_view_name": "ProgressView",
            "bar_style": "success",
            "description": "",
            "description_tooltip": null,
            "layout": "IPY_MODEL_03d509fbf6764d5d92363176c91c4c24",
            "max": 17417321,
            "min": 0,
            "orientation": "horizontal",
            "style": "IPY_MODEL_860e75f613e84587bdd263072c514224",
            "value": 17417321
          }
        },
        "d79eff4b1d314a48be660213741295aa": {
          "model_module": "@jupyter-widgets/controls",
          "model_name": "HTMLModel",
          "model_module_version": "1.5.0",
          "state": {
            "_dom_classes": [],
            "_model_module": "@jupyter-widgets/controls",
            "_model_module_version": "1.5.0",
            "_model_name": "HTMLModel",
            "_view_count": null,
            "_view_module": "@jupyter-widgets/controls",
            "_view_module_version": "1.5.0",
            "_view_name": "HTMLView",
            "description": "",
            "description_tooltip": null,
            "layout": "IPY_MODEL_2b13c00496384dcfbdbbd4566a1f74b2",
            "placeholder": "​",
            "style": "IPY_MODEL_6f41faf18c5e42fe92f3d0902c911573",
            "value": " 17.4M/17.4M [00:00&lt;00:00, 143MB/s]"
          }
        },
        "8433cec11518409e8537f9bad0eb3f32": {
          "model_module": "@jupyter-widgets/base",
          "model_name": "LayoutModel",
          "model_module_version": "1.2.0",
          "state": {
            "_model_module": "@jupyter-widgets/base",
            "_model_module_version": "1.2.0",
            "_model_name": "LayoutModel",
            "_view_count": null,
            "_view_module": "@jupyter-widgets/base",
            "_view_module_version": "1.2.0",
            "_view_name": "LayoutView",
            "align_content": null,
            "align_items": null,
            "align_self": null,
            "border": null,
            "bottom": null,
            "display": null,
            "flex": null,
            "flex_flow": null,
            "grid_area": null,
            "grid_auto_columns": null,
            "grid_auto_flow": null,
            "grid_auto_rows": null,
            "grid_column": null,
            "grid_gap": null,
            "grid_row": null,
            "grid_template_areas": null,
            "grid_template_columns": null,
            "grid_template_rows": null,
            "height": null,
            "justify_content": null,
            "justify_items": null,
            "left": null,
            "margin": null,
            "max_height": null,
            "max_width": null,
            "min_height": null,
            "min_width": null,
            "object_fit": null,
            "object_position": null,
            "order": null,
            "overflow": null,
            "overflow_x": null,
            "overflow_y": null,
            "padding": null,
            "right": null,
            "top": null,
            "visibility": null,
            "width": null
          }
        },
        "a400db790e9240648f08ac23c7a1024e": {
          "model_module": "@jupyter-widgets/base",
          "model_name": "LayoutModel",
          "model_module_version": "1.2.0",
          "state": {
            "_model_module": "@jupyter-widgets/base",
            "_model_module_version": "1.2.0",
            "_model_name": "LayoutModel",
            "_view_count": null,
            "_view_module": "@jupyter-widgets/base",
            "_view_module_version": "1.2.0",
            "_view_name": "LayoutView",
            "align_content": null,
            "align_items": null,
            "align_self": null,
            "border": null,
            "bottom": null,
            "display": null,
            "flex": null,
            "flex_flow": null,
            "grid_area": null,
            "grid_auto_columns": null,
            "grid_auto_flow": null,
            "grid_auto_rows": null,
            "grid_column": null,
            "grid_gap": null,
            "grid_row": null,
            "grid_template_areas": null,
            "grid_template_columns": null,
            "grid_template_rows": null,
            "height": null,
            "justify_content": null,
            "justify_items": null,
            "left": null,
            "margin": null,
            "max_height": null,
            "max_width": null,
            "min_height": null,
            "min_width": null,
            "object_fit": null,
            "object_position": null,
            "order": null,
            "overflow": null,
            "overflow_x": null,
            "overflow_y": null,
            "padding": null,
            "right": null,
            "top": null,
            "visibility": null,
            "width": null
          }
        },
        "966c5783fd5b4b079106030dad7ef32c": {
          "model_module": "@jupyter-widgets/controls",
          "model_name": "DescriptionStyleModel",
          "model_module_version": "1.5.0",
          "state": {
            "_model_module": "@jupyter-widgets/controls",
            "_model_module_version": "1.5.0",
            "_model_name": "DescriptionStyleModel",
            "_view_count": null,
            "_view_module": "@jupyter-widgets/base",
            "_view_module_version": "1.2.0",
            "_view_name": "StyleView",
            "description_width": ""
          }
        },
        "03d509fbf6764d5d92363176c91c4c24": {
          "model_module": "@jupyter-widgets/base",
          "model_name": "LayoutModel",
          "model_module_version": "1.2.0",
          "state": {
            "_model_module": "@jupyter-widgets/base",
            "_model_module_version": "1.2.0",
            "_model_name": "LayoutModel",
            "_view_count": null,
            "_view_module": "@jupyter-widgets/base",
            "_view_module_version": "1.2.0",
            "_view_name": "LayoutView",
            "align_content": null,
            "align_items": null,
            "align_self": null,
            "border": null,
            "bottom": null,
            "display": null,
            "flex": null,
            "flex_flow": null,
            "grid_area": null,
            "grid_auto_columns": null,
            "grid_auto_flow": null,
            "grid_auto_rows": null,
            "grid_column": null,
            "grid_gap": null,
            "grid_row": null,
            "grid_template_areas": null,
            "grid_template_columns": null,
            "grid_template_rows": null,
            "height": null,
            "justify_content": null,
            "justify_items": null,
            "left": null,
            "margin": null,
            "max_height": null,
            "max_width": null,
            "min_height": null,
            "min_width": null,
            "object_fit": null,
            "object_position": null,
            "order": null,
            "overflow": null,
            "overflow_x": null,
            "overflow_y": null,
            "padding": null,
            "right": null,
            "top": null,
            "visibility": null,
            "width": null
          }
        },
        "860e75f613e84587bdd263072c514224": {
          "model_module": "@jupyter-widgets/controls",
          "model_name": "ProgressStyleModel",
          "model_module_version": "1.5.0",
          "state": {
            "_model_module": "@jupyter-widgets/controls",
            "_model_module_version": "1.5.0",
            "_model_name": "ProgressStyleModel",
            "_view_count": null,
            "_view_module": "@jupyter-widgets/base",
            "_view_module_version": "1.2.0",
            "_view_name": "StyleView",
            "bar_color": null,
            "description_width": ""
          }
        },
        "2b13c00496384dcfbdbbd4566a1f74b2": {
          "model_module": "@jupyter-widgets/base",
          "model_name": "LayoutModel",
          "model_module_version": "1.2.0",
          "state": {
            "_model_module": "@jupyter-widgets/base",
            "_model_module_version": "1.2.0",
            "_model_name": "LayoutModel",
            "_view_count": null,
            "_view_module": "@jupyter-widgets/base",
            "_view_module_version": "1.2.0",
            "_view_name": "LayoutView",
            "align_content": null,
            "align_items": null,
            "align_self": null,
            "border": null,
            "bottom": null,
            "display": null,
            "flex": null,
            "flex_flow": null,
            "grid_area": null,
            "grid_auto_columns": null,
            "grid_auto_flow": null,
            "grid_auto_rows": null,
            "grid_column": null,
            "grid_gap": null,
            "grid_row": null,
            "grid_template_areas": null,
            "grid_template_columns": null,
            "grid_template_rows": null,
            "height": null,
            "justify_content": null,
            "justify_items": null,
            "left": null,
            "margin": null,
            "max_height": null,
            "max_width": null,
            "min_height": null,
            "min_width": null,
            "object_fit": null,
            "object_position": null,
            "order": null,
            "overflow": null,
            "overflow_x": null,
            "overflow_y": null,
            "padding": null,
            "right": null,
            "top": null,
            "visibility": null,
            "width": null
          }
        },
        "6f41faf18c5e42fe92f3d0902c911573": {
          "model_module": "@jupyter-widgets/controls",
          "model_name": "DescriptionStyleModel",
          "model_module_version": "1.5.0",
          "state": {
            "_model_module": "@jupyter-widgets/controls",
            "_model_module_version": "1.5.0",
            "_model_name": "DescriptionStyleModel",
            "_view_count": null,
            "_view_module": "@jupyter-widgets/base",
            "_view_module_version": "1.2.0",
            "_view_name": "StyleView",
            "description_width": ""
          }
        }
      }
    }
  },
  "nbformat": 4,
  "nbformat_minor": 5
}